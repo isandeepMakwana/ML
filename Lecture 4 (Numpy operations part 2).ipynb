{
 "cells": [
  {
   "cell_type": "markdown",
   "id": "98bf482d",
   "metadata": {},
   "source": [
    "\n",
    "# Transponse"
   ]
  },
  {
   "cell_type": "code",
   "execution_count": 1,
   "id": "c7cca9f6",
   "metadata": {},
   "outputs": [],
   "source": [
    "import numpy"
   ]
  },
  {
   "cell_type": "code",
   "execution_count": 2,
   "id": "5e3082a5",
   "metadata": {},
   "outputs": [
    {
     "name": "stdout",
     "output_type": "stream",
     "text": [
      "a\n",
      " [[10 20 30 40]\n",
      " [50 60 70 80]]\n",
      "b\n",
      " [[10 50]\n",
      " [20 60]\n",
      " [30 70]\n",
      " [40 80]]\n"
     ]
    }
   ],
   "source": [
    "\n",
    "a = numpy.matrix(((10,20,30,40),(50,60,70,80)))\n",
    "print('a\\n' , a)\n",
    "b = numpy.transpose(a)\n",
    "print('b\\n' ,b)"
   ]
  },
  {
   "cell_type": "markdown",
   "id": "bfe10b34",
   "metadata": {},
   "source": [
    "# Inverse"
   ]
  },
  {
   "cell_type": "code",
   "execution_count": 3,
   "id": "df7c340c",
   "metadata": {},
   "outputs": [
    {
     "name": "stdout",
     "output_type": "stream",
     "text": [
      "a\n",
      " [[10 20]\n",
      " [30 40]]\n",
      "inverse a\n",
      " [[-0.2   0.1 ]\n",
      " [ 0.15 -0.05]]\n"
     ]
    }
   ],
   "source": [
    "a = numpy.matrix(((10,20),(30,40)))\n",
    "b = numpy.linalg.inv(a)\n",
    "#          linear algebra inverse\n",
    "print('a\\n' ,a)\n",
    "print('inverse a\\n' ,b)\n"
   ]
  },
  {
   "cell_type": "markdown",
   "id": "7542a4e2",
   "metadata": {},
   "source": [
    "# identity matrix"
   ]
  },
  {
   "cell_type": "code",
   "execution_count": 4,
   "id": "b62dea3e",
   "metadata": {},
   "outputs": [
    {
     "name": "stdout",
     "output_type": "stream",
     "text": [
      "identity matrix\n",
      " [[1.0000000e+00 0.0000000e+00]\n",
      " [4.4408921e-16 1.0000000e+00]]\n"
     ]
    }
   ],
   "source": [
    "c=a*b\n",
    "print('identity matrix\\n' , c)\n"
   ]
  },
  {
   "cell_type": "markdown",
   "id": "4fada5b6",
   "metadata": {},
   "source": [
    "# get x , y"
   ]
  },
  {
   "cell_type": "raw",
   "id": "e4a4a465",
   "metadata": {},
   "source": [
    "x = 5  y =2\n",
    "2x+5y =20\n",
    "3x+10y = 35\n",
    "[[2,5]         [[x]       = 20\n",
    " [3,10]]        [y]].     = 30\n",
    "  i               j       =  k\n",
    "                   j      = i-1Xk\n",
    "                  \n",
    "                            inv of i X k"
   ]
  },
  {
   "cell_type": "code",
   "execution_count": 5,
   "id": "1d1e8585",
   "metadata": {},
   "outputs": [
    {
     "name": "stdout",
     "output_type": "stream",
     "text": [
      "a\n",
      " [[ 2  5]\n",
      " [ 3 10]]\n",
      "b\n",
      " [[20]\n",
      " [35]]\n",
      "inv of a\n",
      " [[ 2.  -1. ]\n",
      " [-0.6  0.4]]\n",
      "d\n",
      " [[5.]\n",
      " [2.]]\n"
     ]
    }
   ],
   "source": [
    "a= numpy.matrix(((2,5),(3,10)))\n",
    "b= numpy.matrix(((20,),(35,)))\n",
    "c= numpy.linalg.inv(a)\n",
    "print('a\\n',a)\n",
    "print('b\\n',b)\n",
    "print('inv of a\\n',c)\n",
    "d=c*b\n",
    "print('d\\n', d)"
   ]
  },
  {
   "cell_type": "markdown",
   "id": "13ec2c51",
   "metadata": {},
   "source": [
    "# identity matrix"
   ]
  },
  {
   "cell_type": "code",
   "execution_count": 6,
   "id": "7d76bbca",
   "metadata": {},
   "outputs": [
    {
     "name": "stdout",
     "output_type": "stream",
     "text": [
      "identity matrix\n",
      " [[1. 0. 0. 0. 0. 0. 0. 0. 0. 0.]\n",
      " [0. 1. 0. 0. 0. 0. 0. 0. 0. 0.]\n",
      " [0. 0. 1. 0. 0. 0. 0. 0. 0. 0.]\n",
      " [0. 0. 0. 1. 0. 0. 0. 0. 0. 0.]\n",
      " [0. 0. 0. 0. 1. 0. 0. 0. 0. 0.]\n",
      " [0. 0. 0. 0. 0. 1. 0. 0. 0. 0.]\n",
      " [0. 0. 0. 0. 0. 0. 1. 0. 0. 0.]\n",
      " [0. 0. 0. 0. 0. 0. 0. 1. 0. 0.]\n",
      " [0. 0. 0. 0. 0. 0. 0. 0. 1. 0.]\n",
      " [0. 0. 0. 0. 0. 0. 0. 0. 0. 1.]]\n"
     ]
    }
   ],
   "source": [
    "a = numpy.identity(10)\n",
    "print('identity matrix\\n',a)\n"
   ]
  },
  {
   "cell_type": "markdown",
   "id": "03c35e0f",
   "metadata": {},
   "source": [
    "# save numpy matrix"
   ]
  },
  {
   "cell_type": "code",
   "execution_count": 12,
   "id": "d38edbb7",
   "metadata": {},
   "outputs": [],
   "source": [
    "import numpy\n",
    "a=numpy.matrix(((10,20,30,40),(50,60,70,80),(90,100,110,120)))\n",
    "numpy.save('amat',a)"
   ]
  },
  {
   "cell_type": "code",
   "execution_count": 14,
   "id": "ef25c588",
   "metadata": {},
   "outputs": [
    {
     "name": "stdout",
     "output_type": "stream",
     "text": [
      "[[ 10  20  30  40]\n",
      " [ 50  60  70  80]\n",
      " [ 90 100 110 120]]\n"
     ]
    }
   ],
   "source": [
    "#load the file\n",
    "a=numpy.load('amat.npy')\n",
    "print(a)"
   ]
  },
  {
   "cell_type": "markdown",
   "id": "312edfc2",
   "metadata": {},
   "source": [
    "# store in txt file"
   ]
  },
  {
   "cell_type": "code",
   "execution_count": 16,
   "id": "763398ca",
   "metadata": {},
   "outputs": [],
   "source": [
    "a = numpy.matrix(((10,20),(30,40)))\n",
    "numpy.savetxt('saveTxt',a)"
   ]
  },
  {
   "cell_type": "code",
   "execution_count": 17,
   "id": "61a23054",
   "metadata": {},
   "outputs": [
    {
     "name": "stdout",
     "output_type": "stream",
     "text": [
      "[[10. 20.]\n",
      " [30. 40.]]\n"
     ]
    }
   ],
   "source": [
    "#load txt file\n",
    "a=numpy.loadtxt('saveTxt')\n",
    "print(a)"
   ]
  },
  {
   "cell_type": "code",
   "execution_count": null,
   "id": "28c0c721",
   "metadata": {},
   "outputs": [],
   "source": []
  },
  {
   "cell_type": "code",
   "execution_count": null,
   "id": "628f35ab",
   "metadata": {},
   "outputs": [],
   "source": []
  },
  {
   "cell_type": "code",
   "execution_count": null,
   "id": "eda0c477",
   "metadata": {},
   "outputs": [],
   "source": []
  },
  {
   "cell_type": "code",
   "execution_count": null,
   "id": "dadae44d",
   "metadata": {},
   "outputs": [],
   "source": []
  },
  {
   "cell_type": "code",
   "execution_count": null,
   "id": "e022d034",
   "metadata": {},
   "outputs": [],
   "source": []
  }
 ],
 "metadata": {
  "kernelspec": {
   "display_name": "Python 3 (ipykernel)",
   "language": "python",
   "name": "python3"
  },
  "language_info": {
   "codemirror_mode": {
    "name": "ipython",
    "version": 3
   },
   "file_extension": ".py",
   "mimetype": "text/x-python",
   "name": "python",
   "nbconvert_exporter": "python",
   "pygments_lexer": "ipython3",
   "version": "3.10.2"
  }
 },
 "nbformat": 4,
 "nbformat_minor": 5
}
