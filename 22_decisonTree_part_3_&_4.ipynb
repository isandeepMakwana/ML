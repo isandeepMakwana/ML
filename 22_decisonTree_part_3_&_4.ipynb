{
 "cells": [
  {
   "cell_type": "markdown",
   "source": [
    "Based on \n",
    "the algo now we need to break next based on the features highest information gain\n",
    "following of over previous code:\n",
    "- base_entropy = 0.9886994082884974\n",
    "- f1_information_gain = 0.10584334459644862\n",
    "- f2_information_gain = 0.09353165849888101\n",
    "- f3_information_gain = 05360387588159632\n",
    "\n",
    "> The highest information gained feature is f1 \n",
    "so we need to break next based on the f1\n"
   ],
   "metadata": {
    "collapsed": false
   }
  },
  {
   "cell_type": "code",
   "execution_count": null,
   "outputs": [],
   "source": [],
   "metadata": {
    "collapsed": false
   }
  }
 ],
 "metadata": {
  "kernelspec": {
   "display_name": "Python 3",
   "language": "python",
   "name": "python3"
  },
  "language_info": {
   "name": "python",
   "version": "3.11.1"
  },
  "orig_nbformat": 4,
  "vscode": {
   "interpreter": {
    "hash": "5c7b89af1651d0b8571dde13640ecdccf7d5a6204171d6ab33e7c296e100e08a"
   }
  }
 },
 "nbformat": 4,
 "nbformat_minor": 2
}
