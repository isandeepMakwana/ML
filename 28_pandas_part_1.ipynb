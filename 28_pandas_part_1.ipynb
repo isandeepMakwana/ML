{
 "cells": [
  {
   "attachments": {},
   "cell_type": "markdown",
   "metadata": {},
   "source": [
    "# Pandas DataFrame\n",
    "[download demo data](https://thinkingmachines.in/downloads/data26.zip)\n",
    "- tsv  tab sepreated value\n",
    "- csv comma sepreated value"
   ]
  },
  {
   "cell_type": "code",
   "execution_count": null,
   "metadata": {},
   "outputs": [],
   "source": [
    "import pandas\n",
    "dataFrame = pandas.read_csv(\"data/data26/video26_dataset_1.tsv\" , sep='\\t')\n",
    "print(dataFrame)"
   ]
  },
  {
   "cell_type": "code",
   "execution_count": null,
   "metadata": {},
   "outputs": [],
   "source": [
    "import pandas\n",
    "dataFrame = pandas.read_csv(\"data/data26/video26_dataset_1.tsv\",sep=\"\\t\")\n",
    "# print(dataFrame)\n",
    "print(type(dataFrame))\n",
    "print(dataFrame.shape) # size of dataframe in matrix\n",
    "print(dataFrame.columns) # columns of dataframe \n",
    "print(type(dataFrame.columns))\n",
    "print(dataFrame.dtypes) # print datatypes of columns\n",
    "print(type(dataFrame.dtypes))\n",
    "print(dataFrame.info()) # provides informations\n",
    "\n",
    "\n"
   ]
  },
  {
   "cell_type": "code",
   "execution_count": null,
   "metadata": {},
   "outputs": [],
   "source": [
    "country = dataFrame['country']\n",
    "print(country)\n",
    "print(type(country))\n",
    "countries = set(dataFrame['country'])\n",
    "# print(countries)\n",
    "print(type(countries))\n",
    "for c in countries: print(c)"
   ]
  },
  {
   "cell_type": "code",
   "execution_count": null,
   "metadata": {},
   "outputs": [],
   "source": [
    "a = dataFrame[[\"country\" , \"year\"]]\n",
    "print(a.head())\n",
    "print(a.tail())\n",
    "print(a.iloc[4]) # 4 index data\n",
    "print(dataFrame.iloc[4])\n",
    "print(list(dataFrame.iloc[4]))"
   ]
  },
  {
   "cell_type": "code",
   "execution_count": null,
   "metadata": {},
   "outputs": [],
   "source": [
    "print(dataFrame.iloc[:,0]) # 0 index se all data\n",
    "print(dataFrame.iloc[range(0,10,2)])\n",
    "# iloc  loc  ix\n",
    "print(\"*\"*50)"
   ]
  },
  {
   "attachments": {},
   "cell_type": "markdown",
   "metadata": {},
   "source": [
    "### group by\n"
   ]
  },
  {
   "cell_type": "code",
   "execution_count": null,
   "metadata": {},
   "outputs": [],
   "source": [
    "print(dataFrame.groupby(\"country\")[\"pop\"].count())\n",
    "print(dataFrame.groupby(\"country\")[\"pop\"].sum())\n",
    "# print(dataFrame.groupby(\"country\").sum()[\"pop\"])\n",
    "\n",
    "# SQL -->  select sum(population) from country group by name\n",
    "print(dataFrame.groupby(\"country\").sum())"
   ]
  },
  {
   "attachments": {},
   "cell_type": "markdown",
   "metadata": {},
   "source": [
    "### Create DataFrame\n"
   ]
  },
  {
   "cell_type": "code",
   "execution_count": null,
   "metadata": {},
   "outputs": [],
   "source": [
    "import pandas\n",
    "myDataFrame = pandas.DataFrame(\n",
    "    {\n",
    "        \"roll_number\":[101,102,103,104,105],\n",
    "        \"name\":[\"Sameer\",\"Sudhir\",\"Sandeep\",\"pankaj\",\"Rahul\"],\n",
    "        \"city\":[\"Ujjain\",\"Indore\",\"Shajapur\",\"Indore\",\"Mumbai\"]\n",
    "    }\n",
    ")\n",
    "print(myDataFrame)\n",
    "print(myDataFrame.info())"
   ]
  },
  {
   "attachments": {},
   "cell_type": "markdown",
   "metadata": {},
   "source": [
    "#### SQL --> JOIN\n",
    "### merge to dataFrame with inner (join)"
   ]
  },
  {
   "cell_type": "code",
   "execution_count": null,
   "metadata": {},
   "outputs": [],
   "source": [
    "import pandas\n",
    "\n",
    "citiesDataFrame=pandas.DataFrame(\n",
    "    {\n",
    "        \"city_code\":[1,2,3,4,5,6],\n",
    "        \"city_name\":[\"Ujjain\",\"Dewas\",\"Indore\",\"Mumbai\",\"Pune\",\"Goa\"]\n",
    "    }\n",
    ")\n",
    "\n",
    "studentsDataFrame=pandas.DataFrame(\n",
    "    {\n",
    "        \"student_roll_number\":[101,102,103,204],\n",
    "        \"student_name\":[\"Sameer\",\"Sudhir\",\"pankaj\",\"Rahul\"],\n",
    "        \"city_code\":[1,2,2,4]\n",
    "    }\n",
    ")\n",
    "\n",
    "stud = pandas.merge(studentsDataFrame,citiesDataFrame, how=\"inner\",on=[\"city_code\"])\n",
    "\n",
    "print(stud)"
   ]
  },
  {
   "cell_type": "code",
   "execution_count": null,
   "metadata": {},
   "outputs": [],
   "source": [
    "# left join , right join\n",
    "stud = pandas.merge(studentsDataFrame,citiesDataFrame, how=\"left\",on=[\"city_code\"])\n",
    "\n",
    "print(stud)\n",
    "\n",
    "stud = pandas.merge(studentsDataFrame,citiesDataFrame, how=\"right\",on=[\"city_code\"])\n",
    "\n",
    "print(stud)\n"
   ]
  },
  {
   "attachments": {},
   "cell_type": "markdown",
   "metadata": {},
   "source": [
    "---\n",
    "# Assignment \n",
    "* spandas.series\n",
    "* iloc\n",
    "* loc\n",
    "* nunique\n"
   ]
  },
  {
   "attachments": {},
   "cell_type": "markdown",
   "metadata": {},
   "source": [
    "#### iloc \n",
    "* Access a group of rows and columns by integer position(s).\n",
    "* Purely integer-location based indexing for selection by position."
   ]
  },
  {
   "cell_type": "code",
   "execution_count": null,
   "metadata": {},
   "outputs": [],
   "source": [
    "# iloc\n",
    "import pandas\n",
    "dataFrame = pandas.read_csv(\"data/data26/video26_dataset_1.tsv\" , sep='\\t')\n",
    "print(dataFrame.iloc[0]) # 0 index ka data matlab ==> zeroth row\n",
    "lst=list(dataFrame.iloc[0])\n",
    "print(dataFrame.iloc[[0]]) # 0 index ka data matlab ==> zeroth row\n",
    "# lst2=dataFrame.iloc[[True,False,True]]\n",
    "lst2=dataFrame.iloc[lambda x: x.index % 2 == 0]\n",
    "# print(lst)\n",
    "print(lst2)"
   ]
  },
  {
   "cell_type": "code",
   "execution_count": null,
   "metadata": {},
   "outputs": [],
   "source": [
    "# print(dataFrame.iloc[4])\n",
    "a=dataFrame.iloc[4,1] #4th row ka 1 index\n",
    "print(a)\n",
    "print(type(dataFrame.iloc[4,1]))\n",
    "print(dataFrame.iloc[[0,4]]) # 0th row and 4th row\n",
    "print(type(dataFrame.iloc[[0,4]])) # 0th row and 4th row\n",
    "\n",
    "print((dataFrame.iloc[[0,4]][['country','year']]))\n"
   ]
  },
  {
   "cell_type": "code",
   "execution_count": null,
   "metadata": {},
   "outputs": [],
   "source": [
    "print(dataFrame.iloc[:3])\n",
    "print(dataFrame.iloc[[0,2],[1,3]])\n",
    "print(dataFrame.iloc[1:3,0:3])"
   ]
  },
  {
   "cell_type": "code",
   "execution_count": null,
   "metadata": {},
   "outputs": [],
   "source": [
    "print(dataFrame.iloc[:,[True,False,True,False,False,False]])\n",
    "print(dataFrame.iloc[: , lambda x : [1,2]])"
   ]
  },
  {
   "attachments": {},
   "cell_type": "markdown",
   "metadata": {},
   "source": [
    "### loc\n",
    "* Access a group of rows and columns by label(s) or a boolean array.\n",
    "* Purely label-location based indexer for selection by label."
   ]
  },
  {
   "cell_type": "code",
   "execution_count": null,
   "metadata": {},
   "outputs": [],
   "source": [
    "dataFrame = pandas.read_csv('data/data26/video26_dataset_1.tsv',sep=\"\\t\")\n",
    "# print(dataFrame)\n",
    "# print(dataFrame['year'])\n",
    "print(dataFrame.index) # RangeIndex(start=0, stop=1704, step=1)\n",
    "print(list(dataFrame.loc[5]))\n",
    "print(list(dataFrame.iloc[5]))"
   ]
  },
  {
   "cell_type": "code",
   "execution_count": null,
   "metadata": {},
   "outputs": [],
   "source": [
    "print(dataFrame.iloc[[5,1]])\n",
    "print(dataFrame.loc[[5,1]])"
   ]
  },
  {
   "cell_type": "code",
   "execution_count": null,
   "metadata": {},
   "outputs": [],
   "source": [
    "# print(dataFrame.iloc[0,'year']) not accept the string value , not aplicable\n",
    "print(dataFrame.loc[5,'year']) # 5th index ka year\n",
    "print(dataFrame.loc[0:5,'year'],)\n",
    "print(dataFrame.loc[0:5,['year','country']])\n",
    "# print(type(dataFrame.iloc[:5][['year','country']]))\n",
    "print(type(dataFrame.loc[:5,['year','country']]))\n",
    "\n",
    "\n"
   ]
  },
  {
   "cell_type": "code",
   "execution_count": null,
   "metadata": {},
   "outputs": [],
   "source": [
    "dataFrame.loc[pandas.Index([0,1],name=\"foo\")]\n"
   ]
  },
  {
   "attachments": {},
   "cell_type": "markdown",
   "metadata": {},
   "source": [
    "> #### spacial things"
   ]
  },
  {
   "cell_type": "code",
   "execution_count": null,
   "metadata": {},
   "outputs": [],
   "source": [
    "print(dataFrame.loc[dataFrame['year']>2000])\n",
    "print(dataFrame.loc[dataFrame['year']>2000 , ['country']])\n",
    "print(dataFrame.loc[dataFrame['year']>2000 , ['country','year']])\n",
    "\n"
   ]
  },
  {
   "cell_type": "code",
   "execution_count": null,
   "metadata": {},
   "outputs": [],
   "source": [
    "# print(dataFrame.loc[lambda df : df['year']==2002])\n",
    "dataFrame.loc[[0,1],['year']] ='2000' # set the year value 2000 for 0 and 1 index \n",
    "print(dataFrame.head())\n",
    "dataFrame.loc[:,['year']]=3000\n",
    "print(dataFrame.head())\n",
    "\n",
    "\n",
    "dataFrame.loc[0]=20 # set all value of 0 index into 20 \n",
    "print(dataFrame.head())\n",
    "\n",
    "dataFrame.loc[dataFrame['year']< 2000] = 0\n",
    "print(dataFrame)"
   ]
  },
  {
   "cell_type": "code",
   "execution_count": null,
   "metadata": {},
   "outputs": [],
   "source": [
    "dataFrame.loc[7:9]"
   ]
  },
  {
   "cell_type": "code",
   "execution_count": null,
   "metadata": {},
   "outputs": [],
   "source": [
    "import pandas as pd\n",
    "tuples = [\n",
    "   ('cobra', 'mark i'), ('cobra', 'mark ii'),\n",
    "   ('sidewinder', 'mark i'), ('sidewinder', 'mark ii'),\n",
    "   ('viper', 'mark ii'), ('viper', 'mark iii')\n",
    "]\n",
    "index = pd.MultiIndex.from_tuples(tuples)\n",
    "values = [[12, 2], [0, 4], [10, 20],\n",
    "        [1, 4], [7, 1], [16, 36]]\n",
    "df = pd.DataFrame(values, columns=['max_speed', 'shield'], index=index)\n",
    "print(df)\n",
    "print(df.loc['cobra'])\n",
    "df.loc['cobra', 'mark i']\n",
    "df.loc[[('cobra', 'mark ii')]]\n",
    "df.loc[('cobra', 'mark i'), 'shield']\n",
    "df.loc[('cobra', 'mark i'):'viper']\n",
    "df.loc[('cobra', 'mark i'):('viper', 'mark ii')]\n"
   ]
  },
  {
   "attachments": {},
   "cell_type": "markdown",
   "metadata": {},
   "source": [
    "### nunique"
   ]
  },
  {
   "cell_type": "code",
   "execution_count": 29,
   "metadata": {},
   "outputs": [
    {
     "name": "stdout",
     "output_type": "stream",
     "text": [
      "A    3\n",
      "B    2\n",
      "dtype: int64\n",
      "0    1\n",
      "1    2\n",
      "2    2\n",
      "dtype: int64\n"
     ]
    }
   ],
   "source": [
    "import pandas\n",
    "dataFrame = pandas.DataFrame(\n",
    "    {'A': [4, 5, 6], 'B': [4, 1, 1]}\n",
    ")\n",
    "print(dataFrame.nunique()) # a have 3 unique item and b have 2\n",
    "print(dataFrame.nunique(axis=1)) # check unique on column\n",
    "\n"
   ]
  },
  {
   "attachments": {},
   "cell_type": "markdown",
   "metadata": {},
   "source": [
    "---\n",
    "----\n",
    ">> Extra"
   ]
  },
  {
   "cell_type": "code",
   "execution_count": 24,
   "metadata": {},
   "outputs": [],
   "source": [
    "import dask.dataframe as dd\n",
    "import os\n",
    "import sqlite3\n",
    "\n",
    "\n",
    "def IngestData(directory):\n",
    "    # list to store Dask dataframes for each file\n",
    "    dfs = [] \n",
    "     \n",
    "    for filename in os.listdir(directory):\n",
    "        if filename.endswith(\".txt\"):\n",
    "            filepath = os.path.join(directory, filename)\n",
    "            \n",
    "            # create Dask dataframe from text file\n",
    "            df = dd.read_csv(filepath, sep=\"\\t\", header=None,\n",
    "                            names=[\"Date\", \"Maxtemp\", \"Mintemp\", \"Precipitation\"])\n",
    "           \n",
    "            # add filename as new column\n",
    "            df[\"Station_ID\"] = filename[:11]\n",
    "            dfs.append(df)\n",
    "    \n",
    "    # concatenate Dask dataframes into one\n",
    "    df = dd.concat(dfs)\n",
    "    \n",
    "    # compute the final dataframe and convert to Pandas dataframe\n",
    "    df = df.compute()\n",
    "    df = df.reset_index(drop=True)\n",
    "    \n",
    "    #Drop the -9999 indicating the empty values\n",
    "    stats = df[(df['Maxtemp'] != -9999) |\n",
    "            (df['Mintemp'] != -9999) | (df['Precipitation'] != -9999)]\n",
    "\n",
    "    #creating the stats data\n",
    "    stats = stats.groupby(['Station_ID', df['Date'].map(str).str[:4]]).agg({\n",
    "        'Maxtemp': 'mean',\n",
    "        'Mintemp': 'mean',\n",
    "        'Precipitation': 'sum'\n",
    "    }).reset_index()\n",
    "    \n",
    "    stats.rename(columns={'Maxtemp': 'AvgMaxtemp',\n",
    "                        'Mintemp': 'AvgMintemp',\n",
    "                        'Precipitation': 'TotalAccPrecipitation'}, inplace=True)\n",
    "    \n",
    "    conn = sqlite3.connect('data/db.sqlite3')\n",
    "\n",
    "\n",
    "    # write data to database\n",
    "    df.to_sql(\"app_weather\", conn, if_exists=\"replace\",\n",
    "            index=True, index_label='id')\n",
    "    stats.to_sql(\"app_stats\", conn, if_exists=\"replace\",\n",
    "                index=True, index_label='id')\n",
    "    # close database connection\n",
    "    conn.close()\n",
    "    return\n",
    "    \n",
    "IngestData('data')"
   ]
  },
  {
   "cell_type": "code",
   "execution_count": null,
   "metadata": {},
   "outputs": [],
   "source": []
  }
 ],
 "metadata": {
  "kernelspec": {
   "display_name": "base",
   "language": "python",
   "name": "python3"
  },
  "language_info": {
   "codemirror_mode": {
    "name": "ipython",
    "version": 3
   },
   "file_extension": ".py",
   "mimetype": "text/x-python",
   "name": "python",
   "nbconvert_exporter": "python",
   "pygments_lexer": "ipython3",
   "version": "3.9.7"
  },
  "orig_nbformat": 4,
  "vscode": {
   "interpreter": {
    "hash": "130826a50b4030fecff09c60f733bc90a93922839765dc4abeb8c6376ff802e4"
   }
  }
 },
 "nbformat": 4,
 "nbformat_minor": 2
}
