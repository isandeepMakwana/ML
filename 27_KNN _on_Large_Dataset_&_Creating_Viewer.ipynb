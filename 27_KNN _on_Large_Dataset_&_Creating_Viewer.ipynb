{
 "cells": [
  {
   "cell_type": "code",
   "execution_count": 3,
   "metadata": {},
   "outputs": [],
   "source": [
    "# import tkinter\n",
    "# import tkinter.ttk\n",
    "# import time\n",
    "\n",
    "# window = tkinter.Tk()\n",
    "# canvas = tkinter.Canvas(master=window, width=650, height=500)\n",
    "# start = time.time_ns()\n",
    "# canvas.grid(row=0, column=0)\n",
    "# img = tkinter.PhotoImage(file=\"imageFromKNN.png\")\n",
    "# canvas.create_image(50, 20, image=img, anchor=\"nw\")\n",
    "# end = time.time_ns()\n",
    "# label = tkinter.ttk.Label(master=window,\n",
    "#                           text=f\"time = {str(round(end - start, 5))} ns\")\n",
    "# label.grid(row=1, column=0)\n",
    "# window.geometry(\"750x600\")\n",
    "# window.mainloop()"
   ]
  },
  {
   "cell_type": "code",
   "execution_count": 4,
   "metadata": {},
   "outputs": [],
   "source": [
    "# create input file \n",
    "\n",
    "# import os\n",
    "# file_name = 'data/input_file_KNN.txt'\n",
    "# with open(file_name,'w') as f:\n",
    "#     file_list = os.listdir(str(f\"{os.getcwd()}/classification-data-set/dataset-1\"))\n",
    "#     for fn in range(len(file_list)):\n",
    "#         if fn==len(file_list)-1:\n",
    "#             f.writelines(f'classification-data-set/dataset-1/{file_list[fn]}')\n",
    "#         else:\n",
    "#             f.writelines(f'classification-data-set/dataset-1/{file_list[fn]}' + '\\n')\n"
   ]
  },
  {
   "cell_type": "code",
   "execution_count": 5,
   "metadata": {},
   "outputs": [],
   "source": [
    "import matplotlib.pyplot\n",
    "import numpy\n",
    "import statistics\n",
    "import tkinter\n",
    "import tkinter.ttk\n",
    "import time\n",
    "import sys"
   ]
  },
  {
   "cell_type": "code",
   "execution_count": 6,
   "metadata": {},
   "outputs": [],
   "source": [
    "def ClassifyByKNN(*args):\n",
    "    # print(*args)\n",
    "    classesAndColors = args[len(args) - 1]\n",
    "    print('classes and colors ', classesAndColors)\n",
    "    queryX = args[len(args) - 2][0]\n",
    "    queryY = args[len(args) - 2][1]\n",
    "    query = args[len(args) - 2]\n",
    "    for i in range(len(args) - 2):\n",
    "        x, y = numpy.array(args[i]).T\n",
    "        matplotlib.pyplot.scatter(x, y, color=classesAndColors[i][1])\n",
    "    matplotlib.pyplot.plot(queryX,\n",
    "                           queryY,\n",
    "                           color=args[len(args) - 2][2],\n",
    "                           marker=\"o\",\n",
    "                           markersize=20)\n",
    "    matplotlib.pyplot.grid(True)\n",
    "    matplotlib.pyplot.savefig('imageFromKNN.png', transparent=True)\n",
    "    # matplotlib.pyplot.show()\n",
    "    distanceList = []\n",
    "    for i in range(len(args) - 2):\n",
    "        for p in args[i]:\n",
    "            sumOfSquares = 0\n",
    "            qi = 0\n",
    "            ep = len(query) - 2\n",
    "            while qi <= ep:\n",
    "                qd = (p[qi] - query[qi])**2\n",
    "                sumOfSquares += qd\n",
    "                qi += 1\n",
    "            distance = math.sqrt(sumOfSquares)\n",
    "            #xd = abs(p[0]-queryX)\n",
    "            #yd = abs(p[1]-queryY)\n",
    "            # distance = math.sqrt(xd**2+yd**2)\n",
    "            distanceList.append((classesAndColors[i][0], distance))\n",
    "    # print('Calculated Distances : ', distanceList)\n",
    "    distanceList.sort(key=lambda x: x[1])\n",
    "    print(\"*\" * 50)\n",
    "    print(len(distanceList))\n",
    "    kFactor = int(math.sqrt(len(distanceList)))\n",
    "    if kFactor % len(classesAndColors) == 0:\n",
    "        kFactor += 1\n",
    "    if kFactor % 2 == 0:\n",
    "        kFactor += 1\n",
    "    kElements = distanceList[:kFactor]\n",
    "    print(\"*\" * 50)\n",
    "    # print(kElements)\n",
    "    classes = [x[0] for x in kElements]\n",
    "    return statistics.mode(classes)\n"
   ]
  },
  {
   "cell_type": "code",
   "execution_count": 7,
   "metadata": {},
   "outputs": [
    {
     "name": "stdout",
     "output_type": "stream",
     "text": [
      "error :  [Errno 2] No such file or directory: '-f'\n",
      "Usages : python3 eg1.py <input_file.txt>\n"
     ]
    }
   ],
   "source": [
    "try:\n",
    "    start = time.time()  #======================\n",
    "    window = tkinter.Tk()\n",
    "    canvas = tkinter.Canvas(master=window, width=650, height=500)\n",
    "    canvas.grid(row=0, column=0)\n",
    "    file_name = sys.argv[1]\n",
    "    # file_name = 'data/input_file_KNN.txt'\n",
    "    f = open(file_name, 'r')\n",
    "    file_list = f.readlines()\n",
    "    f.close()\n",
    "    datasets = []\n",
    "    for i in file_list:\n",
    "        lst = []\n",
    "        with open(i.strip('\\n'), 'r') as f:\n",
    "            lst.extend(\n",
    "                tuple(int(j) for j in data.strip('\\n').lstrip().split())\n",
    "                for data in f)\n",
    "        datasets.append(lst)\n",
    "    print(len(datasets))\n",
    "    c = ClassifyByKNN(*datasets, (80, 100, \"k\"),\n",
    "                      ((\"A\", \"b\"), (\"B\", \"r\"), (\"C\", \"g\"), (\"D\", \"#8E44AD\")))\n",
    "    print(f\"(80,100) belongs to {c}\")\n",
    "    img = tkinter.PhotoImage(file=\"imageFromKNN.png\")\n",
    "    canvas.create_image(50, 20, image=img, anchor=\"nw\")\n",
    "    end = time.time()\n",
    "    label = tkinter.ttk.Label(master=window,\n",
    "                              text=f\"time = {str(round(end - start, 5))}\")\n",
    "    label.grid(row=1, column=0)\n",
    "    window.geometry(\"750x600\")\n",
    "    window.mainloop()\n",
    "except Exception as e:\n",
    "    print(\"error : \", e)\n",
    "    print(\"Usages : python3 eg1.py <input_file.txt>\")"
   ]
  }
 ],
 "metadata": {
  "kernelspec": {
   "display_name": "base",
   "language": "python",
   "name": "python3"
  },
  "language_info": {
   "codemirror_mode": {
    "name": "ipython",
    "version": 3
   },
   "file_extension": ".py",
   "mimetype": "text/x-python",
   "name": "python",
   "nbconvert_exporter": "python",
   "pygments_lexer": "ipython3",
   "version": "3.9.7"
  },
  "orig_nbformat": 4,
  "vscode": {
   "interpreter": {
    "hash": "130826a50b4030fecff09c60f733bc90a93922839765dc4abeb8c6376ff802e4"
   }
  }
 },
 "nbformat": 4,
 "nbformat_minor": 2
}
