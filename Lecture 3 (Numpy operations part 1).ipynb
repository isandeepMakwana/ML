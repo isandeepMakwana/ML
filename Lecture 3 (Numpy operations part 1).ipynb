{
 "cells": [
  {
   "cell_type": "markdown",
   "metadata": {},
   "source": [
    "# Matrix operations"
   ]
  },
  {
   "cell_type": "code",
   "execution_count": 3,
   "metadata": {
    "scrolled": true
   },
   "outputs": [
    {
     "name": "stdout",
     "output_type": "stream",
     "text": [
      "a\n",
      " [[10 20 30]\n",
      " [ 4  3  4]]\n",
      "b\n",
      " [[1 2]\n",
      " [3 4]\n",
      " [5 6]]\n",
      "a*b\n",
      " [[220 280]\n",
      " [ 33  44]]\n"
     ]
    }
   ],
   "source": [
    "import numpy\n",
    "a = numpy.matrix(((10 , 20 ,30),(4,3,4)))\n",
    "b = numpy.matrix(((1,2),(3,4),(5,6)))\n",
    "print('a\\n' ,a)\n",
    "print('b\\n' ,b)\n",
    "c=a*b\n",
    "print('a*b\\n' ,c)\n"
   ]
  },
  {
   "cell_type": "markdown",
   "metadata": {},
   "source": [
    "- m1 row(2)*clumn(3)\n",
    "- m2   row(3)*column(2)\n",
    " ==> result matrix is 2 * 2 \n",
    "` the matix is valdate in m1_clumn(3)==m2_row(3)`"
   ]
  },
  {
   "cell_type": "code",
   "execution_count": 4,
   "metadata": {},
   "outputs": [
    {
     "name": "stdout",
     "output_type": "stream",
     "text": [
      "a\n",
      " [[10 20 30]\n",
      " [ 4  3  4]]\n",
      "b\n",
      " [[1 2 3 5]\n",
      " [4 3 4 3]\n",
      " [5 6 3 4]]\n",
      "a*b\n",
      " [[240 260 200 230]\n",
      " [ 36  41  36  45]]\n"
     ]
    }
   ],
   "source": [
    "# ex 2 : \n",
    "a = numpy.matrix(((10,20,30),(4,3,4)))\n",
    "b= numpy.matrix(((1,2,3,5),(4,3,4,3),(5,6,3,4)))\n",
    "print('a\\n' , a)\n",
    "print('b\\n' ,b)\n",
    "c = a*b\n",
    "print('a*b\\n' ,c)\n",
    "\n"
   ]
  },
  {
   "cell_type": "code",
   "execution_count": 5,
   "metadata": {},
   "outputs": [
    {
     "name": "stdout",
     "output_type": "stream",
     "text": [
      "a\n",
      " [[10 20 30]\n",
      " [ 4  3  4]]\n",
      "b\n",
      " [[1 2 3 5]\n",
      " [4 3 4 3]]\n"
     ]
    },
    {
     "ename": "ValueError",
     "evalue": "shapes (2,3) and (2,4) not aligned: 3 (dim 1) != 2 (dim 0)",
     "output_type": "error",
     "traceback": [
      "\u001b[0;31m---------------------------------------------------------------------------\u001b[0m",
      "\u001b[0;31mValueError\u001b[0m                                Traceback (most recent call last)",
      "\u001b[0;32m/var/folders/r3/j_j89gws7_z37_tf3yjldclr0000gn/T/ipykernel_13514/3446080544.py\u001b[0m in \u001b[0;36m<module>\u001b[0;34m\u001b[0m\n\u001b[1;32m      4\u001b[0m \u001b[0mprint\u001b[0m\u001b[0;34m(\u001b[0m\u001b[0;34m'a\\n'\u001b[0m \u001b[0;34m,\u001b[0m \u001b[0ma\u001b[0m\u001b[0;34m)\u001b[0m\u001b[0;34m\u001b[0m\u001b[0;34m\u001b[0m\u001b[0m\n\u001b[1;32m      5\u001b[0m \u001b[0mprint\u001b[0m\u001b[0;34m(\u001b[0m\u001b[0;34m'b\\n'\u001b[0m \u001b[0;34m,\u001b[0m\u001b[0mb\u001b[0m\u001b[0;34m)\u001b[0m\u001b[0;34m\u001b[0m\u001b[0;34m\u001b[0m\u001b[0m\n\u001b[0;32m----> 6\u001b[0;31m \u001b[0mc\u001b[0m \u001b[0;34m=\u001b[0m \u001b[0ma\u001b[0m\u001b[0;34m*\u001b[0m\u001b[0mb\u001b[0m\u001b[0;34m\u001b[0m\u001b[0;34m\u001b[0m\u001b[0m\n\u001b[0m\u001b[1;32m      7\u001b[0m \u001b[0mprint\u001b[0m\u001b[0;34m(\u001b[0m\u001b[0;34m'a*b\\n'\u001b[0m \u001b[0;34m,\u001b[0m\u001b[0mc\u001b[0m\u001b[0;34m)\u001b[0m\u001b[0;34m\u001b[0m\u001b[0;34m\u001b[0m\u001b[0m\n",
      "\u001b[0;32m~/opt/anaconda3/lib/python3.9/site-packages/numpy/matrixlib/defmatrix.py\u001b[0m in \u001b[0;36m__mul__\u001b[0;34m(self, other)\u001b[0m\n\u001b[1;32m    216\u001b[0m         \u001b[0;32mif\u001b[0m \u001b[0misinstance\u001b[0m\u001b[0;34m(\u001b[0m\u001b[0mother\u001b[0m\u001b[0;34m,\u001b[0m \u001b[0;34m(\u001b[0m\u001b[0mN\u001b[0m\u001b[0;34m.\u001b[0m\u001b[0mndarray\u001b[0m\u001b[0;34m,\u001b[0m \u001b[0mlist\u001b[0m\u001b[0;34m,\u001b[0m \u001b[0mtuple\u001b[0m\u001b[0;34m)\u001b[0m\u001b[0;34m)\u001b[0m \u001b[0;34m:\u001b[0m\u001b[0;34m\u001b[0m\u001b[0;34m\u001b[0m\u001b[0m\n\u001b[1;32m    217\u001b[0m             \u001b[0;31m# This promotes 1-D vectors to row vectors\u001b[0m\u001b[0;34m\u001b[0m\u001b[0;34m\u001b[0m\u001b[0m\n\u001b[0;32m--> 218\u001b[0;31m             \u001b[0;32mreturn\u001b[0m \u001b[0mN\u001b[0m\u001b[0;34m.\u001b[0m\u001b[0mdot\u001b[0m\u001b[0;34m(\u001b[0m\u001b[0mself\u001b[0m\u001b[0;34m,\u001b[0m \u001b[0masmatrix\u001b[0m\u001b[0;34m(\u001b[0m\u001b[0mother\u001b[0m\u001b[0;34m)\u001b[0m\u001b[0;34m)\u001b[0m\u001b[0;34m\u001b[0m\u001b[0;34m\u001b[0m\u001b[0m\n\u001b[0m\u001b[1;32m    219\u001b[0m         \u001b[0;32mif\u001b[0m \u001b[0misscalar\u001b[0m\u001b[0;34m(\u001b[0m\u001b[0mother\u001b[0m\u001b[0;34m)\u001b[0m \u001b[0;32mor\u001b[0m \u001b[0;32mnot\u001b[0m \u001b[0mhasattr\u001b[0m\u001b[0;34m(\u001b[0m\u001b[0mother\u001b[0m\u001b[0;34m,\u001b[0m \u001b[0;34m'__rmul__'\u001b[0m\u001b[0;34m)\u001b[0m \u001b[0;34m:\u001b[0m\u001b[0;34m\u001b[0m\u001b[0;34m\u001b[0m\u001b[0m\n\u001b[1;32m    220\u001b[0m             \u001b[0;32mreturn\u001b[0m \u001b[0mN\u001b[0m\u001b[0;34m.\u001b[0m\u001b[0mdot\u001b[0m\u001b[0;34m(\u001b[0m\u001b[0mself\u001b[0m\u001b[0;34m,\u001b[0m \u001b[0mother\u001b[0m\u001b[0;34m)\u001b[0m\u001b[0;34m\u001b[0m\u001b[0;34m\u001b[0m\u001b[0m\n",
      "\u001b[0;32m<__array_function__ internals>\u001b[0m in \u001b[0;36mdot\u001b[0;34m(*args, **kwargs)\u001b[0m\n",
      "\u001b[0;31mValueError\u001b[0m: shapes (2,3) and (2,4) not aligned: 3 (dim 1) != 2 (dim 0)"
     ]
    }
   ],
   "source": [
    "# ex 3 : \n",
    "a = numpy.matrix(((10,20,30),(4,3,4)))\n",
    "b= numpy.matrix(((1,2,3,5),(4,3,4,3)))\n",
    "print('a\\n' , a)\n",
    "print('b\\n' ,b)\n",
    "c = a*b\n",
    "print('a*b\\n' ,c)\n"
   ]
  },
  {
   "cell_type": "markdown",
   "metadata": {},
   "source": [
    "# realtime Example\n"
   ]
  },
  {
   "cell_type": "markdown",
   "metadata": {},
   "source": [
    "|class| Sports | Computer | Music |\n",
    "|-----|--------|----------|-------|\n",
    "| IX  |    5    |    10    |   15  |\n",
    "| X   |    6    |    15    |   2   |\n",
    "| XI  |    4    |    15    |   10  |\n",
    "| XII |    24   |    16    |   8   |\n",
    "\n",
    "> How much maney will be collected every month\n",
    "- Fee \n",
    "- sports 100\n",
    "- computer 200\n",
    "- music 150\n"
   ]
  },
  {
   "cell_type": "code",
   "execution_count": 6,
   "metadata": {},
   "outputs": [],
   "source": [
    "# 4X3 | 3X1 ==> Result  4X1\n",
    "import numpy"
   ]
  },
  {
   "cell_type": "code",
   "execution_count": 7,
   "metadata": {},
   "outputs": [
    {
     "name": "stdout",
     "output_type": "stream",
     "text": [
      "a\n",
      " [[ 5 10 15]\n",
      " [ 6 15  2]\n",
      " [ 4 15 10]\n",
      " [24 16  8]]\n",
      "b\n",
      " [[100 200 300]]\n"
     ]
    },
    {
     "ename": "ValueError",
     "evalue": "shapes (4,3) and (1,3) not aligned: 3 (dim 1) != 1 (dim 0)",
     "output_type": "error",
     "traceback": [
      "\u001b[0;31m---------------------------------------------------------------------------\u001b[0m",
      "\u001b[0;31mValueError\u001b[0m                                Traceback (most recent call last)",
      "\u001b[0;32m/var/folders/r3/j_j89gws7_z37_tf3yjldclr0000gn/T/ipykernel_13514/1890302281.py\u001b[0m in \u001b[0;36m<module>\u001b[0;34m\u001b[0m\n\u001b[1;32m      3\u001b[0m \u001b[0mprint\u001b[0m\u001b[0;34m(\u001b[0m\u001b[0;34m'a\\n'\u001b[0m \u001b[0;34m,\u001b[0m \u001b[0ma\u001b[0m\u001b[0;34m)\u001b[0m\u001b[0;34m\u001b[0m\u001b[0;34m\u001b[0m\u001b[0m\n\u001b[1;32m      4\u001b[0m \u001b[0mprint\u001b[0m\u001b[0;34m(\u001b[0m\u001b[0;34m'b\\n'\u001b[0m \u001b[0;34m,\u001b[0m\u001b[0mb\u001b[0m\u001b[0;34m)\u001b[0m\u001b[0;34m\u001b[0m\u001b[0;34m\u001b[0m\u001b[0m\n\u001b[0;32m----> 5\u001b[0;31m \u001b[0mc\u001b[0m \u001b[0;34m=\u001b[0m \u001b[0ma\u001b[0m\u001b[0;34m*\u001b[0m\u001b[0mb\u001b[0m\u001b[0;34m\u001b[0m\u001b[0;34m\u001b[0m\u001b[0m\n\u001b[0m\u001b[1;32m      6\u001b[0m \u001b[0mprint\u001b[0m\u001b[0;34m(\u001b[0m\u001b[0;34m'a*b\\n'\u001b[0m \u001b[0;34m,\u001b[0m\u001b[0mc\u001b[0m\u001b[0;34m)\u001b[0m\u001b[0;34m\u001b[0m\u001b[0;34m\u001b[0m\u001b[0m\n\u001b[1;32m      7\u001b[0m \u001b[0;31m# see the below the right code\u001b[0m\u001b[0;34m\u001b[0m\u001b[0;34m\u001b[0m\u001b[0m\n",
      "\u001b[0;32m~/opt/anaconda3/lib/python3.9/site-packages/numpy/matrixlib/defmatrix.py\u001b[0m in \u001b[0;36m__mul__\u001b[0;34m(self, other)\u001b[0m\n\u001b[1;32m    216\u001b[0m         \u001b[0;32mif\u001b[0m \u001b[0misinstance\u001b[0m\u001b[0;34m(\u001b[0m\u001b[0mother\u001b[0m\u001b[0;34m,\u001b[0m \u001b[0;34m(\u001b[0m\u001b[0mN\u001b[0m\u001b[0;34m.\u001b[0m\u001b[0mndarray\u001b[0m\u001b[0;34m,\u001b[0m \u001b[0mlist\u001b[0m\u001b[0;34m,\u001b[0m \u001b[0mtuple\u001b[0m\u001b[0;34m)\u001b[0m\u001b[0;34m)\u001b[0m \u001b[0;34m:\u001b[0m\u001b[0;34m\u001b[0m\u001b[0;34m\u001b[0m\u001b[0m\n\u001b[1;32m    217\u001b[0m             \u001b[0;31m# This promotes 1-D vectors to row vectors\u001b[0m\u001b[0;34m\u001b[0m\u001b[0;34m\u001b[0m\u001b[0m\n\u001b[0;32m--> 218\u001b[0;31m             \u001b[0;32mreturn\u001b[0m \u001b[0mN\u001b[0m\u001b[0;34m.\u001b[0m\u001b[0mdot\u001b[0m\u001b[0;34m(\u001b[0m\u001b[0mself\u001b[0m\u001b[0;34m,\u001b[0m \u001b[0masmatrix\u001b[0m\u001b[0;34m(\u001b[0m\u001b[0mother\u001b[0m\u001b[0;34m)\u001b[0m\u001b[0;34m)\u001b[0m\u001b[0;34m\u001b[0m\u001b[0;34m\u001b[0m\u001b[0m\n\u001b[0m\u001b[1;32m    219\u001b[0m         \u001b[0;32mif\u001b[0m \u001b[0misscalar\u001b[0m\u001b[0;34m(\u001b[0m\u001b[0mother\u001b[0m\u001b[0;34m)\u001b[0m \u001b[0;32mor\u001b[0m \u001b[0;32mnot\u001b[0m \u001b[0mhasattr\u001b[0m\u001b[0;34m(\u001b[0m\u001b[0mother\u001b[0m\u001b[0;34m,\u001b[0m \u001b[0;34m'__rmul__'\u001b[0m\u001b[0;34m)\u001b[0m \u001b[0;34m:\u001b[0m\u001b[0;34m\u001b[0m\u001b[0;34m\u001b[0m\u001b[0m\n\u001b[1;32m    220\u001b[0m             \u001b[0;32mreturn\u001b[0m \u001b[0mN\u001b[0m\u001b[0;34m.\u001b[0m\u001b[0mdot\u001b[0m\u001b[0;34m(\u001b[0m\u001b[0mself\u001b[0m\u001b[0;34m,\u001b[0m \u001b[0mother\u001b[0m\u001b[0;34m)\u001b[0m\u001b[0;34m\u001b[0m\u001b[0;34m\u001b[0m\u001b[0m\n",
      "\u001b[0;32m<__array_function__ internals>\u001b[0m in \u001b[0;36mdot\u001b[0;34m(*args, **kwargs)\u001b[0m\n",
      "\u001b[0;31mValueError\u001b[0m: shapes (4,3) and (1,3) not aligned: 3 (dim 1) != 1 (dim 0)"
     ]
    }
   ],
   "source": [
    "a = numpy.matrix(((5,10,15),(6,15,2),(4,15,10),(24,16,8)))\n",
    "b = numpy.matrix(((100),(200),(300))) # ---> it wants tuple\n",
    "print('a\\n' , a)\n",
    "print('b\\n' ,b)\n",
    "c = a*b\n",
    "print('a*b\\n' ,c)\n",
    "# see the below the right code"
   ]
  },
  {
   "cell_type": "code",
   "execution_count": 8,
   "metadata": {},
   "outputs": [
    {
     "name": "stdout",
     "output_type": "stream",
     "text": [
      "(10, 20, 30) <class 'tuple'>\n",
      "100 <class 'int'>\n",
      "(200,) <class 'tuple'>\n"
     ]
    }
   ],
   "source": [
    "# let's see the Example\n",
    "a = (10,20,30)\n",
    "print(a,type(a))\n",
    "b = (100) #int\n",
    "print(b, type(b))\n",
    "c = (200 ,) #tuple\n",
    "print(c , type(c))"
   ]
  },
  {
   "cell_type": "code",
   "execution_count": 9,
   "metadata": {},
   "outputs": [
    {
     "name": "stdout",
     "output_type": "stream",
     "text": [
      "a\n",
      " [[ 5 10 15]\n",
      " [ 6 15  2]\n",
      " [ 4 15 10]\n",
      " [24 16  8]]\n",
      "b\n",
      " [[100]\n",
      " [200]\n",
      " [300]]\n",
      "a*b\n",
      " [[7000]\n",
      " [4200]\n",
      " [6400]\n",
      " [8000]]\n",
      "Total fee to be collected every month 25600\n"
     ]
    }
   ],
   "source": [
    "a = numpy.matrix(((5,10,15),(6,15,2),(4,15,10),(24,16,8)))\n",
    "b = numpy.matrix(((100,),(200,),(300,))) \n",
    "print('a\\n' , a)\n",
    "print('b\\n' ,b)\n",
    "c = a*b\n",
    "print('a*b\\n' ,c)\n",
    "# find the sum \n",
    "t = numpy.sum(c)\n",
    "print(f\"Total fee to be collected every month {t}\")\n"
   ]
  },
  {
   "cell_type": "code",
   "execution_count": 10,
   "metadata": {},
   "outputs": [
    {
     "name": "stdout",
     "output_type": "stream",
     "text": [
      "Total fee to be collected every month 25600\n"
     ]
    }
   ],
   "source": [
    "# find the sum \n",
    "t = numpy.sum(c)\n",
    "print(f\"Total fee to be collected every month {t}\")\n"
   ]
  },
  {
   "cell_type": "markdown",
   "metadata": {},
   "source": [
    "# matix operations with Scaler value"
   ]
  },
  {
   "cell_type": "code",
   "execution_count": 11,
   "metadata": {},
   "outputs": [],
   "source": [
    "import numpy"
   ]
  },
  {
   "cell_type": "code",
   "execution_count": 12,
   "metadata": {},
   "outputs": [
    {
     "name": "stdout",
     "output_type": "stream",
     "text": [
      "a\n",
      " [[10 20]\n",
      " [30 40]]\n",
      "a+10 [[20 30]\n",
      " [40 50]]\n",
      "a+10\n",
      " [[20 30]\n",
      " [40 50]]\n"
     ]
    }
   ],
   "source": [
    "#add\n",
    "\n",
    "a = numpy.matrix(((10 , 20) , (30,40)))\n",
    "b = a+10\n",
    "print('a\\n' ,a)\n",
    "print('a+10' , b)\n",
    "b = numpy.add(a , 10)\n",
    "print('a+10\\n' ,b)"
   ]
  },
  {
   "cell_type": "code",
   "execution_count": 13,
   "metadata": {},
   "outputs": [
    {
     "name": "stdout",
     "output_type": "stream",
     "text": [
      "a\n",
      " [[10 20]\n",
      " [30 40]]\n",
      "a-10 [[ 0 10]\n",
      " [20 30]]\n",
      "a-10\n",
      " [[ 0 10]\n",
      " [20 30]]\n"
     ]
    }
   ],
   "source": [
    "#subtract\n",
    "\n",
    "a = numpy.matrix(((10 , 20) , (30,40)))\n",
    "b = a-10\n",
    "print('a\\n' ,a)\n",
    "print('a-10' , b)\n",
    "b = numpy.subtract(a , 10)\n",
    "print('a-10\\n' ,b)"
   ]
  },
  {
   "cell_type": "code",
   "execution_count": 14,
   "metadata": {},
   "outputs": [
    {
     "name": "stdout",
     "output_type": "stream",
     "text": [
      "a\n",
      " [[10 20]\n",
      " [30 40]]\n",
      "a*10 [[100 200]\n",
      " [300 400]]\n",
      "a*10\n",
      " [[100 200]\n",
      " [300 400]]\n"
     ]
    }
   ],
   "source": [
    "# multiply\n",
    "\n",
    "a = numpy.matrix(((10 , 20) , (30,40)))\n",
    "b = a*10\n",
    "print('a\\n' ,a)\n",
    "print('a*10' , b)\n",
    "b = numpy.dot(a , 10)\n",
    "print('a*10\\n' ,b)"
   ]
  },
  {
   "cell_type": "code",
   "execution_count": 15,
   "metadata": {},
   "outputs": [
    {
     "name": "stdout",
     "output_type": "stream",
     "text": [
      "a\n",
      " [[10 20]\n",
      " [30 40]]\n",
      "a divide by 10\n",
      " [[1 2]\n",
      " [3 4]]\n",
      "a/10\n",
      " [[1. 2.]\n",
      " [3. 4.]]\n"
     ]
    }
   ],
   "source": [
    "#divide\n",
    "a = numpy.matrix(((10 , 20) , (30,40)))\n",
    "b = a//10\n",
    "print('a\\n' ,a)\n",
    "print('a divide by 10\\n' , b)\n",
    "b = numpy.divide(a , 10)\n",
    "print('a/10\\n' ,b)"
   ]
  },
  {
   "cell_type": "code",
   "execution_count": 16,
   "metadata": {},
   "outputs": [
    {
     "name": "stdout",
     "output_type": "stream",
     "text": [
      "a\n",
      " [[10 20]\n",
      " [30 40]]\n",
      "a%10\n",
      " [[1 2]\n",
      " [0 1]]\n",
      "a%10\n",
      " [[1 2]\n",
      " [0 1]]\n"
     ]
    }
   ],
   "source": [
    "# mod \n",
    "a = numpy.matrix(((10 , 20) , (30,40)))\n",
    "b = a%3\n",
    "print('a\\n' ,a)\n",
    "print('a%10\\n' , b)\n",
    "b = numpy.mod(a , 3)\n",
    "print('a%10\\n' ,b)"
   ]
  },
  {
   "cell_type": "code",
   "execution_count": 17,
   "metadata": {},
   "outputs": [
    {
     "name": "stdout",
     "output_type": "stream",
     "text": [
      "a\n",
      " [[10 20]\n",
      " [30 40]]\n",
      "a^2 [[ 700 1000]\n",
      " [1500 2200]]\n",
      "a^2\n",
      " [[ 700 1000]\n",
      " [1500 2200]]\n"
     ]
    }
   ],
   "source": [
    "# squrie\n",
    "a = numpy.matrix(((10 , 20) , (30,40)))\n",
    "b = a*a\n",
    "print('a\\n' ,a)\n",
    "print('a^2' , b)\n",
    "# but there is problem (is not a squire it's a*a)\n",
    "b =numpy.dot(a,a)\n",
    "print('a^2\\n' ,b)\n"
   ]
  },
  {
   "cell_type": "markdown",
   "metadata": {},
   "source": [
    "# How to Calulate Square \n",
    "## Square"
   ]
  },
  {
   "cell_type": "code",
   "execution_count": 18,
   "metadata": {},
   "outputs": [
    {
     "name": "stdout",
     "output_type": "stream",
     "text": [
      "a^2\n",
      " [[ 100  400]\n",
      " [ 900 1600]]\n",
      "a^2\n",
      " [[ 100  400]\n",
      " [ 900 1600]]\n",
      "a^3 [[ 1000  8000]\n",
      " [27000 64000]]\n"
     ]
    }
   ],
   "source": [
    "import numpy\n",
    "a = numpy.matrix(((10,20),(30,40)))\n",
    "b = numpy.square(a)\n",
    "print('a^2\\n' ,b)\n",
    "b = numpy.power(a,2)\n",
    "print('a^2\\n' , b)\n",
    "c = numpy.power(a,3)\n",
    "print('a^3' , c)"
   ]
  },
  {
   "cell_type": "code",
   "execution_count": null,
   "metadata": {},
   "outputs": [],
   "source": []
  },
  {
   "cell_type": "code",
   "execution_count": null,
   "metadata": {},
   "outputs": [],
   "source": []
  }
 ],
 "metadata": {
  "kernelspec": {
   "display_name": "base",
   "language": "python",
   "name": "python3"
  },
  "language_info": {
   "codemirror_mode": {
    "name": "ipython",
    "version": 3
   },
   "file_extension": ".py",
   "mimetype": "text/x-python",
   "name": "python",
   "nbconvert_exporter": "python",
   "pygments_lexer": "ipython3",
   "version": "3.9.7 (default, Sep 16 2021, 08:50:36) \n[Clang 10.0.0 ]"
  },
  "vscode": {
   "interpreter": {
    "hash": "130826a50b4030fecff09c60f733bc90a93922839765dc4abeb8c6376ff802e4"
   }
  }
 },
 "nbformat": 4,
 "nbformat_minor": 2
}
