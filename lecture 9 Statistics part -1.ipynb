{
 "cells": [
  {
   "cell_type": "code",
   "execution_count": 2,
   "id": "ef3e41f2",
   "metadata": {},
   "outputs": [
    {
     "data": {
      "image/png": "[encoded data removed]",
      "text/plain": [
       "<Figure size 432x288 with 1 Axes>"
      ]
     },
     "metadata": {
      "needs_background": "light"
     },
     "output_type": "display_data"
    }
   ],
   "source": [
    "import matplotlib.pyplot\n",
    "matplotlib.pyplot.plot([10,20,30,2,50,80])\n",
    "matplotlib.pyplot.savefig(\"figure2.png\")\n",
    "matplotlib.pyplot.show()\n",
    "\n",
    "\n"
   ]
  },
  {
   "cell_type": "markdown",
   "id": "7f72b55a",
   "metadata": {},
   "source": [
    "# What is <b>nan</b> : this is an not a number (becouse zero also a number)\n",
    "\n",
    "inf is infinity - a value that is greater than any other value. -inf is therefore smaller than any other value.\n",
    "\n",
    "nan stands for Not A Number, and this is not equal to 0.\n",
    "\n",
    "Although positive and negative infinity can be said to be symmetric about 0, the same can be said for any value n, meaning that the result of adding the two yields nan. \n"
   ]
  },
  {
   "cell_type": "code",
   "execution_count": 5,
   "id": "d8cd69aa",
   "metadata": {},
   "outputs": [
    {
     "name": "stdout",
     "output_type": "stream",
     "text": [
      "[10, 20, nan, 30]\n",
      "[100, 200, 300, nan, 500, inf]\n",
      "[nan, 20, 30, 40, 50, nan]\n"
     ]
    }
   ],
   "source": [
    "#there are three way to write a nan values\n",
    "import math\n",
    "import numpy\n",
    "a=[10,20,math.nan,30]\n",
    "b=[100,200,300,numpy.nan,500,math.nan]\n",
    "c=[float('nan'),20,30,40,50,numpy.nan]\n",
    "print(a)\n",
    "print(b)\n",
    "print(c)"
   ]
  },
  {
   "cell_type": "code",
   "execution_count": 11,
   "id": "565e8492",
   "metadata": {},
   "outputs": [
    {
     "name": "stdout",
     "output_type": "stream",
     "text": [
      "nan\n",
      "nan\n"
     ]
    }
   ],
   "source": [
    "# if you adding any value in nan = the ans is nan\n",
    "a=10+20+math.nan\n",
    "print(a)\n",
    "c=[float('nan'),20,30,40,50,numpy.nan]\n",
    "sum=0\n",
    "for x in c:\n",
    "    sum+=x\n",
    "print(sum)"
   ]
  },
  {
   "cell_type": "code",
   "execution_count": 20,
   "id": "559a1302",
   "metadata": {},
   "outputs": [
    {
     "name": "stdout",
     "output_type": "stream",
     "text": [
      "140\n"
     ]
    }
   ],
   "source": [
    "#solutions \n",
    "c=[float('nan'),20,30,40,50,numpy.nan]\n",
    "\n",
    "sum=0\n",
    "for x in c:\n",
    "    if math.isnan(x)==False: sum+=x\n",
    "print(sum)\n",
    "\n",
    "# a=10+20+math.nan\n",
    "# print(a)\n",
    "\n",
    "\n"
   ]
  },
  {
   "cell_type": "markdown",
   "id": "75c8af05",
   "metadata": {},
   "source": [
    "# mean "
   ]
  },
  {
   "cell_type": "code",
   "execution_count": 26,
   "id": "6f36381f",
   "metadata": {},
   "outputs": [
    {
     "name": "stdout",
     "output_type": "stream",
     "text": [
      "mean :  30\n"
     ]
    }
   ],
   "source": [
    "import statistics\n",
    "a=[10,20,30,40,50]\n",
    "print('mean : ',statistics.mean(a))"
   ]
  },
  {
   "cell_type": "markdown",
   "id": "e4b89adc",
   "metadata": {},
   "source": [
    "# geometric_mean "
   ]
  },
  {
   "cell_type": "code",
   "execution_count": 28,
   "id": "7f0e4f26",
   "metadata": {},
   "outputs": [
    {
     "name": "stdout",
     "output_type": "stream",
     "text": [
      "18.17120592832139\n",
      "6000\n",
      "5998.805513000002\n",
      "5999.999999999992\n"
     ]
    }
   ],
   "source": [
    "a=[10,20,30]\n",
    "print(statistics.geometric_mean(a))\n",
    "print(10*20*30)\n",
    "print(18.17*18.17*18.17)\n",
    "# print(18.17120592832139**3)"
   ]
  },
  {
   "cell_type": "markdown",
   "id": "74fa7a2a",
   "metadata": {},
   "source": [
    "# harmonic_mean\n"
   ]
  },
  {
   "cell_type": "code",
   "execution_count": 31,
   "id": "2ae8b8fb",
   "metadata": {},
   "outputs": [
    {
     "name": "stdout",
     "output_type": "stream",
     "text": [
      "3.4615384615384617\n",
      "3.4615384615384617\n"
     ]
    }
   ],
   "source": [
    "a=[2,5,6]\n",
    "print(statistics.harmonic_mean(a))\n",
    "print(180/52)\n",
    "# 3/((1/2)+(1/5)+(1/6))=180/52\n"
   ]
  },
  {
   "cell_type": "markdown",
   "id": "a28d828b",
   "metadata": {},
   "source": [
    "# meadian"
   ]
  },
  {
   "cell_type": "code",
   "execution_count": 38,
   "id": "fd7ba3fc",
   "metadata": {},
   "outputs": [
    {
     "name": "stdout",
     "output_type": "stream",
     "text": [
      "5\n",
      "25.0\n",
      "35.0\n"
     ]
    }
   ],
   "source": [
    "a=[2,5,6] # sort the value and then (n+1/2) for odd numbers\n",
    "print(statistics.median(a))\n",
    "b=[10,20,30,40] # sort the numbers and then find n/2 and (n/2)+1 index's and the value is ((n/2)+((n/2)+1))/2\n",
    "print(statistics.median(b))\n",
    "c=[10,20,30,40,50,60]\n",
    "print(statistics.median(c))"
   ]
  },
  {
   "cell_type": "code",
   "execution_count": 39,
   "id": "104f908a",
   "metadata": {
    "scrolled": true
   },
   "outputs": [
    {
     "name": "stdout",
     "output_type": "stream",
     "text": [
      "5\n",
      "25.0\n",
      "[10, 20, 30, 40, 50, 60]\n",
      "35.0\n",
      "5\n",
      "5\n"
     ]
    }
   ],
   "source": [
    "a=[2,5,6] \n",
    "print(statistics.median(a))\n",
    "b=[10,20,30,40] \n",
    "print(statistics.median(b))\n",
    "c=[10,20,30,40,50,60]\n",
    "print(c)\n",
    "print(statistics.median(c))\n",
    "print(statistics.median_low(a))\n",
    "print(statistics.median_high(a))"
   ]
  },
  {
   "cell_type": "code",
   "execution_count": null,
   "id": "93c59271",
   "metadata": {},
   "outputs": [],
   "source": []
  },
  {
   "cell_type": "code",
   "execution_count": null,
   "id": "7ac2caca",
   "metadata": {},
   "outputs": [],
   "source": []
  },
  {
   "cell_type": "code",
   "execution_count": null,
   "id": "a58f01e0",
   "metadata": {},
   "outputs": [],
   "source": []
  },
  {
   "cell_type": "code",
   "execution_count": null,
   "id": "89f1d810",
   "metadata": {},
   "outputs": [],
   "source": []
  },
  {
   "cell_type": "code",
   "execution_count": null,
   "id": "47a59685",
   "metadata": {},
   "outputs": [],
   "source": []
  }
 ],
 "metadata": {
  "kernelspec": {
   "display_name": "Python 3.10.2 64-bit",
   "language": "python",
   "name": "python3"
  },
  "language_info": {
   "codemirror_mode": {
    "name": "ipython",
    "version": 3
   },
   "file_extension": ".py",
   "mimetype": "text/x-python",
   "name": "python",
   "nbconvert_exporter": "python",
   "pygments_lexer": "ipython3",
   "version": "3.10.2"
  },
  "vscode": {
   "interpreter": {
    "hash": "7e1998ff7f8aa20ada591c520b972326324e5ea05489af9e422744c7c09f6dad"
   }
  }
 },
 "nbformat": 4,
 "nbformat_minor": 5
}
