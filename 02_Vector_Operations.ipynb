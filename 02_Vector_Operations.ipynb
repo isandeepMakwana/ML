{
 "cells": [
  {
   "cell_type": "markdown",
   "id": "c42ec4ee",
   "metadata": {},
   "source": [
    "# install\n"
   ]
  },
  {
   "cell_type": "markdown",
   "id": "39ff653d",
   "metadata": {},
   "source": [
    "```bash\n",
    "$ python -m pip install --upgrade pip\n",
    "$ pip install numpy\n",
    "$ pip install pandas\n",
    "```"
   ]
  },
  {
   "cell_type": "markdown",
   "id": "d7fccab7",
   "metadata": {},
   "source": [
    "# Vectors"
   ]
  },
  {
   "cell_type": "code",
   "execution_count": 1,
   "id": "02ca4fec",
   "metadata": {
    "ExecuteTime": {
     "end_time": "2023-04-05T07:26:11.398868Z",
     "start_time": "2023-04-05T07:26:10.643370Z"
    }
   },
   "outputs": [
    {
     "name": "stdout",
     "output_type": "stream",
     "text": [
      "a [[10]\n",
      " [20]\n",
      " [30]\n",
      " [40]]\n",
      "b [[ 30]\n",
      " [ 16]\n",
      " [ 40]\n",
      " [150]]\n"
     ]
    }
   ],
   "source": [
    "import numpy\n",
    "a = numpy.array([[10] , [20] , [30] , [40]])\n",
    "# print(a)\n",
    "b=numpy.array([[30],[16],[40],[150]])\n",
    "print('a',a)\n",
    "print('b',b)\n"
   ]
  },
  {
   "cell_type": "code",
   "execution_count": 2,
   "id": "b417a070",
   "metadata": {
    "ExecuteTime": {
     "end_time": "2023-04-05T07:26:11.406093Z",
     "start_time": "2023-04-05T07:26:11.401542Z"
    }
   },
   "outputs": [
    {
     "name": "stdout",
     "output_type": "stream",
     "text": [
      "a+b [[ 40]\n",
      " [ 36]\n",
      " [ 70]\n",
      " [190]]\n"
     ]
    }
   ],
   "source": [
    "# Add the vector\n",
    "c=numpy.add(a,b)\n",
    "print('a+b',c)"
   ]
  },
  {
   "cell_type": "code",
   "execution_count": 3,
   "id": "00f49ace",
   "metadata": {
    "ExecuteTime": {
     "end_time": "2023-04-05T07:26:11.411711Z",
     "start_time": "2023-04-05T07:26:11.407104Z"
    }
   },
   "outputs": [
    {
     "name": "stdout",
     "output_type": "stream",
     "text": [
      "a-b [[ -20]\n",
      " [   4]\n",
      " [ -10]\n",
      " [-110]]\n"
     ]
    }
   ],
   "source": [
    "# subtract vectors\n",
    "d=numpy.subtract(a,b)\n",
    "print('a-b',d)"
   ]
  },
  {
   "cell_type": "code",
   "execution_count": 4,
   "id": "95874e2f",
   "metadata": {
    "ExecuteTime": {
     "end_time": "2023-04-05T07:26:11.458884Z",
     "start_time": "2023-04-05T07:26:11.414656Z"
    }
   },
   "outputs": [
    {
     "name": "stdout",
     "output_type": "stream",
     "text": [
      "a [10 20  3 50]\n",
      "b [ 30  40  14 150]\n",
      "a+b [ 40  60  17 200]\n",
      "a-b [ -20  -20  -11 -100]\n"
     ]
    }
   ],
   "source": [
    "# another examples\n",
    "import numpy\n",
    "a = numpy.array([10,20,3,50])\n",
    "b = numpy.array([30,40,14,150])\n",
    "print('a',a)\n",
    "print('b',b)\n",
    "\n",
    "#add\n",
    "c=numpy.add(a,b)\n",
    "print('a+b',c)\n",
    "\n",
    "#subtract\n",
    "d = numpy.subtract(a,b)\n",
    "print('a-b',d)\n"
   ]
  },
  {
   "cell_type": "markdown",
   "id": "c1d5d393",
   "metadata": {},
   "source": [
    "# Cross product in vectors"
   ]
  },
  {
   "cell_type": "code",
   "execution_count": 6,
   "id": "224b1571",
   "metadata": {
    "ExecuteTime": {
     "end_time": "2023-04-05T07:26:11.478341Z",
     "start_time": "2023-04-05T07:26:11.423718Z"
    }
   },
   "outputs": [],
   "source": [
    "import numpy"
   ]
  },
  {
   "cell_type": "code",
   "execution_count": 7,
   "id": "8a3442f0",
   "metadata": {
    "ExecuteTime": {
     "end_time": "2023-04-05T07:26:11.479446Z",
     "start_time": "2023-04-05T07:26:11.429744Z"
    }
   },
   "outputs": [
    {
     "name": "stdout",
     "output_type": "stream",
     "text": [
      "aXb 175\n"
     ]
    }
   ],
   "source": [
    "# in list\n",
    "a=[10,5]\n",
    "b=[5,20]\n",
    "# (10*20)-(5*5)\n",
    "# 200-25\n",
    "# 175\n",
    "c=numpy.cross(a,b)\n",
    "print('aXb',c)"
   ]
  },
  {
   "cell_type": "code",
   "execution_count": 9,
   "id": "8435d496",
   "metadata": {
    "ExecuteTime": {
     "end_time": "2023-04-05T07:26:11.480410Z",
     "start_time": "2023-04-05T07:26:11.435229Z"
    }
   },
   "outputs": [
    {
     "name": "stdout",
     "output_type": "stream",
     "text": [
      "aXb 175\n"
     ]
    }
   ],
   "source": [
    "#in numpy array\n",
    "a= numpy.array([10,5])\n",
    "b= numpy.array([5,20])\n",
    "c =numpy.cross(a, b)\n",
    "print('aXb',c)"
   ]
  },
  {
   "cell_type": "code",
   "execution_count": 10,
   "id": "e3d01682",
   "metadata": {
    "ExecuteTime": {
     "end_time": "2023-04-05T07:26:11.480612Z",
     "start_time": "2023-04-05T07:26:11.444258Z"
    }
   },
   "outputs": [
    {
     "name": "stdout",
     "output_type": "stream",
     "text": [
      "aXb [ 460 -900   -5]\n"
     ]
    }
   ],
   "source": [
    "a = numpy.array([10,5,20])\n",
    "b= numpy.array([5,2,100])\n",
    "c = numpy.cross(a,b)\n",
    "print('aXb' ,c)"
   ]
  },
  {
   "cell_type": "markdown",
   "id": "18f084a2",
   "metadata": {},
   "source": [
    "# dot Product in vectors"
   ]
  },
  {
   "cell_type": "code",
   "execution_count": 11,
   "id": "6db54a9d",
   "metadata": {
    "ExecuteTime": {
     "end_time": "2023-04-05T07:26:11.480697Z",
     "start_time": "2023-04-05T07:26:11.451599Z"
    }
   },
   "outputs": [],
   "source": [
    "import numpy"
   ]
  },
  {
   "cell_type": "code",
   "execution_count": 12,
   "id": "b6e3b94b",
   "metadata": {
    "ExecuteTime": {
     "end_time": "2023-04-05T07:26:11.480833Z",
     "start_time": "2023-04-05T07:26:11.458707Z"
    }
   },
   "outputs": [
    {
     "name": "stdout",
     "output_type": "stream",
     "text": [
      "a.b 380\n"
     ]
    }
   ],
   "source": [
    "a = numpy.array([10 , 20 , 30])\n",
    "b = numpy.array([5,6,7])\n",
    "c=numpy.dot(a,b)\n",
    "# 10*5+20*6+30*7\n",
    "# 50+120+210\n",
    "# 380\n",
    "print('a.b' , c)"
   ]
  },
  {
   "cell_type": "code",
   "execution_count": 13,
   "id": "3485599c",
   "metadata": {
    "ExecuteTime": {
     "end_time": "2023-04-05T07:26:11.562241Z",
     "start_time": "2023-04-05T07:26:11.465775Z"
    }
   },
   "outputs": [
    {
     "name": "stdout",
     "output_type": "stream",
     "text": [
      "a.b 380\n"
     ]
    }
   ],
   "source": [
    "# other way of doing dot product\n",
    "d=a@b\n",
    "print('a.b',d)"
   ]
  },
  {
   "cell_type": "markdown",
   "id": "83b62d12",
   "metadata": {},
   "source": [
    "# Scaler"
   ]
  },
  {
   "cell_type": "code",
   "execution_count": 12,
   "id": "c8fef636",
   "metadata": {
    "ExecuteTime": {
     "end_time": "2023-04-05T07:26:11.562886Z",
     "start_time": "2023-04-05T07:26:11.473153Z"
    }
   },
   "outputs": [],
   "source": [
    "import numpy"
   ]
  },
  {
   "cell_type": "code",
   "execution_count": 5,
   "id": "937de3d2",
   "metadata": {
    "ExecuteTime": {
     "end_time": "2023-04-05T07:26:11.563319Z",
     "start_time": "2023-04-05T07:26:11.479230Z"
    }
   },
   "outputs": [
    {
     "name": "stdout",
     "output_type": "stream",
     "text": [
      "a+100 [110 120 130]\n",
      "a-100 [-90 -80 -70]\n",
      "a.100 [1000 2000 3000]\n"
     ]
    }
   ],
   "source": [
    "a=numpy.array([10,20,30])\n",
    "b=numpy.add(a,100)\n",
    "print('a+100' ,b)\n",
    "c=numpy.subtract(a,100)\n",
    "print('a-100',c)\n",
    "d=numpy.dot(a,100)\n",
    "print('a.100',d)\n",
    "# e= numpy.cross(a,10) ------> wrong"
   ]
  },
  {
   "cell_type": "markdown",
   "id": "46db8458",
   "metadata": {},
   "source": [
    "# polynomials"
   ]
  },
  {
   "cell_type": "code",
   "execution_count": 8,
   "id": "476cbf99",
   "metadata": {
    "ExecuteTime": {
     "end_time": "2023-04-05T07:26:11.563655Z",
     "start_time": "2023-04-05T07:26:11.496010Z"
    }
   },
   "outputs": [],
   "source": [
    "import numpy"
   ]
  },
  {
   "cell_type": "code",
   "execution_count": 10,
   "id": "9c2d63f3",
   "metadata": {
    "ExecuteTime": {
     "end_time": "2023-04-05T07:26:11.563811Z",
     "start_time": "2023-04-05T07:26:11.501885Z"
    }
   },
   "outputs": [
    {
     "name": "stdout",
     "output_type": "stream",
     "text": [
      "<class 'numpy.poly1d'>\n",
      "   4     3     2\n",
      "2 x + 3 x + 4 x + 5 x + 10\n"
     ]
    }
   ],
   "source": [
    "# coefficent =[2,3,4,5,10]\n",
    "coefficent =numpy.array([2,3,4,5,10])\n",
    "\n",
    "ploynomial = numpy.poly1d(coefficent)\n",
    "print(type(ploynomial))\n",
    "print(ploynomial)"
   ]
  },
  {
   "cell_type": "markdown",
   "id": "af03709b",
   "metadata": {},
   "source": [
    "### put the value of x =2"
   ]
  },
  {
   "cell_type": "code",
   "execution_count": 16,
   "id": "206e0c49",
   "metadata": {
    "ExecuteTime": {
     "end_time": "2023-04-05T07:26:11.564044Z",
     "start_time": "2023-04-05T07:26:11.510951Z"
    }
   },
   "outputs": [
    {
     "name": "stdout",
     "output_type": "stream",
     "text": [
      "<class 'numpy.poly1d'>\n",
      "   4     3     2\n",
      "2 x + 3 x + 4 x + 5 x + 10\n",
      "92\n"
     ]
    }
   ],
   "source": [
    "coefficent =numpy.array([2,3,4,5,10])\n",
    "ploynomial = numpy.poly1d(coefficent)\n",
    "print(type(ploynomial))\n",
    "print(ploynomial)\n",
    "x =2\n",
    "result = ploynomial(x)\n",
    "print(result)"
   ]
  },
  {
   "cell_type": "markdown",
   "id": "dca5cc18",
   "metadata": {},
   "source": [
    "#### print this 2x4+4x2+10\n"
   ]
  },
  {
   "cell_type": "code",
   "execution_count": 17,
   "id": "243539c1",
   "metadata": {
    "ExecuteTime": {
     "end_time": "2023-04-05T07:26:11.564232Z",
     "start_time": "2023-04-05T07:26:11.518548Z"
    }
   },
   "outputs": [
    {
     "name": "stdout",
     "output_type": "stream",
     "text": [
      "<class 'numpy.poly1d'>\n",
      "   2\n",
      "2 x + 4 x + 10\n",
      "26\n"
     ]
    }
   ],
   "source": [
    "coefficent =numpy.array([2,4,10])\n",
    "ploynomial = numpy.poly1d(coefficent)\n",
    "print(type(ploynomial))\n",
    "print(ploynomial)\n",
    "x =2\n",
    "result = ploynomial(x)\n",
    "print(result)"
   ]
  },
  {
   "cell_type": "code",
   "execution_count": 18,
   "id": "32409dfd",
   "metadata": {
    "ExecuteTime": {
     "end_time": "2023-04-05T07:26:11.564584Z",
     "start_time": "2023-04-05T07:26:11.524362Z"
    }
   },
   "outputs": [
    {
     "name": "stdout",
     "output_type": "stream",
     "text": [
      "<class 'numpy.poly1d'>\n",
      "   4     2\n",
      "2 x + 4 x + 10\n",
      "58\n"
     ]
    }
   ],
   "source": [
    "coefficent =numpy.array([2,0,4,0,10])\n",
    "ploynomial = numpy.poly1d(coefficent)\n",
    "print(type(ploynomial))\n",
    "print(ploynomial)\n",
    "x =2\n",
    "result = ploynomial(x)\n",
    "print(result)"
   ]
  }
 ],
 "metadata": {
  "kernelspec": {
   "display_name": "Python 3 (ipykernel)",
   "language": "python",
   "name": "python3"
  },
  "language_info": {
   "codemirror_mode": {
    "name": "ipython",
    "version": 3
   },
   "file_extension": ".py",
   "mimetype": "text/x-python",
   "name": "python",
   "nbconvert_exporter": "python",
   "pygments_lexer": "ipython3",
   "version": "3.9.13"
  },
  "vscode": {
   "interpreter": {
    "hash": "130826a50b4030fecff09c60f733bc90a93922839765dc4abeb8c6376ff802e4"
   }
  }
 },
 "nbformat": 4,
 "nbformat_minor": 5
}
