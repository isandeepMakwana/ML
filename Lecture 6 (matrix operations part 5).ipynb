{
 "cells": [
  {
   "cell_type": "markdown",
   "id": "9a144eb6",
   "metadata": {},
   "source": [
    "# convert comprass matrix it's orignal Matrix"
   ]
  },
  {
   "cell_type": "code",
   "execution_count": 10,
   "id": "91e48cba",
   "metadata": {},
   "outputs": [
    {
     "name": "stdout",
     "output_type": "stream",
     "text": [
      "<class 'numpy.matrix'>\n",
      "a\n",
      " [[0 0 0 1]\n",
      " [1 0 1 0]\n",
      " [0 0 0 0]\n",
      " [0 0 0 1]\n",
      " [0 1 0 0]]\n",
      "a in compressed from \n",
      "   (0, 3)\t1\n",
      "  (1, 0)\t1\n",
      "  (1, 2)\t1\n",
      "  (3, 3)\t1\n",
      "  (4, 1)\t1\n",
      "<class 'scipy.sparse._csr.csr_matrix'>\n",
      "b\n",
      " [[0 0 0 1]\n",
      " [1 0 1 0]\n",
      " [0 0 0 0]\n",
      " [0 0 0 1]\n",
      " [0 1 0 0]]\n",
      "<class 'numpy.ndarray'>\n",
      "c\n",
      " [[0 0 0 1]\n",
      " [1 0 1 0]\n",
      " [0 0 0 0]\n",
      " [0 0 0 1]\n",
      " [0 1 0 0]]\n",
      "<class 'numpy.matrix'>\n"
     ]
    }
   ],
   "source": [
    "import numpy\n",
    "import scipy.sparse\n",
    "a = numpy.matrix(((0,0,0,1),(1,0,1,0),(0,0,0,0),(0,0,0,1),(0,1,0,0)))\n",
    "print(type(a))\n",
    "print('a\\n',a)\n",
    "sc = scipy.sparse.csr_matrix(a)\n",
    "print('a in compressed from \\n',sc)\n",
    "print(type(sc))\n",
    "b = sc.toarray()\n",
    "print('b\\n',b)\n",
    "print(type(b))\n",
    "\n",
    "# it provide a ndarrya \\n now we convert into matrix\n",
    "\n",
    "c = numpy.matrix(b)\n",
    "print('c\\n',c)\n",
    "print(type(c))\n"
   ]
  },
  {
   "cell_type": "markdown",
   "id": "ac50021b",
   "metadata": {},
   "source": [
    "# Ek row me karte hai matrix ko \n",
    "#(Flatten karte hai)"
   ]
  },
  {
   "cell_type": "code",
   "execution_count": 13,
   "id": "b61e2edd",
   "metadata": {},
   "outputs": [
    {
     "name": "stdout",
     "output_type": "stream",
     "text": [
      "a\n",
      " [[ 10  20  30  40]\n",
      " [ 50  60  70  80]\n",
      " [ 90 100 110 120]\n",
      " [130 140 150 160]]\n",
      "b\n",
      " [[ 10  20  30  40  50  60  70  80  90 100 110 120 130 140 150 160]]\n",
      "-----------------------------------------------------------\n",
      "b\n",
      " [[ 10  20  30  40  50  60  70  80  90 100 110 120 130 140 150 160]]\n"
     ]
    }
   ],
   "source": [
    "import numpy\n",
    "a=numpy.matrix(((10,20,30,40),(50,60,70,80),(90,100,110,120),(130,140,150,160)))\n",
    "b=a.flatten()\n",
    "print('a\\n',a)\n",
    "print('b\\n',b)\n",
    "print(\"-\"*59)\n",
    "b=a.flatten('C')\n",
    "print('b\\n',b)\n",
    "\n"
   ]
  },
  {
   "cell_type": "raw",
   "id": "4fc3f3bb",
   "metadata": {},
   "source": [
    "isme flatten by defalut row ko marge kar ke ooutput deta hai\n",
    "\n",
    "isme 4 options hote hai but ml me 2 importent hote hai\n",
    "1. row waise jisme flatten('c') hota but flatten() by default c hi hota hai\n",
    "2. column waise jisme flatten('F') hota hai\n"
   ]
  },
  {
   "cell_type": "code",
   "execution_count": 15,
   "id": "b0ddc888",
   "metadata": {},
   "outputs": [
    {
     "name": "stdout",
     "output_type": "stream",
     "text": [
      "Row flatten\n",
      "a\n",
      " [[ 10  20  30  40]\n",
      " [ 50  60  70  80]\n",
      " [ 90 100 110 120]\n",
      " [130 140 150 160]]\n",
      "b\n",
      " [[ 10  20  30  40  50  60  70  80  90 100 110 120 130 140 150 160]]\n",
      "-----------------------------------------------------------\n",
      "column flatten\n",
      "b\n",
      " [[ 10  50  90 130  20  60 100 140  30  70 110 150  40  80 120 160]]\n"
     ]
    }
   ],
   "source": [
    "a=numpy.matrix(((10,20,30,40),(50,60,70,80),(90,100,110,120),(130,140,150,160)))\n",
    "print(\"Row flatten\")\n",
    "b=a.flatten()\n",
    "print('a\\n',a)\n",
    "print('b\\n',b)\n",
    "print(\"-\"*59)\n",
    "\n",
    "print(\"column flatten\")\n",
    "b=a.flatten('F')\n",
    "print('b\\n',b)\n",
    "\n",
    "\n",
    "\n",
    "\n"
   ]
  },
  {
   "cell_type": "code",
   "execution_count": 18,
   "id": "7a685214",
   "metadata": {},
   "outputs": [
    {
     "name": "stdout",
     "output_type": "stream",
     "text": [
      "a\n",
      " [[ 1  2  3  4 41]\n",
      " [ 5  6  7  8 81]\n",
      " [ 9 10 11 12 91]]\n",
      "b\n",
      " [[ 1  2  3  4 41  5  6  7  8 81  9 10 11 12 91]]\n",
      "c\n",
      " [[ 1  2  3]\n",
      " [ 4 41  5]\n",
      " [ 6  7  8]\n",
      " [81  9 10]\n",
      " [11 12 91]]\n",
      "d\n",
      " [[ 1  2  3  4 41]\n",
      " [ 5  6  7  8 81]\n",
      " [ 9 10 11 12 91]]\n"
     ]
    }
   ],
   "source": [
    "a=numpy.matrix(((1,2,3,4,41),(5,6,7,8,81),(9,10,11,12,91)))\n",
    "b=a.flatten()\n",
    "print('a\\n',a)\n",
    "print('b\\n',b)\n",
    "c=b.reshape(5,3)\n",
    "print('c\\n',c)\n",
    "\n",
    "d=b.reshape(3,5)\n",
    "print('d\\n',d)\n"
   ]
  },
  {
   "cell_type": "code",
   "execution_count": 19,
   "id": "d0f14b5d",
   "metadata": {},
   "outputs": [
    {
     "name": "stdout",
     "output_type": "stream",
     "text": [
      "e\n",
      " [[ 1  2  3]\n",
      " [ 4 41  5]\n",
      " [ 6  7  8]\n",
      " [81  9 10]\n",
      " [11 12 91]]\n"
     ]
    }
   ],
   "source": [
    "#you can reshape matrix directly\n",
    "e=a.reshape(5,3)\n",
    "print('e\\n',e)"
   ]
  },
  {
   "cell_type": "code",
   "execution_count": 22,
   "id": "ffebc737",
   "metadata": {},
   "outputs": [
    {
     "ename": "ValueError",
     "evalue": "cannot reshape array of size 15 into shape (3,6)",
     "output_type": "error",
     "traceback": [
      "\u001b[0;31m---------------------------------------------------------------------------\u001b[0m",
      "\u001b[0;31mValueError\u001b[0m                                Traceback (most recent call last)",
      "Input \u001b[0;32mIn [22]\u001b[0m, in \u001b[0;36m<cell line: 3>\u001b[0;34m()\u001b[0m\n\u001b[1;32m      1\u001b[0m \u001b[38;5;66;03m# can not be left any element\u001b[39;00m\n\u001b[1;32m      2\u001b[0m \u001b[38;5;66;03m# f=a.reshape(2,4) # Wrong\u001b[39;00m\n\u001b[0;32m----> 3\u001b[0m f\u001b[38;5;241m=\u001b[39m\u001b[43ma\u001b[49m\u001b[38;5;241;43m.\u001b[39;49m\u001b[43mreshape\u001b[49m\u001b[43m(\u001b[49m\u001b[38;5;241;43m3\u001b[39;49m\u001b[43m,\u001b[49m\u001b[38;5;241;43m6\u001b[39;49m\u001b[43m)\u001b[49m\n",
      "\u001b[0;31mValueError\u001b[0m: cannot reshape array of size 15 into shape (3,6)"
     ]
    }
   ],
   "source": [
    "# can not be left any element\n",
    "f=a.reshape(2,4) # Wrong\n",
    "# and not add any element using reshape\n",
    "f=a.reshape(3,6)"
   ]
  },
  {
   "cell_type": "markdown",
   "id": "317bfb33",
   "metadata": {},
   "source": [
    "# Importent Point for refernce"
   ]
  },
  {
   "cell_type": "code",
   "execution_count": 24,
   "id": "47cb6fc7",
   "metadata": {},
   "outputs": [
    {
     "name": "stdout",
     "output_type": "stream",
     "text": [
      "a\n",
      " [[10 20 30 40]\n",
      " [50 60 70 80]]\n",
      "b\n",
      " [[10 20 30 40]\n",
      " [50 60 70 80]]\n",
      "----------------------------------------\n",
      "a\n",
      " [[1010   20   30   40]\n",
      " [  50   60   70   80]]\n",
      "b\n",
      " [[1010   20   30   40]\n",
      " [  50   60   70   80]]\n"
     ]
    }
   ],
   "source": [
    "import numpy\n",
    "a =numpy.matrix(((10,20,30,40),(50,60,70,80)))\n",
    "print('a\\n',a)\n",
    "b=a\n",
    "print('b\\n',b)\n",
    "print('-'*40)\n",
    "b[0,0]=1010\n",
    "print('a\\n',a)\n",
    "print('b\\n',b)\n",
    "\n"
   ]
  },
  {
   "cell_type": "code",
   "execution_count": 25,
   "id": "3575a984",
   "metadata": {},
   "outputs": [
    {
     "name": "stdout",
     "output_type": "stream",
     "text": [
      "a\n",
      " [[10 20 30 40]\n",
      " [50 60 70 80]]\n",
      "b\n",
      " [[10 20 30 40]\n",
      " [50 60 70 80]]\n",
      "----------------------------------------\n",
      "a\n",
      " [[10 20 30 40]\n",
      " [50 60 70 80]]\n",
      "b\n",
      " [[1010   20   30   40]\n",
      " [  50   60   70   80]]\n"
     ]
    }
   ],
   "source": [
    "# if you need to make a copy\n",
    "\n",
    "a =numpy.matrix(((10,20,30,40),(50,60,70,80)))\n",
    "print('a\\n',a)\n",
    "b=a.copy()\n",
    "print('b\\n',b)\n",
    "print('-'*40)\n",
    "b[0,0]=1010\n",
    "print('a\\n',a)\n",
    "print('b\\n',b)\n",
    "\n"
   ]
  },
  {
   "cell_type": "code",
   "execution_count": 29,
   "id": "8c46f04c",
   "metadata": {},
   "outputs": [
    {
     "name": "stdout",
     "output_type": "stream",
     "text": [
      "a\n",
      " [[10 20 30 40]\n",
      " [50 60 70 80]]\n",
      "b\n",
      " [[10 20 30 40]\n",
      " [50 60 70 80]]\n",
      "----------------------------------------\n",
      "a\n",
      " [[1010   20   30   40]\n",
      " [  50   60   70   80]]\n",
      "b\n",
      " [[1010   20   30   40]\n",
      " [  50   60   70   80]]\n",
      "diff is A obj , B obj  -> is point to main obj \n",
      "prof of concept :\n",
      "id of a\n",
      " 4680802624\n",
      "id of b\n",
      " 4680802624\n",
      "id of c\n",
      " 4680759744\n",
      "id of d\n",
      " 4680831808\n",
      "a,b address is same \n",
      "but c,d address are not same\n"
     ]
    }
   ],
   "source": [
    "# another operation is view()\n",
    "a =numpy.matrix(((10,20,30,40),(50,60,70,80)))\n",
    "print('a\\n',a)\n",
    "b=a.view()\n",
    "print('b\\n',b)\n",
    "print('-'*40)\n",
    "b[0,0]=1010\n",
    "print('a\\n',a)\n",
    "print('b\\n',b)\n",
    "\n",
    "print(\"diff is A obj , B obj  -> is point to main obj \")\n",
    "\n",
    "print(\"prof of concept :\")\n",
    "a =numpy.matrix(((10,20,30,40),(50,60,70,80)))\n",
    "b=a\n",
    "c=a.copy()\n",
    "d=a.view()\n",
    "\n",
    "print('id of a\\n',id(a))\n",
    "print('id of b\\n',id(b))\n",
    "print('id of c\\n',id(c))\n",
    "print('id of d\\n',id(d))\n",
    "\n",
    "print('a,b address is same \\nbut c,d address are not same')\n"
   ]
  },
  {
   "cell_type": "code",
   "execution_count": 33,
   "id": "09f0cc55",
   "metadata": {},
   "outputs": [
    {
     "name": "stdout",
     "output_type": "stream",
     "text": [
      "a\n",
      " [ 0  1  2  3  4  5  6  7  8  9 10 11 12 13 14 15 16 17 18 19 20 21 22 23\n",
      " 24 25 26 27 28 29 30 31 32 33 34 35 36 37 38 39 40 41 42 43 44 45 46 47\n",
      " 48 49 50 51 52 53 54 55 56 57 58 59 60 61 62 63 64 65 66 67 68 69 70 71\n",
      " 72 73 74 75 76 77 78 79 80 81 82 83 84 85 86 87 88 89 90 91 92 93 94 95\n",
      " 96 97 98 99]\n",
      "b\n",
      " [[ 0  1  2  3  4  5  6  7  8  9 10 11 12 13 14 15 16 17 18 19]\n",
      " [20 21 22 23 24 25 26 27 28 29 30 31 32 33 34 35 36 37 38 39]\n",
      " [40 41 42 43 44 45 46 47 48 49 50 51 52 53 54 55 56 57 58 59]\n",
      " [60 61 62 63 64 65 66 67 68 69 70 71 72 73 74 75 76 77 78 79]\n",
      " [80 81 82 83 84 85 86 87 88 89 90 91 92 93 94 95 96 97 98 99]]\n",
      "----------------------------------------\n",
      "c\n",
      " [[ 0  1  2  3  4  5  6  7  8  9 10 11 12 13 14 15 16 17 18 19 20 21 22 23\n",
      "  24]\n",
      " [25 26 27 28 29 30 31 32 33 34 35 36 37 38 39 40 41 42 43 44 45 46 47 48\n",
      "  49]]\n"
     ]
    }
   ],
   "source": [
    "# crate a element with a range\n",
    "a=numpy.arange(100)\n",
    "print('a\\n',a)\n",
    "b=a.reshape(5,20)\n",
    "print('b\\n',b)\n",
    "#-------------------\n",
    "print(\"-\"*40)\n",
    "c=numpy.arange(50).reshape(2,25)\n",
    "print('c\\n',c)\n"
   ]
  },
  {
   "cell_type": "code",
   "execution_count": 36,
   "id": "cb48da76",
   "metadata": {},
   "outputs": [
    {
     "name": "stdout",
     "output_type": "stream",
     "text": [
      "a\n",
      " [ 1 13 73 96 40 28 85 79 68 27 49 45 61 57  2 22 56 52 80 70 34 90 47 10\n",
      " 88 41 41 39 71 88 25 75 53 93 43 69 52  6 36 28 83 62  8 70 73  5 43 40\n",
      " 75 10]\n",
      "<class 'numpy.ndarray'>\n",
      "b\n",
      " [[82 16 43 39]\n",
      " [85 49 66 19]\n",
      " [47 32 63 91]\n",
      " [71 28  6 94]\n",
      " [ 1 80 92 27]]\n",
      "<class 'numpy.ndarray'>\n",
      "c\n",
      " [[82 16 43 39]\n",
      " [85 49 66 19]\n",
      " [47 32 63 91]\n",
      " [71 28  6 94]\n",
      " [ 1 80 92 27]]\n",
      "<class 'numpy.matrix'>\n"
     ]
    }
   ],
   "source": [
    "a=numpy.random.randint(100,size=50)\n",
    "print('a\\n',a)\n",
    "print(type(a))\n",
    "b = numpy.random.randint(100,size=(5,4))\n",
    "print('b\\n',b)\n",
    "print(type(b))\n",
    "\n",
    "c=numpy.matrix(b)\n",
    "print('c\\n',c)\n",
    "print(type(c))\n"
   ]
  },
  {
   "cell_type": "code",
   "execution_count": 37,
   "id": "6183d02d",
   "metadata": {},
   "outputs": [
    {
     "name": "stdout",
     "output_type": "stream",
     "text": [
      "a\n",
      " [[540  40  10   2  30   3   2  40]\n",
      " [ 40 540 540   2 540 540   2   3]\n",
      " [  3 540   3  40  10   2   3   3]\n",
      " [ 30  10  40  10  30  10  -1  -1]\n",
      " [ 10   3 540  -1  -1  30  -1  30]]\n"
     ]
    }
   ],
   "source": [
    "a = numpy.random.choice([10,2,3,-1,540,40,30],size=(5,8))\n",
    "print('a\\n',a)"
   ]
  },
  {
   "cell_type": "code",
   "execution_count": 39,
   "id": "20195656",
   "metadata": {},
   "outputs": [
    {
     "name": "stdout",
     "output_type": "stream",
     "text": [
      "a\n",
      " [[ 2 31 50 48]\n",
      " [32 46 51 38]\n",
      " [98 67 71 98]\n",
      " [82 43 48 73]\n",
      " [80 25 52 31]]\n",
      "<class 'numpy.ndarray'>\n",
      "c\n",
      " [50 51 98 82 80]\n",
      "<class 'numpy.ndarray'>\n",
      "c\n",
      " [98 67 71 98]\n"
     ]
    }
   ],
   "source": [
    "# When pass a functions\n",
    "def get_max(a):\n",
    "    max=a[0]\n",
    "    for x in range(1,len(a)):\n",
    "        if a[x]>max: max=a[x]\n",
    "    return max\n",
    "\n",
    "a =numpy.random.randint(100,size=(5,4))\n",
    "print('a\\n',a)\n",
    "print(type(a))\n",
    "\n",
    "c =numpy.apply_along_axis(get_max,1,a)\n",
    "print('c\\n',c)\n",
    "print(type(c))\n",
    "\n",
    "c= numpy.apply_along_axis(get_max,0,a)\n",
    "print('c\\n',c)\n",
    "\n",
    "\n",
    "\n"
   ]
  }
 ],
 "metadata": {
  "kernelspec": {
   "display_name": "Python 3 (ipykernel)",
   "language": "python",
   "name": "python3"
  },
  "language_info": {
   "codemirror_mode": {
    "name": "ipython",
    "version": 3
   },
   "file_extension": ".py",
   "mimetype": "text/x-python",
   "name": "python",
   "nbconvert_exporter": "python",
   "pygments_lexer": "ipython3",
   "version": "3.10.2"
  }
 },
 "nbformat": 4,
 "nbformat_minor": 5
}
