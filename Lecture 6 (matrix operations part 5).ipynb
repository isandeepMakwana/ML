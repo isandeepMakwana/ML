{
 "cells": [
  {
   "cell_type": "markdown",
   "id": "9a144eb6",
   "metadata": {},
   "source": [
    "# convert comprass matrix it's orignal Matrix"
   ]
  },
  {
   "cell_type": "code",
   "execution_count": 1,
   "id": "91e48cba",
   "metadata": {},
   "outputs": [
    {
     "name": "stdout",
     "output_type": "stream",
     "text": [
      "<class 'numpy.matrix'>\n",
      "a\n",
      " [[0 0 0 1]\n",
      " [1 0 1 0]\n",
      " [0 0 0 0]\n",
      " [0 0 0 1]\n",
      " [0 1 0 0]]\n",
      "a in compressed from \n",
      "   (0, 3)\t1\n",
      "  (1, 0)\t1\n",
      "  (1, 2)\t1\n",
      "  (3, 3)\t1\n",
      "  (4, 1)\t1\n",
      "<class 'scipy.sparse.csr.csr_matrix'>\n",
      "b\n",
      " [[0 0 0 1]\n",
      " [1 0 1 0]\n",
      " [0 0 0 0]\n",
      " [0 0 0 1]\n",
      " [0 1 0 0]]\n",
      "<class 'numpy.ndarray'>\n",
      "c\n",
      " [[0 0 0 1]\n",
      " [1 0 1 0]\n",
      " [0 0 0 0]\n",
      " [0 0 0 1]\n",
      " [0 1 0 0]]\n",
      "<class 'numpy.matrix'>\n"
     ]
    }
   ],
   "source": [
    "import numpy\n",
    "import scipy.sparse\n",
    "a = numpy.matrix(((0,0,0,1),(1,0,1,0),(0,0,0,0),(0,0,0,1),(0,1,0,0)))\n",
    "print(type(a))\n",
    "print('a\\n',a)\n",
    "sc = scipy.sparse.csr_matrix(a)\n",
    "print('a in compressed from \\n',sc)\n",
    "print(type(sc))\n",
    "b = sc.toarray()\n",
    "print('b\\n',b)\n",
    "print(type(b))\n",
    "\n",
    "# it provide a ndarrya \\n now we convert into matrix\n",
    "\n",
    "c = numpy.matrix(b)\n",
    "print('c\\n',c)\n",
    "print(type(c))\n"
   ]
  },
  {
   "cell_type": "markdown",
   "id": "ac50021b",
   "metadata": {},
   "source": [
    "# Ek row me karte hai matrix ko \n",
    "#(Flatten karte hai)"
   ]
  },
  {
   "cell_type": "code",
   "execution_count": 2,
   "id": "b61e2edd",
   "metadata": {},
   "outputs": [
    {
     "name": "stdout",
     "output_type": "stream",
     "text": [
      "a\n",
      " [[ 10  20  30  40]\n",
      " [ 50  60  70  80]\n",
      " [ 90 100 110 120]\n",
      " [130 140 150 160]]\n",
      "b\n",
      " [[ 10  20  30  40  50  60  70  80  90 100 110 120 130 140 150 160]]\n",
      "-----------------------------------------------------------\n",
      "b\n",
      " [[ 10  20  30  40  50  60  70  80  90 100 110 120 130 140 150 160]]\n"
     ]
    }
   ],
   "source": [
    "import numpy\n",
    "a=numpy.matrix(((10,20,30,40),(50,60,70,80),(90,100,110,120),(130,140,150,160)))\n",
    "b=a.flatten()\n",
    "print('a\\n',a)\n",
    "print('b\\n',b)\n",
    "print(\"-\"*59)\n",
    "b=a.flatten('C')\n",
    "print('b\\n',b)\n",
    "\n"
   ]
  },
  {
   "cell_type": "raw",
   "id": "4fc3f3bb",
   "metadata": {},
   "source": [
    "isme flatten by defalut row ko marge kar ke ooutput deta hai\n",
    "\n",
    "isme 4 options hote hai but ml me 2 importent hote hai\n",
    "1. row waise jisme flatten('c') hota but flatten() by default c hi hota hai\n",
    "2. column waise jisme flatten('F') hota hai\n"
   ]
  },
  {
   "cell_type": "code",
   "execution_count": 3,
   "id": "b0ddc888",
   "metadata": {},
   "outputs": [
    {
     "name": "stdout",
     "output_type": "stream",
     "text": [
      "Row flatten\n",
      "a\n",
      " [[ 10  20  30  40]\n",
      " [ 50  60  70  80]\n",
      " [ 90 100 110 120]\n",
      " [130 140 150 160]]\n",
      "b\n",
      " [[ 10  20  30  40  50  60  70  80  90 100 110 120 130 140 150 160]]\n",
      "-----------------------------------------------------------\n",
      "column flatten\n",
      "b\n",
      " [[ 10  50  90 130  20  60 100 140  30  70 110 150  40  80 120 160]]\n"
     ]
    }
   ],
   "source": [
    "a=numpy.matrix(((10,20,30,40),(50,60,70,80),(90,100,110,120),(130,140,150,160)))\n",
    "print(\"Row flatten\")\n",
    "b=a.flatten()\n",
    "print('a\\n',a)\n",
    "print('b\\n',b)\n",
    "print(\"-\"*59)\n",
    "\n",
    "print(\"column flatten\")\n",
    "b=a.flatten('F')\n",
    "print('b\\n',b)\n",
    "\n",
    "\n",
    "\n",
    "\n"
   ]
  },
  {
   "cell_type": "code",
   "execution_count": 4,
   "id": "7a685214",
   "metadata": {},
   "outputs": [
    {
     "name": "stdout",
     "output_type": "stream",
     "text": [
      "a\n",
      " [[ 1  2  3  4 41]\n",
      " [ 5  6  7  8 81]\n",
      " [ 9 10 11 12 91]]\n",
      "b\n",
      " [[ 1  2  3  4 41  5  6  7  8 81  9 10 11 12 91]]\n",
      "c\n",
      " [[ 1  2  3]\n",
      " [ 4 41  5]\n",
      " [ 6  7  8]\n",
      " [81  9 10]\n",
      " [11 12 91]]\n",
      "d\n",
      " [[ 1  2  3  4 41]\n",
      " [ 5  6  7  8 81]\n",
      " [ 9 10 11 12 91]]\n"
     ]
    }
   ],
   "source": [
    "a=numpy.matrix(((1,2,3,4,41),(5,6,7,8,81),(9,10,11,12,91)))\n",
    "b=a.flatten()\n",
    "print('a\\n',a)\n",
    "print('b\\n',b)\n",
    "c=b.reshape(5,3)\n",
    "print('c\\n',c)\n",
    "\n",
    "d=b.reshape(3,5)\n",
    "print('d\\n',d)\n"
   ]
  },
  {
   "cell_type": "code",
   "execution_count": 5,
   "id": "d0f14b5d",
   "metadata": {},
   "outputs": [
    {
     "name": "stdout",
     "output_type": "stream",
     "text": [
      "e\n",
      " [[ 1  2  3]\n",
      " [ 4 41  5]\n",
      " [ 6  7  8]\n",
      " [81  9 10]\n",
      " [11 12 91]]\n"
     ]
    }
   ],
   "source": [
    "#you can reshape matrix directly\n",
    "e=a.reshape(5,3)\n",
    "print('e\\n',e)"
   ]
  },
  {
   "cell_type": "code",
   "execution_count": 6,
   "id": "ffebc737",
   "metadata": {},
   "outputs": [
    {
     "ename": "ValueError",
     "evalue": "cannot reshape array of size 15 into shape (2,4)",
     "output_type": "error",
     "traceback": [
      "\u001b[0;31m---------------------------------------------------------------------------\u001b[0m",
      "\u001b[0;31mValueError\u001b[0m                                Traceback (most recent call last)",
      "\u001b[0;32m/var/folders/r3/j_j89gws7_z37_tf3yjldclr0000gn/T/ipykernel_5677/3760243392.py\u001b[0m in \u001b[0;36m<module>\u001b[0;34m\u001b[0m\n\u001b[1;32m      1\u001b[0m \u001b[0;31m# can not be left any element\u001b[0m\u001b[0;34m\u001b[0m\u001b[0;34m\u001b[0m\u001b[0m\n\u001b[0;32m----> 2\u001b[0;31m \u001b[0mf\u001b[0m\u001b[0;34m=\u001b[0m\u001b[0ma\u001b[0m\u001b[0;34m.\u001b[0m\u001b[0mreshape\u001b[0m\u001b[0;34m(\u001b[0m\u001b[0;36m2\u001b[0m\u001b[0;34m,\u001b[0m\u001b[0;36m4\u001b[0m\u001b[0;34m)\u001b[0m \u001b[0;31m# Wrong\u001b[0m\u001b[0;34m\u001b[0m\u001b[0;34m\u001b[0m\u001b[0m\n\u001b[0m\u001b[1;32m      3\u001b[0m \u001b[0;31m# and not add any element using reshape\u001b[0m\u001b[0;34m\u001b[0m\u001b[0;34m\u001b[0m\u001b[0m\n\u001b[1;32m      4\u001b[0m \u001b[0mf\u001b[0m\u001b[0;34m=\u001b[0m\u001b[0ma\u001b[0m\u001b[0;34m.\u001b[0m\u001b[0mreshape\u001b[0m\u001b[0;34m(\u001b[0m\u001b[0;36m3\u001b[0m\u001b[0;34m,\u001b[0m\u001b[0;36m6\u001b[0m\u001b[0;34m)\u001b[0m\u001b[0;34m\u001b[0m\u001b[0;34m\u001b[0m\u001b[0m\n",
      "\u001b[0;31mValueError\u001b[0m: cannot reshape array of size 15 into shape (2,4)"
     ]
    }
   ],
   "source": [
    "# can not be left any element\n",
    "f=a.reshape(2,4) # Wrong\n",
    "# and not add any element using reshape\n",
    "f=a.reshape(3,6)"
   ]
  },
  {
   "cell_type": "markdown",
   "id": "317bfb33",
   "metadata": {},
   "source": [
    "# Importent Point releated to reference"
   ]
  },
  {
   "cell_type": "code",
   "execution_count": 7,
   "id": "47cb6fc7",
   "metadata": {},
   "outputs": [
    {
     "name": "stdout",
     "output_type": "stream",
     "text": [
      "a\n",
      " [[10 20 30 40]\n",
      " [50 60 70 80]]\n",
      "b\n",
      " [[10 20 30 40]\n",
      " [50 60 70 80]]\n",
      "----------------------------------------\n",
      "a\n",
      " [[1010   20   30   40]\n",
      " [  50   60   70   80]]\n",
      "b\n",
      " [[1010   20   30   40]\n",
      " [  50   60   70   80]]\n"
     ]
    }
   ],
   "source": [
    "import numpy\n",
    "a =numpy.matrix(((10,20,30,40),(50,60,70,80)))\n",
    "print('a\\n',a)\n",
    "b=a\n",
    "print('b\\n',b)\n",
    "print('-'*40)\n",
    "b[0,0]=1010\n",
    "print('a\\n',a)\n",
    "print('b\\n',b)\n",
    "\n"
   ]
  },
  {
   "cell_type": "code",
   "execution_count": 8,
   "id": "3575a984",
   "metadata": {},
   "outputs": [
    {
     "name": "stdout",
     "output_type": "stream",
     "text": [
      "a\n",
      " [[10 20 30 40]\n",
      " [50 60 70 80]]\n",
      "b\n",
      " [[10 20 30 40]\n",
      " [50 60 70 80]]\n",
      "----------------------------------------\n",
      "a\n",
      " [[10 20 30 40]\n",
      " [50 60 70 80]]\n",
      "b\n",
      " [[1010   20   30   40]\n",
      " [  50   60   70   80]]\n"
     ]
    }
   ],
   "source": [
    "# if you need to make a copy\n",
    "\n",
    "a =numpy.matrix(((10,20,30,40),(50,60,70,80)))\n",
    "print('a\\n',a)\n",
    "b=a.copy()\n",
    "print('b\\n',b)\n",
    "print('-'*40)\n",
    "b[0,0]=1010\n",
    "print('a\\n',a)\n",
    "print('b\\n',b)\n",
    "\n"
   ]
  },
  {
   "cell_type": "code",
   "execution_count": 9,
   "id": "8c46f04c",
   "metadata": {},
   "outputs": [
    {
     "name": "stdout",
     "output_type": "stream",
     "text": [
      "a\n",
      " [[10 20 30 40]\n",
      " [50 60 70 80]]\n",
      "b\n",
      " [[10 20 30 40]\n",
      " [50 60 70 80]]\n",
      "----------------------------------------\n",
      "a\n",
      " [[1010   20   30   40]\n",
      " [  50   60   70   80]]\n",
      "b\n",
      " [[1010   20   30   40]\n",
      " [  50   60   70   80]]\n",
      "140379155953696 140379155411904\n",
      "diff is A obj , B obj  -> is point to main obj \n",
      "prof of concept :\n",
      "id of a\n",
      " 140379155953920\n",
      "id of b\n",
      " 140379155953920\n",
      "id of c\n",
      " 140379155411904\n",
      "id of d\n",
      " 140379155412800\n",
      "a,b address is same \n",
      "but c,d address are not same\n"
     ]
    }
   ],
   "source": [
    "# another operation is view()\n",
    "a =numpy.matrix(((10,20,30,40),(50,60,70,80)))\n",
    "print('a\\n',a)\n",
    "b=a.view()\n",
    "print('b\\n',b)\n",
    "print('-'*40)\n",
    "b[0,0]=1010\n",
    "print('a\\n',a)\n",
    "print('b\\n',b)\n",
    "\n",
    "\n",
    "print(id(a),id(b))\n",
    "\n",
    "print(\"diff is A obj , B obj  -> is point to main obj \")\n",
    "\n",
    "print(\"prof of concept :\")\n",
    "a =numpy.matrix(((10,20,30,40),(50,60,70,80)))\n",
    "b=a\n",
    "c=a.copy()\n",
    "d=a.view()\n",
    "\n",
    "print('id of a\\n',id(a))\n",
    "print('id of b\\n',id(b))\n",
    "print('id of c\\n',id(c))\n",
    "print('id of d\\n',id(d))\n",
    "\n",
    "print('a,b address is same \\nbut c,d address are not same')\n"
   ]
  },
  {
   "cell_type": "code",
   "execution_count": 10,
   "id": "09f0cc55",
   "metadata": {},
   "outputs": [
    {
     "name": "stdout",
     "output_type": "stream",
     "text": [
      "a\n",
      " [ 0  1  2  3  4  5  6  7  8  9 10 11 12 13 14 15 16 17 18 19 20 21 22 23\n",
      " 24 25 26 27 28 29 30 31 32 33 34 35 36 37 38 39 40 41 42 43 44 45 46 47\n",
      " 48 49 50 51 52 53 54 55 56 57 58 59 60 61 62 63 64 65 66 67 68 69 70 71\n",
      " 72 73 74 75 76 77 78 79 80 81 82 83 84 85 86 87 88 89 90 91 92 93 94 95\n",
      " 96 97 98 99]\n",
      "b\n",
      " [[ 0  1  2  3  4  5  6  7  8  9 10 11 12 13 14 15 16 17 18 19]\n",
      " [20 21 22 23 24 25 26 27 28 29 30 31 32 33 34 35 36 37 38 39]\n",
      " [40 41 42 43 44 45 46 47 48 49 50 51 52 53 54 55 56 57 58 59]\n",
      " [60 61 62 63 64 65 66 67 68 69 70 71 72 73 74 75 76 77 78 79]\n",
      " [80 81 82 83 84 85 86 87 88 89 90 91 92 93 94 95 96 97 98 99]]\n",
      "----------------------------------------\n",
      "c\n",
      " [[ 0  1  2  3  4  5  6  7  8  9 10 11 12 13 14 15 16 17 18 19 20 21 22 23\n",
      "  24]\n",
      " [25 26 27 28 29 30 31 32 33 34 35 36 37 38 39 40 41 42 43 44 45 46 47 48\n",
      "  49]]\n"
     ]
    }
   ],
   "source": [
    "# crate a element with a range\n",
    "a=numpy.arange(100)\n",
    "print('a\\n',a)\n",
    "b=a.reshape(5,20)\n",
    "print('b\\n',b)\n",
    "#-------------------\n",
    "print(\"-\"*40)\n",
    "c=numpy.arange(50).reshape(2,25)\n",
    "print('c\\n',c)\n"
   ]
  },
  {
   "cell_type": "code",
   "execution_count": 11,
   "id": "cb48da76",
   "metadata": {},
   "outputs": [
    {
     "name": "stdout",
     "output_type": "stream",
     "text": [
      "a\n",
      " [71 81 50 35 62 90 61 67 29 99 17 61 49 15 38 36 16 73 66 74 20 61 31 96\n",
      " 39 22 47 10 95 58 60 36  1 27 25  9 98 23 89 23 12  1 43 27 77 29 50 88\n",
      " 77 57]\n",
      "<class 'numpy.ndarray'>\n",
      "b\n",
      " [[40  0 41 88]\n",
      " [53 54 75 71]\n",
      " [75 21 75 60]\n",
      " [62 69 50 35]\n",
      " [62 73 60 74]]\n",
      "<class 'numpy.ndarray'>\n",
      "c\n",
      " [[40  0 41 88]\n",
      " [53 54 75 71]\n",
      " [75 21 75 60]\n",
      " [62 69 50 35]\n",
      " [62 73 60 74]]\n",
      "<class 'numpy.matrix'>\n"
     ]
    }
   ],
   "source": [
    "a=numpy.random.randint(100,size=50)\n",
    "print('a\\n',a)\n",
    "print(type(a))\n",
    "b = numpy.random.randint(100,size=(5,4))\n",
    "print('b\\n',b)\n",
    "print(type(b))\n",
    "\n",
    "c=numpy.matrix(b)\n",
    "print('c\\n',c)\n",
    "print(type(c))\n"
   ]
  },
  {
   "cell_type": "code",
   "execution_count": 12,
   "id": "6183d02d",
   "metadata": {},
   "outputs": [
    {
     "name": "stdout",
     "output_type": "stream",
     "text": [
      "a\n",
      " [[ 30  -1   2  30   3   2  -1 540]\n",
      " [  3 540  -1  40   3  40 540  -1]\n",
      " [  3 540  -1   2   2  30  -1  30]\n",
      " [ 40  -1  10  10   2  10  40   2]\n",
      " [ 40  40  10 540  -1  -1  30   2]]\n"
     ]
    }
   ],
   "source": [
    "a = numpy.random.choice([10,2,3,-1,540,40,30],size=(5,8))\n",
    "print('a\\n',a)"
   ]
  },
  {
   "cell_type": "code",
   "execution_count": 13,
   "id": "20195656",
   "metadata": {},
   "outputs": [
    {
     "name": "stdout",
     "output_type": "stream",
     "text": [
      "a\n",
      " [[10 65  6  4]\n",
      " [ 7 73 47 67]\n",
      " [83 34 97 47]\n",
      " [54 69 78 72]\n",
      " [82 52 37 76]]\n",
      "<class 'numpy.ndarray'>\n",
      "c\n",
      " [65 73 97 78 82]\n",
      "<class 'numpy.ndarray'>\n",
      "c\n",
      " [83 73 97 76]\n"
     ]
    }
   ],
   "source": [
    "# When pass a functions\n",
    "def get_max(a):\n",
    "    max=a[0]\n",
    "    for x in range(1,len(a)):\n",
    "        if a[x]>max: max=a[x]\n",
    "    return max\n",
    "\n",
    "a =numpy.random.randint(100,size=(5,4))\n",
    "print('a\\n',a)\n",
    "print(type(a))\n",
    "\n",
    "c =numpy.apply_along_axis(get_max,1,a)\n",
    "print('c\\n',c)\n",
    "print(type(c))\n",
    "\n",
    "c= numpy.apply_along_axis(get_max,0,a)\n",
    "print('c\\n',c)\n",
    "\n",
    "\n",
    "\n"
   ]
  },
  {
   "cell_type": "code",
   "execution_count": null,
   "id": "912ea2b1",
   "metadata": {},
   "outputs": [],
   "source": []
  }
 ],
 "metadata": {
  "kernelspec": {
   "display_name": "Python 3 (ipykernel)",
   "language": "python",
   "name": "python3"
  },
  "language_info": {
   "codemirror_mode": {
    "name": "ipython",
    "version": 3
   },
   "file_extension": ".py",
   "mimetype": "text/x-python",
   "name": "python",
   "nbconvert_exporter": "python",
   "pygments_lexer": "ipython3",
   "version": "3.9.7"
  },
  "vscode": {
   "interpreter": {
    "hash": "7e1998ff7f8aa20ada591c520b972326324e5ea05489af9e422744c7c09f6dad"
   }
  }
 },
 "nbformat": 4,
 "nbformat_minor": 5
}
