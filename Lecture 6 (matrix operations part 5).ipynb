{
 "cells": [
  {
   "attachments": {},
   "cell_type": "markdown",
   "id": "9a144eb6",
   "metadata": {},
   "source": [
    "# Convert comprass matrix it's orignal Matrix"
   ]
  },
  {
   "cell_type": "code",
   "execution_count": 7,
   "id": "91e48cba",
   "metadata": {},
   "outputs": [
    {
     "name": "stdout",
     "output_type": "stream",
     "text": [
      "<class 'numpy.matrix'>\n",
      "a\n",
      " [[0 0 0 1]\n",
      " [1 0 1 0]\n",
      " [0 0 0 0]\n",
      " [0 0 0 1]\n",
      " [0 1 0 0]]\n",
      "a in compressed from \n",
      "   (0, 3)\t1\n",
      "  (1, 0)\t1\n",
      "  (1, 2)\t1\n",
      "  (3, 3)\t1\n",
      "  (4, 1)\t1\n",
      "<class 'scipy.sparse._csr.csr_matrix'>\n",
      "b\n",
      " [[0 0 0 1]\n",
      " [1 0 1 0]\n",
      " [0 0 0 0]\n",
      " [0 0 0 1]\n",
      " [0 1 0 0]]\n",
      "<class 'numpy.ndarray'>\n",
      "c\n",
      " [[0 0 0 1]\n",
      " [1 0 1 0]\n",
      " [0 0 0 0]\n",
      " [0 0 0 1]\n",
      " [0 1 0 0]]\n",
      "<class 'numpy.matrix'>\n"
     ]
    }
   ],
   "source": [
    "import numpy\n",
    "import scipy.sparse\n",
    "a = numpy.matrix(((0,0,0,1),(1,0,1,0),(0,0,0,0),(0,0,0,1),(0,1,0,0)))\n",
    "print(type(a))\n",
    "print('a\\n',a)\n",
    "sc = scipy.sparse.csr_matrix(a)\n",
    "print('a in compressed from \\n',sc)\n",
    "print(type(sc))\n",
    "b = sc.toarray()\n",
    "print('b\\n',b)\n",
    "print(type(b))\n",
    "\n",
    "# it provide a ndarrya \\n now we convert into matrix\n",
    "\n",
    "c = numpy.matrix(b)\n",
    "print('c\\n',c)\n",
    "print(type(c))\n"
   ]
  },
  {
   "attachments": {},
   "cell_type": "markdown",
   "id": "ac50021b",
   "metadata": {},
   "source": [
    "# Ek row me karte hai matrix ko \n",
    "###\n",
    " `(Flatten karte hai)`"
   ]
  },
  {
   "cell_type": "code",
   "execution_count": 8,
   "id": "b61e2edd",
   "metadata": {},
   "outputs": [
    {
     "name": "stdout",
     "output_type": "stream",
     "text": [
      "a\n",
      " [[ 10  20  30  40]\n",
      " [ 50  60  70  80]\n",
      " [ 90 100 110 120]\n",
      " [130 140 150 160]]\n",
      "b\n",
      " [[ 10  20  30  40  50  60  70  80  90 100 110 120 130 140 150 160]]\n",
      "--------------------------------------------------\n",
      "b\n",
      " [[ 10  20  30  40  50  60  70  80  90 100 110 120 130 140 150 160]]\n"
     ]
    }
   ],
   "source": [
    "import numpy\n",
    "a=numpy.matrix(((10,20,30,40),(50,60,70,80),(90,100,110,120),(130,140,150,160)))\n",
    "b=a.flatten()\n",
    "print('a\\n',a)\n",
    "print('b\\n',b)\n",
    "print(\"-\"*50)\n",
    "b=a.flatten('C')\n",
    "print('b\\n',b)\n",
    "\n"
   ]
  },
  {
   "attachments": {},
   "cell_type": "markdown",
   "id": "f72f392e",
   "metadata": {},
   "source": [
    "---\n",
    "isme flatten by defalut row ko marge kar ke ooutput deta hai<br>\n",
    "isme 4 options hote hai but ml me 2 importent hote hai\n",
    "1. row waise jisme flatten('c') hota but flatten() by default c hi hota hai\n",
    "2. column waise jisme flatten('F') hota hai"
   ]
  },
  {
   "cell_type": "code",
   "execution_count": 9,
   "id": "b0ddc888",
   "metadata": {},
   "outputs": [
    {
     "name": "stdout",
     "output_type": "stream",
     "text": [
      "Row flatten\n",
      "a\n",
      " [[ 10  20  30  40]\n",
      " [ 50  60  70  80]\n",
      " [ 90 100 110 120]\n",
      " [130 140 150 160]]\n",
      "b\n",
      " [[ 10  20  30  40  50  60  70  80  90 100 110 120 130 140 150 160]]\n",
      "-----------------------------------------------------------\n",
      "column flatten\n",
      "b\n",
      " [[ 10  50  90 130  20  60 100 140  30  70 110 150  40  80 120 160]]\n"
     ]
    }
   ],
   "source": [
    "a=numpy.matrix(((10,20,30,40),(50,60,70,80),(90,100,110,120),(130,140,150,160)))\n",
    "print(\"Row flatten\")\n",
    "b=a.flatten()\n",
    "print('a\\n',a)\n",
    "print('b\\n',b)\n",
    "print(\"-\"*59)\n",
    "\n",
    "print(\"column flatten\")\n",
    "b=a.flatten('F')\n",
    "print('b\\n',b)\n",
    "\n",
    "\n",
    "\n",
    "\n"
   ]
  },
  {
   "cell_type": "code",
   "execution_count": 10,
   "id": "7a685214",
   "metadata": {},
   "outputs": [
    {
     "name": "stdout",
     "output_type": "stream",
     "text": [
      "a\n",
      " [[ 1  2  3  4 41]\n",
      " [ 5  6  7  8 81]\n",
      " [ 9 10 11 12 91]]\n",
      "b\n",
      " [[ 1  2  3  4 41  5  6  7  8 81  9 10 11 12 91]]\n",
      "c\n",
      " [[ 1  2  3]\n",
      " [ 4 41  5]\n",
      " [ 6  7  8]\n",
      " [81  9 10]\n",
      " [11 12 91]]\n",
      "d\n",
      " [[ 1  2  3  4 41]\n",
      " [ 5  6  7  8 81]\n",
      " [ 9 10 11 12 91]]\n"
     ]
    }
   ],
   "source": [
    "a=numpy.matrix(((1,2,3,4,41),(5,6,7,8,81),(9,10,11,12,91)))\n",
    "b=a.flatten()\n",
    "print('a\\n',a)\n",
    "print('b\\n',b)\n",
    "c=b.reshape(5,3)\n",
    "print('c\\n',c)\n",
    "\n",
    "d=b.reshape(3,5)\n",
    "print('d\\n',d)\n"
   ]
  },
  {
   "cell_type": "code",
   "execution_count": 11,
   "id": "d0f14b5d",
   "metadata": {},
   "outputs": [
    {
     "name": "stdout",
     "output_type": "stream",
     "text": [
      "e\n",
      " [[ 1  2  3]\n",
      " [ 4 41  5]\n",
      " [ 6  7  8]\n",
      " [81  9 10]\n",
      " [11 12 91]]\n"
     ]
    }
   ],
   "source": [
    "#you can reshape matrix directly\n",
    "\n",
    "e=a.reshape(5,3)\n",
    "print('e\\n',e)"
   ]
  },
  {
   "cell_type": "code",
   "execution_count": 12,
   "id": "ffebc737",
   "metadata": {},
   "outputs": [
    {
     "ename": "ValueError",
     "evalue": "cannot reshape array of size 15 into shape (2,4)",
     "output_type": "error",
     "traceback": [
      "\u001b[0;31m---------------------------------------------------------------------------\u001b[0m",
      "\u001b[0;31mValueError\u001b[0m                                Traceback (most recent call last)",
      "\u001b[1;32m/Users/sandeepmakwana/Documents/Machine learnning/Lecture 6 (matrix operations part 5).ipynb Cell 9\u001b[0m in \u001b[0;36m<cell line: 2>\u001b[0;34m()\u001b[0m\n\u001b[1;32m      <a href='vscode-notebook-cell:/Users/sandeepmakwana/Documents/Machine%20learnning/Lecture%206%20%28matrix%20operations%20part%205%29.ipynb#X11sZmlsZQ%3D%3D?line=0'>1</a>\u001b[0m \u001b[39m# can not be left any element\u001b[39;00m\n\u001b[0;32m----> <a href='vscode-notebook-cell:/Users/sandeepmakwana/Documents/Machine%20learnning/Lecture%206%20%28matrix%20operations%20part%205%29.ipynb#X11sZmlsZQ%3D%3D?line=1'>2</a>\u001b[0m f\u001b[39m=\u001b[39ma\u001b[39m.\u001b[39;49mreshape(\u001b[39m2\u001b[39;49m,\u001b[39m4\u001b[39;49m) \u001b[39m# Wrong\u001b[39;00m\n\u001b[1;32m      <a href='vscode-notebook-cell:/Users/sandeepmakwana/Documents/Machine%20learnning/Lecture%206%20%28matrix%20operations%20part%205%29.ipynb#X11sZmlsZQ%3D%3D?line=2'>3</a>\u001b[0m \u001b[39m# and not add any element using reshape\u001b[39;00m\n\u001b[1;32m      <a href='vscode-notebook-cell:/Users/sandeepmakwana/Documents/Machine%20learnning/Lecture%206%20%28matrix%20operations%20part%205%29.ipynb#X11sZmlsZQ%3D%3D?line=3'>4</a>\u001b[0m f\u001b[39m=\u001b[39ma\u001b[39m.\u001b[39mreshape(\u001b[39m3\u001b[39m,\u001b[39m6\u001b[39m)\n",
      "\u001b[0;31mValueError\u001b[0m: cannot reshape array of size 15 into shape (2,4)"
     ]
    }
   ],
   "source": [
    "# can not be left any element\n",
    "f=a.reshape(2,4) # Wrong\n",
    "# and not add any element using reshape\n",
    "f=a.reshape(3,6)"
   ]
  },
  {
   "cell_type": "markdown",
   "id": "317bfb33",
   "metadata": {},
   "source": [
    "# Importent Point releated to reference"
   ]
  },
  {
   "cell_type": "code",
   "execution_count": null,
   "id": "47cb6fc7",
   "metadata": {},
   "outputs": [],
   "source": [
    "import numpy\n",
    "a =numpy.matrix(((10,20,30,40),(50,60,70,80)))\n",
    "print('a\\n',a)\n",
    "b=a\n",
    "print('b\\n',b)\n",
    "print('-'*40)\n",
    "b[0,0]=1010\n",
    "print('a\\n',a)\n",
    "print('b\\n',b)\n",
    "\n"
   ]
  },
  {
   "cell_type": "code",
   "execution_count": null,
   "id": "3575a984",
   "metadata": {},
   "outputs": [],
   "source": [
    "# if you need to make a copy\n",
    "\n",
    "a =numpy.matrix(((10,20,30,40),(50,60,70,80)))\n",
    "print('a\\n',a)\n",
    "b=a.copy()\n",
    "print('b\\n',b)\n",
    "print('-'*40)\n",
    "b[0,0]=1010\n",
    "print('a\\n',a)\n",
    "print('b\\n',b)\n",
    "\n"
   ]
  },
  {
   "cell_type": "code",
   "execution_count": null,
   "id": "8c46f04c",
   "metadata": {},
   "outputs": [],
   "source": [
    "# another operation is view()\n",
    "a =numpy.matrix(((10,20,30,40),(50,60,70,80)))\n",
    "print('a\\n',a)\n",
    "b=a.view()\n",
    "print('b\\n',b)\n",
    "print('-'*40)\n",
    "b[0,0]=1010\n",
    "print('a\\n',a)\n",
    "print('b\\n',b)\n",
    "\n",
    "\n",
    "print(id(a),id(b))\n",
    "\n",
    "print(\"diff is A obj , B obj  -> is point to main obj \")\n",
    "\n",
    "print(\"prof of concept :\")\n",
    "a =numpy.matrix(((10,20,30,40),(50,60,70,80)))\n",
    "b=a\n",
    "c=a.copy()\n",
    "d=a.view()\n",
    "\n",
    "print('id of a\\n',id(a))\n",
    "print('id of b\\n',id(b))\n",
    "print('id of c\\n',id(c))\n",
    "print('id of d\\n',id(d))\n",
    "\n",
    "print('a,b address is same \\nbut c,d address are not same')\n"
   ]
  },
  {
   "cell_type": "code",
   "execution_count": null,
   "id": "09f0cc55",
   "metadata": {},
   "outputs": [],
   "source": [
    "# crate a element with a range\n",
    "a=numpy.arange(100)\n",
    "print('a\\n',a)\n",
    "b=a.reshape(5,20)\n",
    "print('b\\n',b)\n",
    "#-------------------\n",
    "print(\"-\"*40)\n",
    "c=numpy.arange(50).reshape(2,25)\n",
    "print('c\\n',c)\n"
   ]
  },
  {
   "cell_type": "code",
   "execution_count": 17,
   "id": "cb48da76",
   "metadata": {},
   "outputs": [
    {
     "name": "stdout",
     "output_type": "stream",
     "text": [
      "a\n",
      " [29 80 62 81 77 30 68  8 25  3  3 89 67 56 61 68 16 50 98 18 95 18 16 65\n",
      " 23 62 90 63 50 67  5 32 68 56 87 59 20 39 66 91 90 72 88 15 84 84 88 93\n",
      " 77 51]\n",
      "<class 'numpy.ndarray'>\n",
      "b\n",
      " [[97 95 26 59]\n",
      " [48  6 44 14]\n",
      " [30 73 58 89]\n",
      " [ 9 26 36 43]\n",
      " [83 61 73 29]]\n",
      "<class 'numpy.ndarray'>\n",
      "c\n",
      " [[97 95 26 59]\n",
      " [48  6 44 14]\n",
      " [30 73 58 89]\n",
      " [ 9 26 36 43]\n",
      " [83 61 73 29]]\n",
      "<class 'numpy.matrix'>\n"
     ]
    }
   ],
   "source": [
    "a=numpy.random.randint(100,size=50)\n",
    "print('a\\n',a)\n",
    "print(type(a))\n",
    "b = numpy.random.randint(100,size=(5,4))\n",
    "print('b\\n',b)\n",
    "print(type(b))\n",
    "\n",
    "c=numpy.matrix(b)\n",
    "print('c\\n',c)\n",
    "print(type(c))\n"
   ]
  },
  {
   "cell_type": "code",
   "execution_count": 18,
   "id": "6183d02d",
   "metadata": {},
   "outputs": [
    {
     "name": "stdout",
     "output_type": "stream",
     "text": [
      "a\n",
      " [[ 40  10  10  40  30  40   2  40]\n",
      " [ 40   2 540  -1  10   3   2 540]\n",
      " [  2  -1   2 540   2  10  40   3]\n",
      " [ -1  10   2  10   2  -1   3  40]\n",
      " [  2  10  30   2 540  40 540   3]]\n"
     ]
    }
   ],
   "source": [
    "a = numpy.random.choice([10,2,3,-1,540,40,30],size=(5,8))\n",
    "print('a\\n',a)"
   ]
  },
  {
   "cell_type": "code",
   "execution_count": 24,
   "id": "20195656",
   "metadata": {},
   "outputs": [
    {
     "name": "stdout",
     "output_type": "stream",
     "text": [
      "a\n",
      " [[ 5 62 49 60]\n",
      " [89 32 53 84]\n",
      " [83 66  9 44]\n",
      " [ 2 18 46 94]\n",
      " [63 47  3 30]]\n",
      "<class 'numpy.ndarray'>\n",
      "c\n",
      " [62 89 83 94 63]\n",
      "<class 'numpy.ndarray'>\n",
      "c\n",
      " [89 66 53 94]\n"
     ]
    }
   ],
   "source": [
    "# When pass a functions\n",
    "def get_max(a):\n",
    "    max = a[0]\n",
    "    for x in range(1, len(a)):\n",
    "        if a[x] > max:\n",
    "            max = a[x]\n",
    "    return max\n",
    "\n",
    "\n",
    "a = numpy.random.randint(100, size=(5, 4))\n",
    "print(\"a\\n\", a)\n",
    "print(type(a))\n",
    "\n",
    "# find max element in every row\n",
    "c = numpy.apply_along_axis(get_max, 1, a)\n",
    "print(\"c\\n\", c)\n",
    "print(type(c))\n",
    "\n",
    "# find max element in every columns\n",
    "c = numpy.apply_along_axis(get_max, 0, a)\n",
    "print(\"c\\n\", c)\n"
   ]
  }
 ],
 "metadata": {
  "kernelspec": {
   "display_name": "Python 3 (ipykernel)",
   "language": "python",
   "name": "python3"
  },
  "language_info": {
   "codemirror_mode": {
    "name": "ipython",
    "version": 3
   },
   "file_extension": ".py",
   "mimetype": "text/x-python",
   "name": "python",
   "nbconvert_exporter": "python",
   "pygments_lexer": "ipython3",
   "version": "3.10.2"
  },
  "vscode": {
   "interpreter": {
    "hash": "7e1998ff7f8aa20ada591c520b972326324e5ea05489af9e422744c7c09f6dad"
   }
  }
 },
 "nbformat": 4,
 "nbformat_minor": 5
}
