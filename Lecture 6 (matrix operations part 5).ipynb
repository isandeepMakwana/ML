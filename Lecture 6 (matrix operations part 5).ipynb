{
 "cells": [
  {
   "attachments": {},
   "cell_type": "markdown",
   "id": "9a144eb6",
   "metadata": {},
   "source": [
    "# Convert comprass matrix it's orignal Matrix"
   ]
  },
  {
   "cell_type": "code",
   "execution_count": null,
   "id": "91e48cba",
   "metadata": {},
   "outputs": [],
   "source": [
    "import numpy\n",
    "import scipy.sparse\n",
    "a = numpy.matrix(((0,0,0,1),(1,0,1,0),(0,0,0,0),(0,0,0,1),(0,1,0,0)))\n",
    "print(type(a))\n",
    "print('a\\n',a)\n",
    "sc = scipy.sparse.csr_matrix(a)\n",
    "print('a in compressed from \\n',sc)\n",
    "print(type(sc))\n",
    "b = sc.toarray()\n",
    "print('b\\n',b)\n",
    "print(type(b))\n",
    "\n",
    "# it provide a ndarrya \\n now we convert into matrix\n",
    "\n",
    "c = numpy.matrix(b)\n",
    "print('c\\n',c)\n",
    "print(type(c))\n"
   ]
  },
  {
   "attachments": {},
   "cell_type": "markdown",
   "id": "ac50021b",
   "metadata": {},
   "source": [
    "# Ek row me karte hai matrix ko \n",
    "###\n",
    " `(Flatten karte hai)`"
   ]
  },
  {
   "cell_type": "code",
   "execution_count": null,
   "id": "b61e2edd",
   "metadata": {},
   "outputs": [],
   "source": [
    "import numpy\n",
    "a=numpy.matrix(((10,20,30,40),(50,60,70,80),(90,100,110,120),(130,140,150,160)))\n",
    "b=a.flatten()\n",
    "print('a\\n',a)\n",
    "print('b\\n',b)\n",
    "print(\"-\"*50)\n",
    "b=a.flatten('C')\n",
    "print('b\\n',b)\n",
    "\n"
   ]
  },
  {
   "attachments": {},
   "cell_type": "markdown",
   "id": "f72f392e",
   "metadata": {},
   "source": [
    "---\n",
    "isme flatten by defalut row ko marge kar ke ooutput deta hai<br>\n",
    "isme 4 options hote hai but ml me 2 importent hote hai\n",
    "1. row waise jisme flatten('c') hota but flatten() by default c hi hota hai\n",
    "2. column waise jisme flatten('F') hota hai"
   ]
  },
  {
   "cell_type": "code",
   "execution_count": null,
   "id": "b0ddc888",
   "metadata": {},
   "outputs": [],
   "source": [
    "a=numpy.matrix(((10,20,30,40),(50,60,70,80),(90,100,110,120),(130,140,150,160)))\n",
    "print(\"Row flatten\")\n",
    "b=a.flatten()\n",
    "print('a\\n',a)\n",
    "print('b\\n',b)\n",
    "print(\"-\"*59)\n",
    "\n",
    "print(\"column flatten\")\n",
    "b=a.flatten('F')\n",
    "print('b\\n',b)\n",
    "\n",
    "\n",
    "\n",
    "\n"
   ]
  },
  {
   "cell_type": "code",
   "execution_count": null,
   "id": "7a685214",
   "metadata": {},
   "outputs": [],
   "source": [
    "a=numpy.matrix(((1,2,3,4,41),(5,6,7,8,81),(9,10,11,12,91)))\n",
    "b=a.flatten()\n",
    "print('a\\n',a)\n",
    "print('b\\n',b)\n",
    "c=b.reshape(5,3)\n",
    "print('c\\n',c)\n",
    "\n",
    "d=b.reshape(3,5)\n",
    "print('d\\n',d)\n"
   ]
  },
  {
   "cell_type": "code",
   "execution_count": null,
   "id": "d0f14b5d",
   "metadata": {},
   "outputs": [],
   "source": [
    "#you can reshape matrix directly\n",
    "\n",
    "e=a.reshape(5,3)\n",
    "print('e\\n',e)"
   ]
  },
  {
   "cell_type": "code",
   "execution_count": null,
   "id": "ffebc737",
   "metadata": {},
   "outputs": [],
   "source": [
    "# can not be left any element\n",
    "f=a.reshape(2,4) # Wrong\n",
    "# and not add any element using reshape\n",
    "f=a.reshape(3,6)"
   ]
  },
  {
   "cell_type": "markdown",
   "id": "317bfb33",
   "metadata": {},
   "source": [
    "# Importent Point releated to reference"
   ]
  },
  {
   "cell_type": "code",
   "execution_count": null,
   "id": "47cb6fc7",
   "metadata": {},
   "outputs": [],
   "source": [
    "import numpy\n",
    "a =numpy.matrix(((10,20,30,40),(50,60,70,80)))\n",
    "print('a\\n',a)\n",
    "b=a\n",
    "print('b\\n',b)\n",
    "print('-'*40)\n",
    "b[0,0]=1010\n",
    "print('a\\n',a)\n",
    "print('b\\n',b)\n",
    "\n"
   ]
  },
  {
   "cell_type": "code",
   "execution_count": null,
   "id": "3575a984",
   "metadata": {},
   "outputs": [],
   "source": [
    "# if you need to make a copy\n",
    "\n",
    "a =numpy.matrix(((10,20,30,40),(50,60,70,80)))\n",
    "print('a\\n',a)\n",
    "b=a.copy()\n",
    "print('b\\n',b)\n",
    "print('-'*40)\n",
    "b[0,0]=1010\n",
    "print('a\\n',a)\n",
    "print('b\\n',b)\n",
    "\n"
   ]
  },
  {
   "cell_type": "code",
   "execution_count": null,
   "id": "8c46f04c",
   "metadata": {},
   "outputs": [],
   "source": [
    "# another operation is view()\n",
    "a =numpy.matrix(((10,20,30,40),(50,60,70,80)))\n",
    "print('a\\n',a)\n",
    "b=a.view()\n",
    "print('b\\n',b)\n",
    "print('-'*40)\n",
    "b[0,0]=1010\n",
    "print('a\\n',a)\n",
    "print('b\\n',b)\n",
    "\n",
    "\n",
    "print(id(a),id(b))\n",
    "\n",
    "print(\"diff is A obj , B obj  -> is point to main obj \")\n",
    "\n",
    "print(\"prof of concept :\")\n",
    "a =numpy.matrix(((10,20,30,40),(50,60,70,80)))\n",
    "b=a\n",
    "c=a.copy()\n",
    "d=a.view()\n",
    "\n",
    "print('id of a\\n',id(a))\n",
    "print('id of b\\n',id(b))\n",
    "print('id of c\\n',id(c))\n",
    "print('id of d\\n',id(d))\n",
    "\n",
    "print('a,b address is same \\nbut c,d address are not same')\n"
   ]
  },
  {
   "cell_type": "code",
   "execution_count": null,
   "id": "09f0cc55",
   "metadata": {},
   "outputs": [],
   "source": [
    "# crate a element with a range\n",
    "a=numpy.arange(100)\n",
    "print('a\\n',a)\n",
    "b=a.reshape(5,20)\n",
    "print('b\\n',b)\n",
    "#-------------------\n",
    "print(\"-\"*40)\n",
    "c=numpy.arange(50).reshape(2,25)\n",
    "print('c\\n',c)\n"
   ]
  },
  {
   "cell_type": "code",
   "execution_count": null,
   "id": "cb48da76",
   "metadata": {},
   "outputs": [],
   "source": [
    "a=numpy.random.randint(100,size=50)\n",
    "print('a\\n',a)\n",
    "print(type(a))\n",
    "b = numpy.random.randint(100,size=(5,4))\n",
    "print('b\\n',b)\n",
    "print(type(b))\n",
    "\n",
    "c=numpy.matrix(b)\n",
    "print('c\\n',c)\n",
    "print(type(c))\n"
   ]
  },
  {
   "cell_type": "code",
   "execution_count": null,
   "id": "6183d02d",
   "metadata": {},
   "outputs": [],
   "source": [
    "a = numpy.random.choice([10,2,3,-1,540,40,30],size=(5,8))\n",
    "print('a\\n',a)"
   ]
  },
  {
   "cell_type": "code",
   "execution_count": null,
   "id": "20195656",
   "metadata": {},
   "outputs": [],
   "source": [
    "# When pass a functions\n",
    "def get_max(a):\n",
    "    max = a[0]\n",
    "    for x in range(1, len(a)):\n",
    "        if a[x] > max:\n",
    "            max = a[x]\n",
    "    return max\n",
    "\n",
    "\n",
    "a = numpy.random.randint(100, size=(5, 4))\n",
    "print(\"a\\n\", a)\n",
    "print(type(a))\n",
    "\n",
    "# find max element in every row\n",
    "c = numpy.apply_along_axis(get_max, 1, a)\n",
    "print(\"c\\n\", c)\n",
    "print(type(c))\n",
    "\n",
    "# find max element in every columns\n",
    "c = numpy.apply_along_axis(get_max, 0, a)\n",
    "print(\"c\\n\", c)\n"
   ]
  }
 ],
 "metadata": {
  "kernelspec": {
   "display_name": "base",
   "language": "python",
   "name": "python3"
  },
  "language_info": {
   "codemirror_mode": {
    "name": "ipython",
    "version": 3
   },
   "file_extension": ".py",
   "mimetype": "text/x-python",
   "name": "python",
   "nbconvert_exporter": "python",
   "pygments_lexer": "ipython3",
   "version": "3.9.7"
  },
  "vscode": {
   "interpreter": {
    "hash": "130826a50b4030fecff09c60f733bc90a93922839765dc4abeb8c6376ff802e4"
   }
  }
 },
 "nbformat": 4,
 "nbformat_minor": 5
}
