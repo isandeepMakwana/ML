{
 "cells": [
  {
   "attachments": {},
   "cell_type": "markdown",
   "metadata": {},
   "source": [
    "# Assignment KNN with other exmaple (Classification)"
   ]
  },
  {
   "cell_type": "code",
   "execution_count": 2,
   "metadata": {},
   "outputs": [],
   "source": [
    "# data prep\n",
    "import pandas as pd\n",
    "\n",
    "df=pd.read_csv('data/MOCK_DATA.csv')\n",
    "maths = df['maths']\n",
    "hindi = df['hindi']\n",
    "english=df['english']\n",
    "computer=df['computer']\n",
    "\n",
    "student_lst = [\n",
    "    (maths[i], hindi[i], english[i], computer[i]) for i in range(len(maths))\n",
    "]\n",
    "student_lst.sort(key=lambda x : x[0]-x[1]-x[2]-x[3])\n",
    "\n",
    "excellent_students=[]\n",
    "average_students=[]\n",
    "ok_students=[]\n",
    "for k, i in enumerate(student_lst):\n",
    "    if i[0] < 33 or i[1]<33 or i[2]<33 or i[3]<33:\n",
    "        ok_students.append(i)\n",
    "    elif k<17:\n",
    "        excellent_students.append(i)\n",
    "    elif k<34:\n",
    "        average_students.append(i)\n",
    "    else:\n",
    "        ok_students.append(i)\n"
   ]
  },
  {
   "cell_type": "code",
   "execution_count": 3,
   "metadata": {},
   "outputs": [
    {
     "name": "stdout",
     "output_type": "stream",
     "text": [
      "there was three groups 1. excellent_students = [(54, 94, 95, 75), (37, 57, 91, 56), (64, 76, 82, 72), (48, 52, 92, 67), (50, 72, 83, 57), (63, 89, 89, 37), (34, 85, 49, 46), (52, 35, 93, 66)] \n",
      " 2. average_students = [(62, 68, 42, 64), (60, 52, 61, 44), (75, 42, 54, 73), (76, 52, 68, 39), (73, 60, 44, 47), (90, 64, 67, 34)]\n",
      " 3. ok_students = [(30, 79, 46, 65), (25, 90, 47, 39), (36, 82, 78, 14), (32, 40, 69, 61), (53, 95, 87, 5), (58, 91, 79, 20), (36, 55, 99, 4), (46, 85, 80, 1), (61, 82, 84, 9), (33, 65, 49, 31), (70, 97, 75, 9), (44, 66, 74, 14), (38, 57, 54, 30), (43, 91, 5, 50), (30, 71, 37, 19), (54, 25, 64, 51), (54, 32, 29, 67), (96, 79, 66, 17), (54, 37, 67, 14), (70, 92, 3, 37), (88, 67, 51, 30), (78, 56, 22, 56), (42, 38, 24, 33), (79, 42, 38, 42), (38, 49, 5, 25), (79, 70, 37, 10), (78, 65, 11, 33), (40, 43, 3, 23), (56, 27, 31, 25), (71, 63, 25, 6), (73, 56, 29, 8), (40, 27, 18, 12), (72, 70, 5, 8), (86, 29, 25, 37), (50, 26, 15, 10), (83, 27, 9, 12)] \n"
     ]
    }
   ],
   "source": [
    "import math\n",
    "print(f\"there was three groups 1. excellent_students = {excellent_students} \\n 2. average_students = {average_students}\\n 3. ok_students = {ok_students} \")"
   ]
  },
  {
   "cell_type": "code",
   "execution_count": 4,
   "metadata": {},
   "outputs": [],
   "source": [
    "# Query data \n",
    "new_student = (56,82,51,40) # i think it is excellent_student "
   ]
  },
  {
   "cell_type": "code",
   "execution_count": 5,
   "metadata": {},
   "outputs": [
    {
     "name": "stdout",
     "output_type": "stream",
     "text": [
      "7\n",
      "[('excellence', 33), ('ok', 44), ('average', 48), ('ok', 51), ('average', 53), ('average', 53), ('excellence', 55)]\n",
      "average\n"
     ]
    }
   ],
   "source": [
    "# find the student_group\n",
    "import statistics\n",
    "def find_group(p,q ,group):\n",
    "    a=abs(p[0]-q[0])\n",
    "    b=abs(p[1]-q[1])\n",
    "    c=abs(p[2]-q[2])\n",
    "    d=abs(p[3]-q[3])\n",
    "    return (group,a+b+c+d)\n",
    "\n",
    "lst = [find_group(i,new_student,'excellence') for i in excellent_students]\n",
    "lst.extend(find_group(i,new_student,'average') for i in average_students)\n",
    "lst.extend(find_group(i,new_student,'ok') for i in ok_students)\n",
    "\n",
    "k = int(math.sqrt(len(excellent_students)+len(average_students)+len(ok_students)))\n",
    "if k%3==0:\n",
    "    k+=1\n",
    "print(k)\n",
    "\n",
    "lst.sort(key=lambda r : r[1])\n",
    "ktopRows = lst[:k]\n",
    "print(ktopRows)\n",
    "print(statistics.mode([ i[0] for i in ktopRows]))"
   ]
  },
  {
   "attachments": {},
   "cell_type": "markdown",
   "metadata": {},
   "source": [
    "---\n",
    "# KNN Example with Regration"
   ]
  },
  {
   "cell_type": "code",
   "execution_count": 6,
   "metadata": {},
   "outputs": [
    {
     "name": "stdout",
     "output_type": "stream",
     "text": [
      "1\n"
     ]
    }
   ],
   "source": [
    "# data prep\n",
    "# given hights , ages and find weight\n",
    "\n",
    "def find_distance(p,q):\n",
    "    a=abs(p[0]-q[0])\n",
    "    b=abs(p[1]-q[1])\n",
    "    return int(math.sqrt(a**2+b**2))\n",
    "\n",
    "\n",
    "import pandas as pd\n",
    "df = pd.read_csv('data/hight_age_data.csv')\n",
    "hights,age=df['hight'] , df['age']\n",
    "personList = [(hights[i],age[i]) for i in range(len(hights))]\n",
    "# print(personList)\n",
    "query_person=(6.4 , 23)\n",
    "\n",
    "lst=[find_distance(i,query_person) for i in personList]\n",
    "lst.sort()\n",
    "print(statistics.median(lst[:int(math.sqrt(len(lst)))]))\n",
    "\n",
    "\n",
    "\n",
    "\n",
    "\n",
    "\n"
   ]
  }
 ],
 "metadata": {
  "kernelspec": {
   "display_name": "base",
   "language": "python",
   "name": "python3"
  },
  "language_info": {
   "codemirror_mode": {
    "name": "ipython",
    "version": 3
   },
   "file_extension": ".py",
   "mimetype": "text/x-python",
   "name": "python",
   "nbconvert_exporter": "python",
   "pygments_lexer": "ipython3",
   "version": "3.9.7"
  },
  "orig_nbformat": 4,
  "vscode": {
   "interpreter": {
    "hash": "130826a50b4030fecff09c60f733bc90a93922839765dc4abeb8c6376ff802e4"
   }
  }
 },
 "nbformat": 4,
 "nbformat_minor": 2
}
