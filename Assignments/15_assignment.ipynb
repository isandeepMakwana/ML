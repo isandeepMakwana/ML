{
 "cells": [
  {
   "attachments": {},
   "cell_type": "markdown",
   "metadata": {},
   "source": [
    "# Assignment KNN with other exmaple (Classification)"
   ]
  },
  {
   "cell_type": "code",
   "execution_count": null,
   "metadata": {},
   "outputs": [],
   "source": [
    "# data prep\n",
    "import pandas as pd\n",
    "\n",
    "df=pd.read_csv('data/MOCK_DATA.csv')\n",
    "maths = df['maths']\n",
    "hindi = df['hindi']\n",
    "english=df['english']\n",
    "computer=df['computer']\n",
    "\n",
    "student_lst = [\n",
    "    (maths[i], hindi[i], english[i], computer[i]) for i in range(len(maths))\n",
    "]\n",
    "student_lst.sort(key=lambda x : x[0]-x[1]-x[2]-x[3])\n",
    "\n",
    "excellent_students=[]\n",
    "average_students=[]\n",
    "ok_students=[]\n",
    "for k, i in enumerate(student_lst):\n",
    "    if i[0] < 33 or i[1]<33 or i[2]<33 or i[3]<33:\n",
    "        ok_students.append(i)\n",
    "    elif k<17:\n",
    "        excellent_students.append(i)\n",
    "    elif k<34:\n",
    "        average_students.append(i)\n",
    "    else:\n",
    "        ok_students.append(i)\n"
   ]
  },
  {
   "cell_type": "code",
   "execution_count": null,
   "metadata": {},
   "outputs": [],
   "source": [
    "import math\n",
    "print(f\"there was three groups 1. excellent_students = {excellent_students} \\n 2. average_students = {average_students}\\n 3. ok_students = {ok_students} \")"
   ]
  },
  {
   "cell_type": "code",
   "execution_count": null,
   "metadata": {},
   "outputs": [],
   "source": [
    "# Query data \n",
    "new_student = (56,82,51,40) # i think it is excellent_student "
   ]
  },
  {
   "cell_type": "code",
   "execution_count": null,
   "metadata": {},
   "outputs": [],
   "source": [
    "# find the student_group\n",
    "import statistics\n",
    "def find_group(p,q ,group):\n",
    "    a=abs(p[0]-q[0])\n",
    "    b=abs(p[1]-q[1])\n",
    "    c=abs(p[2]-q[2])\n",
    "    d=abs(p[3]-q[3])\n",
    "    return (group,a+b+c+d)\n",
    "\n",
    "lst = [find_group(i,new_student,'excellence') for i in excellent_students]\n",
    "lst.extend(find_group(i,new_student,'average') for i in average_students)\n",
    "lst.extend(find_group(i,new_student,'ok') for i in ok_students)\n",
    "\n",
    "k = int(math.sqrt(len(excellent_students)+len(average_students)+len(ok_students)))\n",
    "if k%3==0:\n",
    "    k+=1\n",
    "print(k)\n",
    "\n",
    "lst.sort(key=lambda r : r[1])\n",
    "ktopRows = lst[:k]\n",
    "print(ktopRows)\n",
    "print(statistics.mode([ i[0] for i in ktopRows]))"
   ]
  },
  {
   "attachments": {},
   "cell_type": "markdown",
   "metadata": {},
   "source": [
    "---\n",
    "# KNN Example with Regration"
   ]
  },
  {
   "cell_type": "code",
   "execution_count": null,
   "metadata": {},
   "outputs": [],
   "source": [
    "# data prep\n",
    "# given hights , ages and find weight\n",
    "\n",
    "def find_distance(p,q):\n",
    "    a=abs(p[0]-q[0])\n",
    "    b=abs(p[1]-q[1])\n",
    "    return int(math.sqrt(a**2+b**2))\n",
    "\n",
    "\n",
    "import pandas as pd\n",
    "df = pd.read_csv('data/hight_age_data.csv')\n",
    "hights,age=df['hight'] , df['age']\n",
    "personList = [(hights[i],age[i]) for i in range(len(hights))]\n",
    "# print(personList)\n",
    "query_person=(6.4 , 23)\n",
    "\n",
    "lst=[find_distance(i,query_person) for i in personList]\n",
    "lst.sort()\n",
    "print(statistics.median(lst[:int(math.sqrt(len(lst)))]))\n",
    "\n",
    "\n",
    "\n",
    "\n",
    "\n",
    "\n"
   ]
  },
  {
   "cell_type": "code",
   "execution_count": null,
   "metadata": {},
   "outputs": [],
   "source": []
  }
 ],
 "metadata": {
  "kernelspec": {
   "display_name": "Python 3",
   "language": "python",
   "name": "python3"
  },
  "language_info": {
   "codemirror_mode": {
    "name": "ipython",
    "version": 3
   },
   "file_extension": ".py",
   "mimetype": "text/x-python",
   "name": "python",
   "nbconvert_exporter": "python",
   "pygments_lexer": "ipython3",
   "version": "3.10.2"
  },
  "orig_nbformat": 4,
  "vscode": {
   "interpreter": {
    "hash": "7e1998ff7f8aa20ada591c520b972326324e5ea05489af9e422744c7c09f6dad"
   }
  }
 },
 "nbformat": 4,
 "nbformat_minor": 2
}
