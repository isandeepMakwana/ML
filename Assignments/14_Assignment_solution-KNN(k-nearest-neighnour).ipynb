{
 "cells": [
  {
   "cell_type": "markdown",
   "metadata": {},
   "source": [
    "# KNN-as Assingment"
   ]
  },
  {
   "cell_type": "markdown",
   "metadata": {},
   "source": [
    "### 1. data points (data sets)"
   ]
  },
  {
   "cell_type": "code",
   "execution_count": 1,
   "metadata": {
    "ExecuteTime": {
     "end_time": "2023-12-07T03:11:26.279569Z",
     "start_time": "2023-12-07T03:11:24.627044Z"
    }
   },
   "outputs": [
    {
     "data": {
      "text/plain": [
       "[<matplotlib.lines.Line2D at 0x7fae4078ce80>]"
      ]
     },
     "execution_count": 1,
     "metadata": {},
     "output_type": "execute_result"
    },
    {
     "data": {
      "image/png": "[encoded data removed]",
      "text/plain": [
       "<Figure size 640x480 with 1 Axes>"
      ]
     },
     "metadata": {},
     "output_type": "display_data"
    }
   ],
   "source": [
    "# create a dataset for knn just for example actual is very uncertain and very big\n",
    "import matplotlib.pyplot\n",
    "matplotlib.pyplot.plot(10,20,\"ro\")\n",
    "matplotlib.pyplot.plot(20,25,\"ro\")\n",
    "matplotlib.pyplot.plot(15,20,\"ro\")\n",
    "matplotlib.pyplot.plot(30,45,\"ro\")\n",
    "matplotlib.pyplot.plot(10,10,\"ro\")\n",
    "matplotlib.pyplot.plot(50,25,\"ro\")\n",
    "matplotlib.pyplot.plot(30,55,\"ro\")\n",
    "matplotlib.pyplot.plot(40,60,\"ro\")\n",
    "#following Represents  B Class\n",
    "matplotlib.pyplot.plot(100,120,\"go\")\n",
    "matplotlib.pyplot.plot(120,125,\"go\")\n",
    "matplotlib.pyplot.plot(115,120,\"go\")\n",
    "matplotlib.pyplot.plot(130,145,\"go\")\n",
    "matplotlib.pyplot.plot(100,100,\"go\")\n",
    "matplotlib.pyplot.plot(150,125,\"go\")\n",
    "matplotlib.pyplot.plot(130,155,\"go\")\n",
    "matplotlib.pyplot.plot(140,160,\"go\")\n",
    "\n",
    "# create query pint in black\n",
    "queryX = 80\n",
    "queryY = 100\n",
    "matplotlib.pyplot.plot(queryX , queryY ,color=\"black\" , marker =\"o\" , markersize=20)\n"
   ]
  },
  {
   "cell_type": "markdown",
   "metadata": {},
   "source": [
    "# KNN - ALGO - CODE"
   ]
  },
  {
   "cell_type": "code",
   "execution_count": 2,
   "metadata": {
    "ExecuteTime": {
     "end_time": "2023-12-07T03:11:26.281969Z",
     "start_time": "2023-12-07T03:11:26.243676Z"
    }
   },
   "outputs": [],
   "source": [
    "# data set created\n",
    "import numpy\n",
    "a = numpy.array([[10, 20], [20, 25], [15, 20], [30, 45], [10, 10], [50, 25], [30, 55], [40, 60]])\n",
    "b = numpy.array([[100, 120],[120, 125],[115, 120],[130, 145],[100, 100],[150, 125],[130, 155],[140, 160]])"
   ]
  },
  {
   "cell_type": "markdown",
   "metadata": {},
   "source": [
    "### 2. Decide the value of K (int sqrt(len of datasets))"
   ]
  },
  {
   "cell_type": "code",
   "execution_count": 3,
   "metadata": {
    "ExecuteTime": {
     "end_time": "2023-12-07T03:11:26.282238Z",
     "start_time": "2023-12-07T03:11:26.246853Z"
    }
   },
   "outputs": [],
   "source": [
    "# decide the value of K , and k=sqrt(n) and not multiple of cont of data set\n",
    "import math\n",
    "k = int(math.sqrt(len(a)+len(b)))\n",
    "if k%2==0:\n",
    "    k+=1\n",
    "# print(k)\n"
   ]
  },
  {
   "cell_type": "markdown",
   "metadata": {},
   "source": [
    "### 3. Query data | new data  , whose calsee is to be identified point"
   ]
  },
  {
   "cell_type": "code",
   "execution_count": 4,
   "metadata": {
    "ExecuteTime": {
     "end_time": "2023-12-07T03:11:26.282415Z",
     "start_time": "2023-12-07T03:11:26.251337Z"
    }
   },
   "outputs": [],
   "source": [
    "# query point\n",
    "query = (80,100)"
   ]
  },
  {
   "cell_type": "markdown",
   "metadata": {},
   "source": [
    "### 4. Calculate the distance between query point and each element in data set and store in to a like ('A',25)"
   ]
  },
  {
   "cell_type": "code",
   "execution_count": 5,
   "metadata": {
    "ExecuteTime": {
     "end_time": "2023-12-07T03:11:26.282605Z",
     "start_time": "2023-12-07T03:11:26.256811Z"
    }
   },
   "outputs": [
    {
     "name": "stdout",
     "output_type": "stream",
     "text": [
      "[('A', 106.30145812734649), ('A', 96.04686356149273), ('A', 103.07764064044152), ('A', 74.33034373659252), ('A', 114.0175425099138), ('A', 80.77747210701756), ('A', 67.26812023536856), ('A', 56.568542494923804), ('B', 28.284271247461902), ('B', 47.16990566028302), ('B', 40.311288741492746), ('B', 67.26812023536856), ('B', 20.0), ('B', 74.33034373659252), ('B', 74.33034373659252), ('B', 84.8528137423857)]\n"
     ]
    }
   ],
   "source": [
    "# Euclidean method \n",
    "# calculate the distance between query point and each element\n",
    "\n",
    "def find_distance(group,p, q):\n",
    "    a = p[0]-q[0]\n",
    "    b = p[1]-q[1]\n",
    "    return group,math.sqrt(a ** 2 + b ** 2)\n",
    "\n",
    "# find_distance('A',[10,20],query)\n",
    "lst=[]\n",
    "for i in a:\n",
    "    lst.append(find_distance('A',i,query))\n",
    "for j in b:\n",
    "    lst.append(find_distance('B',j,query))\n",
    "\n",
    "print(lst)\n"
   ]
  },
  {
   "cell_type": "markdown",
   "metadata": {},
   "source": [
    "### 5. Sort the list by the values "
   ]
  },
  {
   "cell_type": "code",
   "execution_count": 6,
   "metadata": {
    "ExecuteTime": {
     "end_time": "2023-12-07T03:11:26.282752Z",
     "start_time": "2023-12-07T03:11:26.261613Z"
    }
   },
   "outputs": [
    {
     "name": "stdout",
     "output_type": "stream",
     "text": [
      "[('B', 20.0), ('B', 28.284271247461902), ('B', 40.311288741492746), ('B', 47.16990566028302), ('A', 56.568542494923804), ('A', 67.26812023536856), ('B', 67.26812023536856), ('A', 74.33034373659252), ('B', 74.33034373659252), ('B', 74.33034373659252), ('A', 80.77747210701756), ('B', 84.8528137423857), ('A', 96.04686356149273), ('A', 103.07764064044152), ('A', 106.30145812734649), ('A', 114.0175425099138)]\n"
     ]
    }
   ],
   "source": [
    "# sort the basic of distance \n",
    "lst.sort(key=lambda x: x[1])\n",
    "print(lst)"
   ]
  },
  {
   "cell_type": "markdown",
   "metadata": {},
   "source": [
    "### 6. Choose the top k Rows"
   ]
  },
  {
   "cell_type": "code",
   "execution_count": 7,
   "metadata": {
    "ExecuteTime": {
     "end_time": "2023-12-07T03:11:26.282863Z",
     "start_time": "2023-12-07T03:11:26.267570Z"
    }
   },
   "outputs": [
    {
     "name": "stdout",
     "output_type": "stream",
     "text": [
      "5\n"
     ]
    }
   ],
   "source": [
    "# choose the top k rows\n",
    "print(k)\n",
    "top_k_rows=lst[:k]"
   ]
  },
  {
   "cell_type": "markdown",
   "metadata": {},
   "source": [
    "### 7. Count the frequency of A and B top K Rows"
   ]
  },
  {
   "cell_type": "code",
   "execution_count": 8,
   "metadata": {
    "ExecuteTime": {
     "end_time": "2023-12-07T03:11:26.283176Z",
     "start_time": "2023-12-07T03:11:26.270602Z"
    }
   },
   "outputs": [
    {
     "name": "stdout",
     "output_type": "stream",
     "text": [
      "counts of a = 1 and b = 4\n"
     ]
    }
   ],
   "source": [
    "a,b=0,0\n",
    "for i in top_k_rows:\n",
    "    if i[0]=='A':a+=1\n",
    "    else: b+=1\n",
    "\n",
    "print(f'counts of a = {a} and b = {b}')"
   ]
  },
  {
   "cell_type": "markdown",
   "metadata": {},
   "source": [
    "### 8. The identified class is the one most frequency count (MODE)"
   ]
  },
  {
   "cell_type": "code",
   "execution_count": 9,
   "metadata": {
    "ExecuteTime": {
     "end_time": "2023-12-07T03:11:26.283288Z",
     "start_time": "2023-12-07T03:11:26.273875Z"
    }
   },
   "outputs": [
    {
     "name": "stdout",
     "output_type": "stream",
     "text": [
      "the query point(80, 100) is on Group \"B\"\n"
     ]
    }
   ],
   "source": [
    "if a<b: print(f'the query point{query} is on Group \"B\"')\n",
    "elif a>b : print(f'the query point {query} is on Group \"A')"
   ]
  }
 ],
 "metadata": {
  "kernelspec": {
   "display_name": "Python 3 (ipykernel)",
   "language": "python",
   "name": "python3"
  },
  "language_info": {
   "codemirror_mode": {
    "name": "ipython",
    "version": 3
   },
   "file_extension": ".py",
   "mimetype": "text/x-python",
   "name": "python",
   "nbconvert_exporter": "python",
   "pygments_lexer": "ipython3",
   "version": "3.9.13"
  },
  "vscode": {
   "interpreter": {
    "hash": "130826a50b4030fecff09c60f733bc90a93922839765dc4abeb8c6376ff802e4"
   }
  }
 },
 "nbformat": 4,
 "nbformat_minor": 2
}
