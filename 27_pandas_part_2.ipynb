{
 "cells": [
  {
   "cell_type": "code",
   "execution_count": 1,
   "metadata": {},
   "outputs": [
    {
     "name": "stdout",
     "output_type": "stream",
     "text": [
      "   code    name\n",
      "0     1  indore\n",
      "1     2  ujjain\n",
      "2     3  Mumbai\n",
      "3     4    Pune\n",
      "   roll_number    name  city_code\n",
      "0          101  Pankaj          1\n",
      "1          102  sudhir          2\n",
      "2          103  Ramesh          2\n",
      "3          104  Rakesh          4\n",
      "   roll_number  name_x  city_code  code  name_y\n",
      "0          101  Pankaj          1     1  indore\n",
      "1          102  sudhir          2     2  ujjain\n",
      "2          103  Ramesh          2     2  ujjain\n",
      "3          104  Rakesh          4     4    Pune\n"
     ]
    }
   ],
   "source": [
    "import pandas \n",
    "cities=pandas.DataFrame({\n",
    "\"code\":[1,2,3,4],\n",
    "\"name\":[\"indore\",\"ujjain\",\"Mumbai\",\"Pune\"]\n",
    "})\n",
    "\n",
    "students = pandas.DataFrame({\n",
    "\"roll_number\":[101,102,103,104],\n",
    "\"name\":[\"Pankaj\",\"sudhir\",\"Ramesh\",\"Rakesh\"],\n",
    "\"city_code\":[1,2,2,4]\n",
    "})\n",
    "print(cities)\n",
    "print(students)\n",
    "# merge the both dataFrames\n",
    "student_with_cities = pandas.merge(students,cities,how=\"inner\", left_on=[\"city_code\"] , right_on=[\"code\"])\n",
    "print(student_with_cities)\n"
   ]
  },
  {
   "cell_type": "code",
   "execution_count": null,
   "metadata": {},
   "outputs": [],
   "source": [
    "#print(student_with_cities)\n",
    "print(type(student_with_cities))\n",
    "print(student_with_cities.loc[:,student_with_cities.columns!=\"city_code\"])\n",
    "# tips_gb[['total_bill', 'tip']].transform(lambda x: x / x.mean()).head()\n"
   ]
  },
  {
   "cell_type": "code",
   "execution_count": null,
   "metadata": {},
   "outputs": [],
   "source": [
    "# copy to clipbord\n",
    "import pandas\n",
    "dataFrame = pandas.read_csv(\"data/data26/video26_dataset_1.tsv\",sep=\"\\t\")\n",
    "dataFrame.to_clipboard()"
   ]
  },
  {
   "cell_type": "code",
   "execution_count": null,
   "metadata": {},
   "outputs": [],
   "source": [
    "# to html\n",
    "dataFrame.to_html(\"data/outputs/abcd.html\")"
   ]
  },
  {
   "cell_type": "code",
   "execution_count": null,
   "metadata": {},
   "outputs": [],
   "source": [
    "# to json\n",
    "dataFrame.to_json(\"data/outputs/pqr.json\") #it's not perfect\n",
    "dataFrame.to_json(\"data/outputs/abc.json\",orient=\"table\") # it's perfect"
   ]
  },
  {
   "cell_type": "code",
   "execution_count": null,
   "metadata": {},
   "outputs": [],
   "source": [
    "from sqlalchemy import create_engine\n",
    "engine = create_engine('sqlite://', echo=False)\n",
    "dataFrame.to_sql('users', con=engine)\n",
    "engine.execute(\"SELECT * FROM users\").fetchall()\n",
    "\n",
    "# conn = sqlite3.connect('data/db.sqlite3')\n",
    "\n",
    "\n",
    "#     # write data to database\n",
    "#     df.to_sql(\"app_weather\", conn, if_exists=\"replace\",\n",
    "#             index=True, index_label='id')\n",
    "#     stats.to_sql(\"app_stats\", conn, if_exists=\"replace\",\n",
    "#                 index=True, index_label='id')\n",
    "#     # close database connection\n",
    "#     conn.close()"
   ]
  },
  {
   "attachments": {},
   "cell_type": "markdown",
   "metadata": {},
   "source": [
    "# not advisable"
   ]
  },
  {
   "cell_type": "code",
   "execution_count": null,
   "metadata": {},
   "outputs": [],
   "source": [
    "# import sys\n",
    "# !{sys.executable} -m pip install xlwt\n",
    "# to string \n",
    "a=dataFrame.to_string()\n",
    "print(a)\n",
    "dataFrame.to_excel(\"data/outputs/pqrpqr.xls\")"
   ]
  },
  {
   "attachments": {},
   "cell_type": "markdown",
   "metadata": {},
   "source": [
    "---\n",
    "# Assingment\n",
    "* what is indexing (agar mera data me pan and aadhar hota hai to me uske bases pe unke liye indexes create kar luga) => not releated to pandas\n",
    "* multi indexing data frame\n",
    "* read from json/excel\n",
    "* read_csv (how to read n rows at a time) - for a lesser memory footprint\n",
    "* mongo db"
   ]
  },
  {
   "attachments": {},
   "cell_type": "markdown",
   "metadata": {},
   "source": [
    "#### read_csv (how to read n rows at a time) - for a lesser memory footprint"
   ]
  },
  {
   "cell_type": "code",
   "execution_count": 295,
   "metadata": {},
   "outputs": [
    {
     "name": "stdout",
     "output_type": "stream",
     "text": [
      "       country continent  year  lifeExp       pop   gdpPercap\n",
      "0  Afghanistan      Asia  1952   28.801   8425333  779.445314\n",
      "1  Afghanistan      Asia  1957   30.332   9240934  820.853030\n",
      "2  Afghanistan      Asia  1962   31.997  10267083  853.100710\n",
      "3  Afghanistan      Asia  1967   34.020  11537966  836.197138\n",
      "4  Afghanistan      Asia  1972   36.088  13079460  739.981106\n",
      "5  Afghanistan      Asia  1977   38.438  14880372  786.113360\n",
      "6  Afghanistan      Asia  1982   39.854  12881816  978.011439\n",
      "7  Afghanistan      Asia  1987   40.822  13867957  852.395945\n",
      "8  Afghanistan      Asia  1992   41.674  16317921  649.341395\n",
      "9  Afghanistan      Asia  1997   41.763  22227415  635.341351\n",
      "        country continent  year  lifeExp       pop    gdpPercap\n",
      "10  Afghanistan      Asia  2002   42.129  25268405   726.734055\n",
      "11  Afghanistan      Asia  2007   43.828  31889923   974.580338\n",
      "12      Albania    Europe  1952   55.230   1282697  1601.056136\n",
      "13      Albania    Europe  1957   59.280   1476505  1942.284244\n",
      "14      Albania    Europe  1962   64.820   1728137  2312.888958\n",
      "15      Albania    Europe  1967   66.220   1984060  2760.196931\n",
      "16      Albania    Europe  1972   67.690   2263554  3313.422188\n",
      "17      Albania    Europe  1977   68.930   2509048  3533.003910\n",
      "18      Albania    Europe  1982   70.420   2780097  3630.880722\n",
      "19      Albania    Europe  1987   72.000   3075321  3738.932735\n"
     ]
    }
   ],
   "source": [
    "# chunksize= is a very useful argument because the output of read_csv after passing it is an iterator, so you can call the next() function on it to get the specific chunk you want without straining your memory. For example, to get the first n rows, you can use\n",
    "chunks=pandas.read_csv(\"data/data26/video26_dataset_1.tsv\",sep=\"\\t\",chunksize=10)\n",
    "\n",
    "df = next(chunks)\n",
    "print(df)\n",
    "df = next(chunks)\n",
    "print(df)\n"
   ]
  },
  {
   "cell_type": "code",
   "execution_count": 296,
   "metadata": {},
   "outputs": [
    {
     "name": "stdout",
     "output_type": "stream",
     "text": [
      "       country continent  year  lifeExp       pop   gdpPercap\n",
      "0  Afghanistan      Asia  1952   28.801   8425333  779.445314\n",
      "1  Afghanistan      Asia  1957   30.332   9240934  820.853030\n",
      "2  Afghanistan      Asia  1962   31.997  10267083  853.100710\n",
      "3  Afghanistan      Asia  1967   34.020  11537966  836.197138\n",
      "4  Afghanistan      Asia  1972   36.088  13079460  739.981106\n",
      "5  Afghanistan      Asia  1977   38.438  14880372  786.113360\n",
      "6  Afghanistan      Asia  1982   39.854  12881816  978.011439\n",
      "7  Afghanistan      Asia  1987   40.822  13867957  852.395945\n",
      "8  Afghanistan      Asia  1992   41.674  16317921  649.341395\n",
      "9  Afghanistan      Asia  1997   41.763  22227415  635.341351\n",
      "   Algeria  Africa  1977  58.014  17152804  4910.416756\n",
      "0  Algeria  Africa  1982  61.368  20033753  5745.160213\n",
      "1  Algeria  Africa  1987  65.799  23254956  5681.358539\n",
      "2  Algeria  Africa  1992  67.744  26298373  5023.216647\n",
      "3  Algeria  Africa  1997  69.152  29072015  4797.295051\n",
      "4  Algeria  Africa  2002  70.994  31287142  5288.040382\n",
      "5  Algeria  Africa  2007  72.301  33333216  6223.367465\n",
      "6   Angola  Africa  1952  30.015   4232095  3520.610273\n",
      "7   Angola  Africa  1957  31.999   4561361  3827.940465\n",
      "8   Angola  Africa  1962  34.000   4826015  4269.276742\n",
      "9   Angola  Africa  1967  35.985   5247469  5522.776375\n"
     ]
    }
   ],
   "source": [
    "# If you only want to read the first 10 (non-header) rows:\n",
    "dataFrame=pandas.read_csv(\"data/data26/video26_dataset_1.tsv\",sep=\"\\t\" ,nrows=10)\n",
    "print(dataFrame)\n",
    "\n",
    "# If you only want to read rows 30-40\n",
    "dataFrame=pandas.read_csv(\"data/data26/video26_dataset_1.tsv\",sep=\"\\t\" ,skiprows=30, nrows=10)\n",
    "print(dataFrame)"
   ]
  },
  {
   "attachments": {},
   "cell_type": "markdown",
   "metadata": {},
   "source": [
    "### Multi-index"
   ]
  },
  {
   "cell_type": "code",
   "execution_count": 297,
   "metadata": {},
   "outputs": [
    {
     "data": {
      "text/html": [
       "<div>\n",
       "<style scoped>\n",
       "    .dataframe tbody tr th:only-of-type {\n",
       "        vertical-align: middle;\n",
       "    }\n",
       "\n",
       "    .dataframe tbody tr th {\n",
       "        vertical-align: top;\n",
       "    }\n",
       "\n",
       "    .dataframe thead th {\n",
       "        text-align: right;\n",
       "    }\n",
       "</style>\n",
       "<table border=\"1\" class=\"dataframe\">\n",
       "  <thead>\n",
       "    <tr style=\"text-align: right;\">\n",
       "      <th></th>\n",
       "      <th></th>\n",
       "      <th>max_speed</th>\n",
       "      <th>shield</th>\n",
       "    </tr>\n",
       "  </thead>\n",
       "  <tbody>\n",
       "    <tr>\n",
       "      <th rowspan=\"2\" valign=\"top\">cobra</th>\n",
       "      <th>mark i</th>\n",
       "      <td>12</td>\n",
       "      <td>2</td>\n",
       "    </tr>\n",
       "    <tr>\n",
       "      <th>mark ii</th>\n",
       "      <td>0</td>\n",
       "      <td>4</td>\n",
       "    </tr>\n",
       "    <tr>\n",
       "      <th rowspan=\"2\" valign=\"top\">sidewinder</th>\n",
       "      <th>mark i</th>\n",
       "      <td>10</td>\n",
       "      <td>20</td>\n",
       "    </tr>\n",
       "    <tr>\n",
       "      <th>mark ii</th>\n",
       "      <td>1</td>\n",
       "      <td>4</td>\n",
       "    </tr>\n",
       "    <tr>\n",
       "      <th rowspan=\"2\" valign=\"top\">viper</th>\n",
       "      <th>mark ii</th>\n",
       "      <td>7</td>\n",
       "      <td>1</td>\n",
       "    </tr>\n",
       "    <tr>\n",
       "      <th>mark iii</th>\n",
       "      <td>16</td>\n",
       "      <td>36</td>\n",
       "    </tr>\n",
       "  </tbody>\n",
       "</table>\n",
       "</div>"
      ],
      "text/plain": [
       "                     max_speed  shield\n",
       "cobra      mark i           12       2\n",
       "           mark ii           0       4\n",
       "sidewinder mark i           10      20\n",
       "           mark ii           1       4\n",
       "viper      mark ii           7       1\n",
       "           mark iii         16      36"
      ]
     },
     "execution_count": 297,
     "metadata": {},
     "output_type": "execute_result"
    }
   ],
   "source": [
    "import pandas\n",
    "tuples = [\n",
    "   ('cobra', 'mark i'), ('cobra', 'mark ii'),\n",
    "   ('sidewinder', 'mark i'), ('sidewinder', 'mark ii'),\n",
    "   ('viper', 'mark ii'), ('viper', 'mark iii')\n",
    "]\n",
    "index = pandas.MultiIndex.from_tuples(tuples)\n",
    "values = [[12, 2], [0, 4], [10, 20],\n",
    "        [1, 4], [7, 1], [16, 36]]\n",
    "dataFrame = pandas.DataFrame(values, columns=['max_speed', 'shield'], index=index)\n",
    "# tips.groupby(['sex', 'smoker']).agg({'tip': 'mean'})\n",
    "# print(dataFrame)\n",
    "dataFrame"
   ]
  },
  {
   "cell_type": "code",
   "execution_count": 298,
   "metadata": {},
   "outputs": [
    {
     "name": "stdout",
     "output_type": "stream",
     "text": [
      "MultiIndex([(     'cobra',   'mark i'),\n",
      "            (     'cobra',  'mark ii'),\n",
      "            ('sidewinder',   'mark i'),\n",
      "            ('sidewinder',  'mark ii'),\n",
      "            (     'viper',  'mark ii'),\n",
      "            (     'viper', 'mark iii')],\n",
      "           )\n",
      "         max_speed  shield\n",
      "mark i          12       2\n",
      "mark ii          0       4\n"
     ]
    },
    {
     "data": {
      "text/html": [
       "<div>\n",
       "<style scoped>\n",
       "    .dataframe tbody tr th:only-of-type {\n",
       "        vertical-align: middle;\n",
       "    }\n",
       "\n",
       "    .dataframe tbody tr th {\n",
       "        vertical-align: top;\n",
       "    }\n",
       "\n",
       "    .dataframe thead th {\n",
       "        text-align: right;\n",
       "    }\n",
       "</style>\n",
       "<table border=\"1\" class=\"dataframe\">\n",
       "  <thead>\n",
       "    <tr style=\"text-align: right;\">\n",
       "      <th></th>\n",
       "      <th></th>\n",
       "      <th>max_speed</th>\n",
       "      <th>shield</th>\n",
       "    </tr>\n",
       "  </thead>\n",
       "  <tbody>\n",
       "    <tr>\n",
       "      <th rowspan=\"2\" valign=\"top\">cobra</th>\n",
       "      <th>mark i</th>\n",
       "      <td>12</td>\n",
       "      <td>2</td>\n",
       "    </tr>\n",
       "    <tr>\n",
       "      <th>mark ii</th>\n",
       "      <td>0</td>\n",
       "      <td>4</td>\n",
       "    </tr>\n",
       "    <tr>\n",
       "      <th rowspan=\"2\" valign=\"top\">sidewinder</th>\n",
       "      <th>mark i</th>\n",
       "      <td>10</td>\n",
       "      <td>20</td>\n",
       "    </tr>\n",
       "    <tr>\n",
       "      <th>mark ii</th>\n",
       "      <td>1</td>\n",
       "      <td>4</td>\n",
       "    </tr>\n",
       "    <tr>\n",
       "      <th>viper</th>\n",
       "      <th>mark ii</th>\n",
       "      <td>7</td>\n",
       "      <td>1</td>\n",
       "    </tr>\n",
       "  </tbody>\n",
       "</table>\n",
       "</div>"
      ],
      "text/plain": [
       "                    max_speed  shield\n",
       "cobra      mark i          12       2\n",
       "           mark ii          0       4\n",
       "sidewinder mark i          10      20\n",
       "           mark ii          1       4\n",
       "viper      mark ii          7       1"
      ]
     },
     "execution_count": 298,
     "metadata": {},
     "output_type": "execute_result"
    }
   ],
   "source": [
    "print(dataFrame.index)\n",
    "\n",
    "print(dataFrame.loc['cobra'])\n",
    "dataFrame.loc['cobra', 'mark i']\n",
    "dataFrame.loc[[('cobra', 'mark ii')]]\n",
    "dataFrame.loc[('cobra', 'mark i'), 'shield']\n",
    "dataFrame.loc[('cobra', 'mark i'):'viper']\n",
    "dataFrame.loc[('cobra', 'mark i'):('viper', 'mark ii')]"
   ]
  },
  {
   "cell_type": "code",
   "execution_count": 299,
   "metadata": {},
   "outputs": [],
   "source": [
    "# iterables=[[\"bar\", \"baz\", \"foo\", \"qux\"], [\"one\", \"two\"]]\n",
    "# pandas.MultiIndex.from_product(iterables, names=[\"first\", \"second\"])\n"
   ]
  },
  {
   "cell_type": "code",
   "execution_count": 300,
   "metadata": {},
   "outputs": [
    {
     "name": "stdout",
     "output_type": "stream",
     "text": [
      "  first second\n",
      "0   bar    one\n",
      "1   bar    two\n",
      "2   foo    one\n",
      "3   foo    two\n",
      "first  second\n",
      "bar    one       0.821234\n",
      "       two       1.162652\n",
      "foo    one      -0.359710\n",
      "       two      -0.011124\n",
      "dtype: float64\n",
      "                     0         1         2         3\n",
      "first second                                        \n",
      "bar   one     0.864582 -1.369318  0.104835 -1.274246\n",
      "      two     1.180841 -0.195194 -1.710434 -0.629055\n",
      "foo   one     2.007451  0.178196 -0.621386 -0.232350\n",
      "      two    -1.038393  0.382333  0.768950  0.962359\n"
     ]
    }
   ],
   "source": [
    "import numpy\n",
    "df = pandas.DataFrame(\n",
    "    [[\"bar\", \"one\"], [\"bar\", \"two\"], [\"foo\", \"one\"], [\"foo\", \"two\"]],\n",
    "    columns=[\"first\", \"second\"],\n",
    ")\n",
    "print(df)\n",
    "index = pandas.MultiIndex.from_frame(df)\n",
    "\n",
    "s = pandas.Series(numpy.random.randn(4), index=index)\n",
    "print(s)\n",
    "\n",
    "df = pandas.DataFrame(numpy.random.randn(4, 4), index=index)\n",
    "print(df)"
   ]
  },
  {
   "cell_type": "code",
   "execution_count": 301,
   "metadata": {},
   "outputs": [
    {
     "name": "stdout",
     "output_type": "stream",
     "text": [
      "first        bar                 foo          \n",
      "second       one       two       one       two\n",
      "A      -1.143925  0.036697 -2.645767 -0.724113\n",
      "B      -1.093152 -0.628051  0.133561 -0.250503\n",
      "C       1.400435  1.482744 -0.510922  0.398838\n",
      "D       0.193455 -0.007010  0.985913 -0.213182\n",
      "                     A         B         C         D\n",
      "first second                                        \n",
      "bar   one    -1.143925 -1.093152  1.400435  0.193455\n",
      "      two     0.036697 -0.628051  1.482744 -0.007010\n",
      "foo   one    -2.645767  0.133561 -0.510922  0.985913\n",
      "      two    -0.724113 -0.250503  0.398838 -0.213182\n"
     ]
    }
   ],
   "source": [
    "dataFrame = pandas.DataFrame(numpy.random.randn(4,4) , index=[\"A\",\"B\",\"C\",\"D\"],columns=index)\n",
    "print(dataFrame)\n",
    "print(dataFrame.T)"
   ]
  },
  {
   "attachments": {},
   "cell_type": "markdown",
   "metadata": {},
   "source": [
    "### **read_from_excel**"
   ]
  },
  {
   "cell_type": "code",
   "execution_count": 302,
   "metadata": {},
   "outputs": [
    {
     "name": "stdout",
     "output_type": "stream",
     "text": [
      "WARNING *** OLE2 inconsistency: SSCS size is 0 but SSAT size is non-zero\n",
      "     nbrhood  landval  improval  totval  salepric  saltoapr\n",
      "0          A    30000     64831   94831    118500      1.25\n",
      "1          A    30000     50765   80765     93900      1.16\n",
      "2          A    46651     18573   65224    191500      1.16\n",
      "3          A    45990     91402   37392    184000      1.34\n",
      "4          A    42394     98181   40575    168000      1.20\n",
      "...      ...      ...       ...     ...       ...       ...\n",
      "2435       G     5610     13916   19526     30000      1.54\n",
      "2436       G     7468     11825   19293     20000      1.04\n",
      "2437       G    10986      3000   13986     14400      1.03\n",
      "2438       G     7088     26911   33999     23000      0.68\n",
      "2439       G     5589     12173   17762     10000      0.56\n",
      "\n",
      "[2440 rows x 6 columns]\n",
      "     nbrhood  landval\n",
      "0          A    30000\n",
      "1          A    30000\n",
      "2          A    46651\n",
      "3          A    45990\n",
      "4          A    42394\n",
      "...      ...      ...\n",
      "2435       G     5610\n",
      "2436       G     7468\n",
      "2437       G    10986\n",
      "2438       G     7088\n",
      "2439       G     5589\n",
      "\n",
      "[2440 rows x 2 columns]\n"
     ]
    }
   ],
   "source": [
    "dataFrame = pandas.read_excel(\"data/data27/sales.xls\")\n",
    "print(dataFrame)\n",
    "print(dataFrame[[\"nbrhood\",\"landval\"]])"
   ]
  },
  {
   "attachments": {},
   "cell_type": "markdown",
   "metadata": {},
   "source": [
    "### read_json"
   ]
  },
  {
   "cell_type": "code",
   "execution_count": 303,
   "metadata": {},
   "outputs": [
    {
     "data": {
      "text/html": [
       "<div>\n",
       "<style scoped>\n",
       "    .dataframe tbody tr th:only-of-type {\n",
       "        vertical-align: middle;\n",
       "    }\n",
       "\n",
       "    .dataframe tbody tr th {\n",
       "        vertical-align: top;\n",
       "    }\n",
       "\n",
       "    .dataframe thead th {\n",
       "        text-align: right;\n",
       "    }\n",
       "</style>\n",
       "<table border=\"1\" class=\"dataframe\">\n",
       "  <thead>\n",
       "    <tr style=\"text-align: right;\">\n",
       "      <th></th>\n",
       "      <th>0</th>\n",
       "    </tr>\n",
       "  </thead>\n",
       "  <tbody>\n",
       "    <tr>\n",
       "      <th>id</th>\n",
       "      <td>66</td>\n",
       "    </tr>\n",
       "    <tr>\n",
       "      <th>url</th>\n",
       "      <td>http://www.tvmaze.com/shows/66/the-big-bang-th...</td>\n",
       "    </tr>\n",
       "    <tr>\n",
       "      <th>name</th>\n",
       "      <td>The Big Bang Theory</td>\n",
       "    </tr>\n",
       "    <tr>\n",
       "      <th>type</th>\n",
       "      <td>Scripted</td>\n",
       "    </tr>\n",
       "    <tr>\n",
       "      <th>language</th>\n",
       "      <td>English</td>\n",
       "    </tr>\n",
       "    <tr>\n",
       "      <th>genres</th>\n",
       "      <td>[Comedy]</td>\n",
       "    </tr>\n",
       "    <tr>\n",
       "      <th>status</th>\n",
       "      <td>Ended</td>\n",
       "    </tr>\n",
       "    <tr>\n",
       "      <th>runtime</th>\n",
       "      <td>30</td>\n",
       "    </tr>\n",
       "    <tr>\n",
       "      <th>premiered</th>\n",
       "      <td>2007-09-24</td>\n",
       "    </tr>\n",
       "    <tr>\n",
       "      <th>officialSite</th>\n",
       "      <td>http://www.cbs.com/shows/big_bang_theory/</td>\n",
       "    </tr>\n",
       "    <tr>\n",
       "      <th>schedule</th>\n",
       "      <td>{'time': '20:00', 'days': ['Thursday']}</td>\n",
       "    </tr>\n",
       "    <tr>\n",
       "      <th>rating</th>\n",
       "      <td>{'average': 7.9}</td>\n",
       "    </tr>\n",
       "    <tr>\n",
       "      <th>weight</th>\n",
       "      <td>97</td>\n",
       "    </tr>\n",
       "    <tr>\n",
       "      <th>network</th>\n",
       "      <td>{'id': 2, 'name': 'CBS', 'country': {'name': '...</td>\n",
       "    </tr>\n",
       "    <tr>\n",
       "      <th>webChannel</th>\n",
       "      <td>None</td>\n",
       "    </tr>\n",
       "    <tr>\n",
       "      <th>externals</th>\n",
       "      <td>{'tvrage': 8511, 'thetvdb': 80379, 'imdb': 'tt...</td>\n",
       "    </tr>\n",
       "    <tr>\n",
       "      <th>image</th>\n",
       "      <td>{'medium': 'http://static.tvmaze.com/uploads/i...</td>\n",
       "    </tr>\n",
       "    <tr>\n",
       "      <th>summary</th>\n",
       "      <td>&lt;p&gt;&lt;b&gt;The Big Bang Theory&lt;/b&gt; is a comedy abou...</td>\n",
       "    </tr>\n",
       "    <tr>\n",
       "      <th>updated</th>\n",
       "      <td>1602859722</td>\n",
       "    </tr>\n",
       "    <tr>\n",
       "      <th>_links</th>\n",
       "      <td>{'self': {'href': 'http://api.tvmaze.com/shows...</td>\n",
       "    </tr>\n",
       "    <tr>\n",
       "      <th>_embedded</th>\n",
       "      <td>{'episodes': [{'id': 2913, 'url': 'http://www....</td>\n",
       "    </tr>\n",
       "  </tbody>\n",
       "</table>\n",
       "</div>"
      ],
      "text/plain": [
       "                                                              0\n",
       "id                                                           66\n",
       "url           http://www.tvmaze.com/shows/66/the-big-bang-th...\n",
       "name                                        The Big Bang Theory\n",
       "type                                                   Scripted\n",
       "language                                                English\n",
       "genres                                                 [Comedy]\n",
       "status                                                    Ended\n",
       "runtime                                                      30\n",
       "premiered                                            2007-09-24\n",
       "officialSite          http://www.cbs.com/shows/big_bang_theory/\n",
       "schedule                {'time': '20:00', 'days': ['Thursday']}\n",
       "rating                                         {'average': 7.9}\n",
       "weight                                                       97\n",
       "network       {'id': 2, 'name': 'CBS', 'country': {'name': '...\n",
       "webChannel                                                 None\n",
       "externals     {'tvrage': 8511, 'thetvdb': 80379, 'imdb': 'tt...\n",
       "image         {'medium': 'http://static.tvmaze.com/uploads/i...\n",
       "summary       <p><b>The Big Bang Theory</b> is a comedy abou...\n",
       "updated                                              1602859722\n",
       "_links        {'self': {'href': 'http://api.tvmaze.com/shows...\n",
       "_embedded     {'episodes': [{'id': 2913, 'url': 'http://www...."
      ]
     },
     "execution_count": 303,
     "metadata": {},
     "output_type": "execute_result"
    }
   ],
   "source": [
    "dataFrame = pandas.read_json(\"data/data27/bbt.json\",orient=\"index\")\n",
    "dataFrame\n",
    "# mul = pandas.MultiIndex.from_frame(dataFrame)\n",
    "# print(mul)\n"
   ]
  },
  {
   "cell_type": "code",
   "execution_count": 304,
   "metadata": {},
   "outputs": [
    {
     "name": "stdout",
     "output_type": "stream",
     "text": [
      "0    {'page': 1, 'pages': 1, 'per_page': 5000, 'tot...\n",
      "1    [{'indicator': {'id': 'SP.POP.TOTL', 'value': ...\n",
      "dtype: object\n"
     ]
    }
   ],
   "source": [
    "dataFrame = pandas.read_json(\"data/data27/population.json\",typ=\"series\")\n",
    "\n",
    "print(dataFrame)"
   ]
  }
 ],
 "metadata": {
  "kernelspec": {
   "display_name": "base",
   "language": "python",
   "name": "python3"
  },
  "language_info": {
   "codemirror_mode": {
    "name": "ipython",
    "version": 3
   },
   "file_extension": ".py",
   "mimetype": "text/x-python",
   "name": "python",
   "nbconvert_exporter": "python",
   "pygments_lexer": "ipython3",
   "version": "3.9.13"
  },
  "orig_nbformat": 4,
  "vscode": {
   "interpreter": {
    "hash": "130826a50b4030fecff09c60f733bc90a93922839765dc4abeb8c6376ff802e4"
   }
  }
 },
 "nbformat": 4,
 "nbformat_minor": 2
}
