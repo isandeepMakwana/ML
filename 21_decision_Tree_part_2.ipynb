{
 "cells": [
  {
   "cell_type": "markdown",
   "source": [
    "# f1 | f2 | f3 | f4 | target\n",
    "# -    -     -   -     Y\n",
    "# -    -     -   -     Y\n",
    "# -    -     -   -     Y\n",
    "# -    -     -   -     N\n",
    "# -    -     -   -     Y\n",
    "# -    -     -   -     N\n",
    "# ........"
   ],
   "metadata": {
    "collapsed": false
   }
  },
  {
   "cell_type": "code",
   "execution_count": 27,
   "metadata": {
    "ExecuteTime": {
     "end_time": "2023-12-11T01:08:15.736450Z",
     "start_time": "2023-12-11T01:08:15.723061Z"
    }
   },
   "outputs": [
    {
     "name": "stdout",
     "output_type": "stream",
     "text": [
      "0.9886994082884974\n"
     ]
    }
   ],
   "source": [
    "# calculate base entropy / total entropy\n",
    "import math\n",
    "b_en = -1*(float(9)/16 * math.log(float(9)/16,2)  +  float(7)/16 * math.log(float(7)/16 , 2))\n",
    "print(b_en) # 0.9886994082884974"
   ]
  },
  {
   "attachments": {},
   "cell_type": "markdown",
   "metadata": {},
   "source": [
    "# target =>  9 YES , 7 NO"
   ]
  },
  {
   "cell_type": "code",
   "execution_count": 28,
   "metadata": {
    "ExecuteTime": {
     "end_time": "2023-12-11T01:08:15.773258Z",
     "start_time": "2023-12-11T01:08:15.731263Z"
    }
   },
   "outputs": [
    {
     "name": "stdout",
     "output_type": "stream",
     "text": [
      "0.8112781244591328\n",
      "0.9544340029249649\n"
     ]
    }
   ],
   "source": [
    "\n",
    "# let's calculate f1 -> \" information gain \" \n",
    "# f1 -> 8 YES (6 Y & 2 N) , 8 NO (3 Y & 5 N) \n",
    "\n",
    "f1_part1_en = -1*(float(6/8)*math.log(float(6/8) ,2) + float(2/8)*math.log(float(2/8) ,2))\n",
    "print(f1_part1_en)\n",
    "\n",
    "f1_part2_en = -1*(float(3/8)*math.log(float(3/8) ,2) + float(5/8)*math.log(float(5/8) ,2))\n",
    "print(f1_part2_en)\n"
   ]
  },
  {
   "cell_type": "code",
   "execution_count": 29,
   "metadata": {
    "ExecuteTime": {
     "end_time": "2023-12-11T01:08:15.774268Z",
     "start_time": "2023-12-11T01:08:15.739354Z"
    }
   },
   "outputs": [
    {
     "name": "stdout",
     "output_type": "stream",
     "text": [
      "0.4056390622295664\n",
      "0.47721700146248247\n",
      "--------------------------------------------------\n",
      "0.8828560636920488\n",
      "Information gain in context to f1 :  0.10584334459644862\n"
     ]
    }
   ],
   "source": [
    "w_f1_part1_en = (8/16) * f1_part1_en\n",
    "w_f1_part2_en = (8/16) * f1_part2_en\n",
    "print(w_f1_part1_en)\n",
    "print(w_f1_part2_en)\n",
    "\n",
    "total = w_f1_part1_en+w_f1_part2_en\n",
    "print('-'*50)\n",
    "print(total)\n",
    "f1_ig = b_en - total\n",
    "print(\"Information gain in context to f1 : \", f1_ig)\n"
   ]
  },
  {
   "cell_type": "code",
   "execution_count": 30,
   "metadata": {
    "ExecuteTime": {
     "end_time": "2023-12-11T01:08:15.823029Z",
     "start_time": "2023-12-11T01:08:15.781025Z"
    }
   },
   "outputs": [
    {
     "name": "stdout",
     "output_type": "stream",
     "text": [
      "0.9182958340544896\n",
      "0.3443609377704336\n",
      "0.8812908992306927\n",
      "0.5508068120191829\n",
      "--------------------------------------------------\n",
      "0.09353165849888101\n",
      "Information gain in context to f2 :  0.09353165849888101\n"
     ]
    }
   ],
   "source": [
    "# let's calculate f2 -> \" information gain \" \n",
    "# f2 -> 6 YES (2 Y & 4 N) , 10 NO (7 Y & 3 N)\n",
    "\n",
    "f2_part1_en = -1 * (float(2)/6*math.log(float(2)/6,2) + float(4)/6*math.log(float(4)/6,2))\n",
    "print(f2_part1_en)\n",
    "w_f2_part1_en = (6/16) * f2_part1_en\n",
    "print(w_f2_part1_en)\n",
    "\n",
    "f2_part2_en = -1 * (float(7/10)*math.log(float(7/10),2) + float(3/10)*math.log(float(3/10),2))\n",
    "print(f2_part2_en)\n",
    "w_f2_part2_en = (10/16) * f2_part2_en\n",
    "print(w_f2_part2_en)\n",
    "\n",
    "total = w_f2_part1_en+w_f2_part2_en\n",
    "f2_ig = b_en -total\n",
    "print('-'*50)\n",
    "print(f2_ig)\n",
    "print(\"Information gain in context to f2 : \", f2_ig)"
   ]
  },
  {
   "cell_type": "code",
   "execution_count": 31,
   "metadata": {
    "ExecuteTime": {
     "end_time": "2023-12-11T01:08:15.860116Z",
     "start_time": "2023-12-11T01:08:15.828435Z"
    }
   },
   "outputs": [
    {
     "name": "stdout",
     "output_type": "stream",
     "text": [
      "0.9910760598382222\n",
      "0.557480283659\n",
      "0.863120568566631\n",
      "0.3776152487479011\n",
      "--------------------------------------------------\n",
      "0.05360387588159632\n",
      "Information gain in context to f3 :  0.05360387588159632\n"
     ]
    }
   ],
   "source": [
    "# let's calculate f3 -> \" information gain \" \n",
    "# f3 -> 9 YES (4 Y & 5 N) , 7 NO (5 Y & 2 N)\n",
    "\n",
    "f3_part1_en = -1*(float(4/9)*math.log(float(4/9),2) + float(5/9)*math.log(float(5/9),2))\n",
    "print(f3_part1_en)\n",
    "w_f3_part1_en = 9/16 * f3_part1_en\n",
    "print(w_f3_part1_en)\n",
    "f3_part2_en = -1 *(float(5/7)*math.log(float(5/7),2) + float(2/7)*math.log(float(2/7),2))\n",
    "print(f3_part2_en)\n",
    "w_f3_part2_en = 7/16 * f3_part2_en\n",
    "print(w_f3_part2_en)\n",
    "\n",
    "total = w_f3_part1_en + w_f3_part2_en\n",
    "print('-'*50)\n",
    "f3_ig = b_en - total\n",
    "print(f3_ig)\n",
    "print(\"Information gain in context to f3 : \", f3_ig)\n"
   ]
  },
  {
   "cell_type": "code",
   "execution_count": 31,
   "metadata": {
    "ExecuteTime": {
     "end_time": "2023-12-11T01:08:15.878705Z",
     "start_time": "2023-12-11T01:08:15.862637Z"
    }
   },
   "outputs": [],
   "source": []
  }
 ],
 "metadata": {
  "kernelspec": {
   "display_name": "Python 3",
   "language": "python",
   "name": "python3"
  },
  "language_info": {
   "codemirror_mode": {
    "name": "ipython",
    "version": 3
   },
   "file_extension": ".py",
   "mimetype": "text/x-python",
   "name": "python",
   "nbconvert_exporter": "python",
   "pygments_lexer": "ipython3",
   "version": "3.10.2"
  },
  "orig_nbformat": 4,
  "vscode": {
   "interpreter": {
    "hash": "7e1998ff7f8aa20ada591c520b972326324e5ea05489af9e422744c7c09f6dad"
   }
  }
 },
 "nbformat": 4,
 "nbformat_minor": 2
}
