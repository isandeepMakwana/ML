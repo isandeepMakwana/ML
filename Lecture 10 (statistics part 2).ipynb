{
 "cells": [
  {
   "cell_type": "markdown",
   "id": "d821a05d",
   "metadata": {},
   "source": [
    "# Weighted graph"
   ]
  },
  {
   "cell_type": "code",
   "execution_count": 4,
   "id": "b825d0ef",
   "metadata": {},
   "outputs": [
    {
     "name": "stdout",
     "output_type": "stream",
     "text": [
      "weights :  [0.5, 1, 8, 0.5]\n",
      "data :  [20, 30, 3, 40]\n",
      "prod :  [10. 30. 24. 20.]\n",
      "sum of products of data and wgt :  84.0\n"
     ]
    }
   ],
   "source": [
    "import numpy\n",
    "wgt=[0.5,1,8,0.5]\n",
    "data=[20,30,3,40]\n",
    "prod =numpy.multiply(data,wgt)\n",
    "print('weights : ', wgt)\n",
    "print('data : ',data)\n",
    "print('prod : ',prod)\n",
    "sum=numpy.sum(prod)\n",
    "print('sum of products of data and wgt : ',sum)"
   ]
  },
  {
   "cell_type": "code",
   "execution_count": 1,
   "id": "24ba4722",
   "metadata": {},
   "outputs": [
    {
     "name": "stdout",
     "output_type": "stream",
     "text": [
      "weights :  [0.5, 1, 8, 0.5]\n",
      "data :  [20, 30, 3, 40]\n",
      "prod :  [10. 30. 24. 20.]\n",
      "sum of products of data and wgt :  84.0\n",
      "weighted mean : 8.4\n"
     ]
    }
   ],
   "source": [
    "import statistics\n",
    "import numpy\n",
    "wgt=[0.5,1,8,0.5]\n",
    "data=[20,30,3,40]\n",
    "prod =numpy.multiply(data,wgt)\n",
    "print('weights : ', wgt)\n",
    "print('data : ',data)\n",
    "print('prod : ',prod)\n",
    "sum=numpy.sum(prod)\n",
    "print('sum of products of data and wgt : ',sum)\n",
    "wm =sum/numpy.sum(wgt)\n",
    "print(\"weighted mean :\",wm)"
   ]
  },
  {
   "cell_type": "code",
   "execution_count": 2,
   "id": "ae99a1bc",
   "metadata": {},
   "outputs": [
    {
     "name": "stdout",
     "output_type": "stream",
     "text": [
      "weights :  [0.5, 1, 8, 0.5]\n",
      "data :  [20, 30, 3, 40]\n",
      "prod :  [10. 30. 24. 20.]\n",
      "sum of products of data and wgt :  84.0\n",
      "weighted mean : 8.4\n",
      "weighted mean  8.4\n"
     ]
    }
   ],
   "source": [
    "import statistics\n",
    "import numpy\n",
    "wgt=[0.5,1,8,0.5]\n",
    "data=[20,30,3,40]\n",
    "prod =numpy.multiply(data,wgt)\n",
    "print('weights : ', wgt)\n",
    "print('data : ',data)\n",
    "print('prod : ',prod)\n",
    "sum = numpy.sum(prod)\n",
    "print('sum of products of data and wgt : ',sum)\n",
    "wm =sum/numpy.sum(wgt)\n",
    "print(\"weighted mean :\",wm)\n",
    "\n",
    "wm = numpy.average(data , weights=wgt)\n",
    "print(\"weighted mean \" , wm)\n"
   ]
  },
  {
   "cell_type": "markdown",
   "id": "aa022107",
   "metadata": {},
   "source": [
    "# mode"
   ]
  },
  {
   "cell_type": "code",
   "execution_count": 3,
   "id": "239ccc06",
   "metadata": {},
   "outputs": [
    {
     "name": "stdout",
     "output_type": "stream",
     "text": [
      "30\n"
     ]
    }
   ],
   "source": [
    "import  statistics\n",
    "a =[30,20,30,30,20,30,10,30,30,10,20,20,20,10,30]\n",
    "print(statistics.mode(a))"
   ]
  },
  {
   "cell_type": "markdown",
   "id": "4775c9a2",
   "metadata": {},
   "source": [
    "# cumulative sum"
   ]
  },
  {
   "cell_type": "code",
   "execution_count": 4,
   "id": "8e7ad6aa",
   "metadata": {},
   "outputs": [
    {
     "name": "stdout",
     "output_type": "stream",
     "text": [
      "[10 30 60 65 72]\n"
     ]
    }
   ],
   "source": [
    "# prefix sum\n",
    "import numpy\n",
    "a =[10,20,30,5,7]\n",
    "print(numpy.cumsum(a))"
   ]
  },
  {
   "cell_type": "markdown",
   "id": "2213b3ff",
   "metadata": {},
   "source": [
    "# median grouped"
   ]
  },
  {
   "cell_type": "code",
   "execution_count": 7,
   "id": "e4c3f511",
   "metadata": {},
   "outputs": [
    {
     "name": "stdout",
     "output_type": "stream",
     "text": [
      "399.5\n",
      "our data set :  [ 100  100  200  200  300  300  300  400  500  700  800  800  900 1000]\n",
      "Frequency Counter : Counter({300: 3, 100: 2, 200: 2, 800: 2, 400: 1, 500: 1, 700: 1, 900: 1, 1000: 1})\n",
      "data Unique Set (A) :  [100, 200, 300, 400, 500, 700, 800, 900, 1000]\n",
      "Frequency set (B) :  [2, 2, 3, 1, 1, 1, 2, 1, 1]\n",
      "Cumulative Sum (C) : [ 2  4  7  8  9 10 12 13 14]\n",
      "Last element of cumulative sum of frequencies :  14\n",
      "Center of last element of cumulative sum of frequencie :  7.0\n",
      "group_median  400\n"
     ]
    }
   ],
   "source": [
    "a = [100,200,300,100,200,300,400,500,300,700,800,900,1000,800]\n",
    "print(statistics.median_grouped(a))\n",
    "\n",
    "#own implementation\n",
    "import statistics\n",
    "import numpy\n",
    "import collections\n",
    "a = [100,200,300,100,200,300,400,500,300,700,800,900,1000,800]\n",
    "b = numpy.sort(a)\n",
    "print('our data set : ',b)\n",
    "c =collections.Counter(b)\n",
    "print(f\"Frequency Counter : {c}\")\n",
    "d,e = (list(c.keys())) , list(c.values())\n",
    "\n",
    "print('data Unique Set (A) : ',d)\n",
    "print('Frequency set (B) : ',e)\n",
    "\n",
    "# caluculate cumsum\n",
    "f= numpy.cumsum(e)\n",
    "print('Cumulative Sum (C) :',f)\n",
    "\n",
    "last_element = f[len(f)-1]\n",
    "print('Last element of cumulative sum of frequencies : ',last_element)\n",
    "gc = last_element/2\n",
    "print('Center of last element of cumulative sum of frequencie : ',gc)\n",
    "index_=0\n",
    "for i in range(len(f)):\n",
    "    if f[i]>gc:\n",
    "        index_=i\n",
    "        break\n",
    "\n",
    "print(\"group_median \",d[index_])\n"
   ]
  },
  {
   "cell_type": "code",
   "execution_count": 1,
   "id": "18d42ef1",
   "metadata": {},
   "outputs": [
    {
     "name": "stdout",
     "output_type": "stream",
     "text": [
      "Data set :  [10, 2, 40, 35]\n",
      "Mean of Data set :  21.75\n",
      "Difference of data set and mean :  [-11.75 -19.75  18.25  13.25]\n",
      "squared difference :  [138.0625 390.0625 333.0625 175.5625]\n",
      "Variance : (mean of squared difference ) :  259.1875\n",
      "variance :  259.1875\n",
      "STD DEV :  16.099301227071937\n",
      "STD DEV :  16.099301227071937\n"
     ]
    }
   ],
   "source": [
    "#Variance\n",
    "import statistics\n",
    "import numpy\n",
    "a=[10,2,40,35]\n",
    "print('Data set : ',a)\n",
    "b=statistics.mean(a)\n",
    "print('Mean of Data set : ',b)\n",
    "c=numpy.subtract(a,b)\n",
    "print('Difference of data set and mean : ',c)\n",
    "d = numpy.square(c)\n",
    "print('squared difference : ',d)\n",
    "e=statistics.mean(d)\n",
    "print('Variance : (mean of squared difference ) : ',e)\n",
    "f= statistics.pvariance(a)\n",
    "print(\"variance : \",f)\n",
    "g = numpy.sqrt(f)\n",
    "print('STD DEV : ',g)\n",
    "h = statistics.pstdev(a)\n",
    "print('STD DEV : ',h)\n"
   ]
  }
 ],
 "metadata": {
  "kernelspec": {
   "display_name": "base",
   "language": "python",
   "name": "python3"
  },
  "language_info": {
   "codemirror_mode": {
    "name": "ipython",
    "version": 3
   },
   "file_extension": ".py",
   "mimetype": "text/x-python",
   "name": "python",
   "nbconvert_exporter": "python",
   "pygments_lexer": "ipython3",
   "version": "3.9.7 (default, Sep 16 2021, 08:50:36) \n[Clang 10.0.0 ]"
  },
  "vscode": {
   "interpreter": {
    "hash": "130826a50b4030fecff09c60f733bc90a93922839765dc4abeb8c6376ff802e4"
   }
  }
 },
 "nbformat": 4,
 "nbformat_minor": 5
}
