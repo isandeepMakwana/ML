{
 "cells": [
  {
   "attachments": {},
   "cell_type": "markdown",
   "metadata": {},
   "source": [
    "# Some real-life examples"
   ]
  },
  {
   "attachments": {},
   "cell_type": "markdown",
   "metadata": {},
   "source": [
    "> camera take snap-short ---> imagefile ---> load into matrix(data-strcture)\n",
    "\n",
    "we can take image data and perform face recognization and easily identity the picture or persion\n",
    "\n",
    "> Book Shop \n",
    ">> sales Record (data)---> d.s.-------> redirects reviews<br>\n",
    "\n",
    "we can recommanded the book basic of reviews and records.\n"
   ]
  },
  {
   "attachments": {},
   "cell_type": "markdown",
   "metadata": {},
   "source": [
    "> Vehicale number plate \n",
    ">> snap short ----> imagefile ----> load(ds)\n",
    "\n",
    "using number plates identify the registration no.\n",
    "\n",
    "> Emails(promotion emails )---> data load (ds)\n",
    "\n",
    "using the previouse emails we can identify the new email is Promotional or not.\n",
    "\n",
    "<mart> if we find any kind of meaning full from raw data it's ML <mart>"
   ]
  },
  {
   "attachments": {},
   "cell_type": "markdown",
   "metadata": {},
   "source": [
    "- feature / attribute\n",
    "- target variable\n",
    "- class\n",
    "- classifications\n",
    "- regression\n",
    "- supervised learning\n",
    "- traning data set\n",
    "- test data set"
   ]
  }
 ],
 "metadata": {
  "kernelspec": {
   "display_name": "Python 3",
   "language": "python",
   "name": "python3"
  },
  "language_info": {
   "name": "python",
   "version": "3.10.2 (v3.10.2:a58ebcc701, Jan 13 2022, 14:50:16) [Clang 13.0.0 (clang-1300.0.29.30)]"
  },
  "orig_nbformat": 4,
  "vscode": {
   "interpreter": {
    "hash": "7e1998ff7f8aa20ada591c520b972326324e5ea05489af9e422744c7c09f6dad"
   }
  }
 },
 "nbformat": 4,
 "nbformat_minor": 2
}
