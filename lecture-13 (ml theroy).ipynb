{
 "cells": [
  {
   "attachments": {},
   "cell_type": "markdown",
   "metadata": {},
   "source": [
    "# Some real-life examples"
   ]
  },
  {
   "attachments": {},
   "cell_type": "markdown",
   "metadata": {},
   "source": [
    "> camera take snap-short ---> imagefile ---> load into matrix(data-strcture)\n",
    "\n",
    "we can take image data and perform face recognization and easily identity the picture or persion\n",
    "\n",
    "> Book Shop \n",
    ">> sales Record (data)---> d.s.-------> redirects reviews<br>\n",
    "\n",
    "we can recommanded the book basic of reviews and records.\n"
   ]
  },
  {
   "attachments": {},
   "cell_type": "markdown",
   "metadata": {},
   "source": [
    "> Vehicale number plate \n",
    ">> snap short ----> imagefile ----> load(ds)\n",
    "\n",
    "using number plates identify the registration no.\n",
    "\n",
    "> Emails(promotion emails )---> data load (ds)\n",
    "\n",
    "using the previouse emails we can identify the new email is Promotional or not.\n",
    "\n",
    "<mart> if we find any kind of meaning full from raw data it's ML <mart>"
   ]
  },
  {
   "attachments": {},
   "cell_type": "markdown",
   "metadata": {},
   "source": [
    "- feature / attribute\n",
    "- target variable\n",
    "- class\n",
    "- classifications\n",
    "- regression\n",
    "- supervised learning\n",
    "- traning data set\n",
    "- test data set"
   ]
  }
 ],
 "metadata": {
  "language_info": {
   "name": "python"
  },
  "orig_nbformat": 4
 },
 "nbformat": 4,
 "nbformat_minor": 2
}
