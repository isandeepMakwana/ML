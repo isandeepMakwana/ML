{
 "cells": [
  {
   "cell_type": "markdown",
   "id": "9a144eb6",
   "metadata": {},
   "source": [
    "# Convert comprass matrix it's orignal Matrix"
   ]
  },
  {
   "cell_type": "code",
   "execution_count": 2,
   "id": "91e48cba",
   "metadata": {
    "ExecuteTime": {
     "end_time": "2023-07-25T09:03:36.112144Z",
     "start_time": "2023-07-25T09:03:35.191396Z"
    }
   },
   "outputs": [
    {
     "name": "stdout",
     "output_type": "stream",
     "text": [
      "<class 'numpy.matrix'>\n",
      "a\n",
      " [[0 0 0 1]\n",
      " [1 0 1 0]\n",
      " [0 0 0 0]\n",
      " [0 0 0 1]\n",
      " [0 1 0 0]]\n",
      "a in compressed from \n",
      "   (0, 3)\t1\n",
      "  (1, 0)\t1\n",
      "  (1, 2)\t1\n",
      "  (3, 3)\t1\n",
      "  (4, 1)\t1\n",
      "<class 'scipy.sparse._csr.csr_matrix'>\n",
      "b\n",
      " [[0 0 0 1]\n",
      " [1 0 1 0]\n",
      " [0 0 0 0]\n",
      " [0 0 0 1]\n",
      " [0 1 0 0]]\n",
      "<class 'numpy.ndarray'>\n",
      "c\n",
      " [[0 0 0 1]\n",
      " [1 0 1 0]\n",
      " [0 0 0 0]\n",
      " [0 0 0 1]\n",
      " [0 1 0 0]]\n",
      "<class 'numpy.matrix'>\n"
     ]
    }
   ],
   "source": [
    "import numpy\n",
    "import scipy.sparse\n",
    "a = numpy.matrix(((0,0,0,1),(1,0,1,0),(0,0,0,0),(0,0,0,1),(0,1,0,0)))\n",
    "print(type(a))\n",
    "print('a\\n',a)\n",
    "sc = scipy.sparse.csr_matrix(a)\n",
    "print('a in compressed from \\n',sc)\n",
    "print(type(sc))\n",
    "b = sc.toarray()\n",
    "print('b\\n',b)\n",
    "print(type(b))\n",
    "\n",
    "# it provide a ndarrya \\n now we convert into matrix\n",
    "\n",
    "c = numpy.matrix(b)\n",
    "print('c\\n',c)\n",
    "print(type(c))\n"
   ]
  },
  {
   "cell_type": "markdown",
   "id": "ac50021b",
   "metadata": {},
   "source": [
    "# Ek row me karte hai matrix ko \n",
    "###\n",
    " `(Flatten karte hai)`"
   ]
  },
  {
   "cell_type": "code",
   "execution_count": 3,
   "id": "b61e2edd",
   "metadata": {
    "ExecuteTime": {
     "end_time": "2023-07-25T09:07:00.083668Z",
     "start_time": "2023-07-25T09:07:00.073603Z"
    }
   },
   "outputs": [
    {
     "name": "stdout",
     "output_type": "stream",
     "text": [
      "a\n",
      " [[ 10  20  30  40]\n",
      " [ 50  60  70  80]\n",
      " [ 90 100 110 120]\n",
      " [130 140 150 160]]\n",
      "b\n",
      " [[ 10  20  30  40  50  60  70  80  90 100 110 120 130 140 150 160]]\n",
      "--------------------------------------------------\n",
      "b\n",
      " [[ 10  20  30  40  50  60  70  80  90 100 110 120 130 140 150 160]]\n"
     ]
    }
   ],
   "source": [
    "import numpy\n",
    "a=numpy.matrix(((10,20,30,40),(50,60,70,80),(90,100,110,120),(130,140,150,160)))\n",
    "b=a.flatten()\n",
    "print('a\\n',a)\n",
    "print('b\\n',b)\n",
    "print(\"-\"*50)\n",
    "b=a.flatten('C')\n",
    "print('b\\n',b)\n",
    "\n"
   ]
  },
  {
   "cell_type": "markdown",
   "id": "f72f392e",
   "metadata": {},
   "source": [
    "---\n",
    "isme flatten by defalut row ko merge kar ke output deta hai<br>\n",
    "isme 4 options hote hai but ml me 2 importent hote hai\n",
    "1. row waise jisme flatten('c') hota but flatten() by default c hi hota hai\n",
    "2. column waise jisme flatten('F') hota hai"
   ]
  },
  {
   "cell_type": "code",
   "execution_count": 4,
   "id": "b0ddc888",
   "metadata": {
    "ExecuteTime": {
     "end_time": "2023-07-25T09:08:15.149849Z",
     "start_time": "2023-07-25T09:08:15.122064Z"
    }
   },
   "outputs": [
    {
     "name": "stdout",
     "output_type": "stream",
     "text": [
      "Row flatten\n",
      "a\n",
      " [[ 10  20  30  40]\n",
      " [ 50  60  70  80]\n",
      " [ 90 100 110 120]\n",
      " [130 140 150 160]]\n",
      "b\n",
      " [[ 10  20  30  40  50  60  70  80  90 100 110 120 130 140 150 160]]\n",
      "-----------------------------------------------------------\n",
      "column flatten\n",
      "b\n",
      " [[ 10  50  90 130  20  60 100 140  30  70 110 150  40  80 120 160]]\n"
     ]
    }
   ],
   "source": [
    "a=numpy.matrix(((10,20,30,40),(50,60,70,80),(90,100,110,120),(130,140,150,160)))\n",
    "print(\"Row flatten\")\n",
    "b=a.flatten()\n",
    "print('a\\n',a)\n",
    "print('b\\n',b)\n",
    "print(\"-\"*59)\n",
    "\n",
    "print(\"column flatten\")\n",
    "b=a.flatten('F')\n",
    "print('b\\n',b)\n",
    "\n",
    "\n",
    "\n",
    "\n"
   ]
  },
  {
   "cell_type": "code",
   "execution_count": 5,
   "id": "7a685214",
   "metadata": {
    "ExecuteTime": {
     "end_time": "2023-07-25T09:08:24.701898Z",
     "start_time": "2023-07-25T09:08:24.688899Z"
    }
   },
   "outputs": [
    {
     "name": "stdout",
     "output_type": "stream",
     "text": [
      "a\n",
      " [[ 1  2  3  4 41]\n",
      " [ 5  6  7  8 81]\n",
      " [ 9 10 11 12 91]]\n",
      "b\n",
      " [[ 1  2  3  4 41  5  6  7  8 81  9 10 11 12 91]]\n",
      "c\n",
      " [[ 1  2  3]\n",
      " [ 4 41  5]\n",
      " [ 6  7  8]\n",
      " [81  9 10]\n",
      " [11 12 91]]\n",
      "d\n",
      " [[ 1  2  3  4 41]\n",
      " [ 5  6  7  8 81]\n",
      " [ 9 10 11 12 91]]\n"
     ]
    }
   ],
   "source": [
    "a=numpy.matrix(((1,2,3,4,41),(5,6,7,8,81),(9,10,11,12,91)))\n",
    "b=a.flatten()\n",
    "print('a\\n',a)\n",
    "print('b\\n',b)\n",
    "c=b.reshape(5,3)\n",
    "print('c\\n',c)\n",
    "\n",
    "d=b.reshape(3,5)\n",
    "print('d\\n',d)\n"
   ]
  },
  {
   "cell_type": "code",
   "execution_count": 6,
   "id": "d0f14b5d",
   "metadata": {
    "ExecuteTime": {
     "end_time": "2023-07-25T09:08:27.818398Z",
     "start_time": "2023-07-25T09:08:27.804137Z"
    }
   },
   "outputs": [
    {
     "name": "stdout",
     "output_type": "stream",
     "text": [
      "e\n",
      " [[ 1  2  3]\n",
      " [ 4 41  5]\n",
      " [ 6  7  8]\n",
      " [81  9 10]\n",
      " [11 12 91]]\n"
     ]
    }
   ],
   "source": [
    "#you can reshape matrix directly\n",
    "\n",
    "e=a.reshape(5,3)\n",
    "print('e\\n',e)"
   ]
  },
  {
   "cell_type": "code",
   "execution_count": 7,
   "id": "ffebc737",
   "metadata": {
    "ExecuteTime": {
     "end_time": "2023-07-25T09:08:33.780667Z",
     "start_time": "2023-07-25T09:08:33.551271Z"
    }
   },
   "outputs": [
    {
     "ename": "ValueError",
     "evalue": "cannot reshape array of size 15 into shape (2,4)",
     "output_type": "error",
     "traceback": [
      "\u001b[0;31m---------------------------------------------------------------------------\u001b[0m",
      "\u001b[0;31mValueError\u001b[0m                                Traceback (most recent call last)",
      "\u001b[0;32m/var/folders/r3/j_j89gws7_z37_tf3yjldclr0000gn/T/ipykernel_1622/3760243392.py\u001b[0m in \u001b[0;36m<module>\u001b[0;34m\u001b[0m\n\u001b[1;32m      1\u001b[0m \u001b[0;31m# can not be left any element\u001b[0m\u001b[0;34m\u001b[0m\u001b[0;34m\u001b[0m\u001b[0m\n\u001b[0;32m----> 2\u001b[0;31m \u001b[0mf\u001b[0m\u001b[0;34m=\u001b[0m\u001b[0ma\u001b[0m\u001b[0;34m.\u001b[0m\u001b[0mreshape\u001b[0m\u001b[0;34m(\u001b[0m\u001b[0;36m2\u001b[0m\u001b[0;34m,\u001b[0m\u001b[0;36m4\u001b[0m\u001b[0;34m)\u001b[0m \u001b[0;31m# Wrong\u001b[0m\u001b[0;34m\u001b[0m\u001b[0;34m\u001b[0m\u001b[0m\n\u001b[0m\u001b[1;32m      3\u001b[0m \u001b[0;31m# and not add any element using reshape\u001b[0m\u001b[0;34m\u001b[0m\u001b[0;34m\u001b[0m\u001b[0m\n\u001b[1;32m      4\u001b[0m \u001b[0mf\u001b[0m\u001b[0;34m=\u001b[0m\u001b[0ma\u001b[0m\u001b[0;34m.\u001b[0m\u001b[0mreshape\u001b[0m\u001b[0;34m(\u001b[0m\u001b[0;36m3\u001b[0m\u001b[0;34m,\u001b[0m\u001b[0;36m6\u001b[0m\u001b[0;34m)\u001b[0m\u001b[0;34m\u001b[0m\u001b[0;34m\u001b[0m\u001b[0m\n",
      "\u001b[0;31mValueError\u001b[0m: cannot reshape array of size 15 into shape (2,4)"
     ]
    }
   ],
   "source": [
    "# can not be left any element\n",
    "f=a.reshape(2,4) # Wrong\n",
    "# and not add any element using reshape\n",
    "f=a.reshape(3,6)"
   ]
  },
  {
   "cell_type": "markdown",
   "id": "317bfb33",
   "metadata": {},
   "source": [
    "# Importent Point releated to reference"
   ]
  },
  {
   "cell_type": "code",
   "execution_count": 8,
   "id": "47cb6fc7",
   "metadata": {
    "ExecuteTime": {
     "end_time": "2023-07-25T09:09:11.745574Z",
     "start_time": "2023-07-25T09:09:11.732822Z"
    }
   },
   "outputs": [
    {
     "name": "stdout",
     "output_type": "stream",
     "text": [
      "a\n",
      " [[10 20 30 40]\n",
      " [50 60 70 80]]\n",
      "b\n",
      " [[10 20 30 40]\n",
      " [50 60 70 80]]\n",
      "----------------------------------------\n",
      "a\n",
      " [[1010   20   30   40]\n",
      " [  50   60   70   80]]\n",
      "b\n",
      " [[1010   20   30   40]\n",
      " [  50   60   70   80]]\n"
     ]
    }
   ],
   "source": [
    "import numpy\n",
    "a =numpy.matrix(((10,20,30,40),(50,60,70,80)))\n",
    "print('a\\n',a)\n",
    "b=a\n",
    "print('b\\n',b)\n",
    "print('-'*40)\n",
    "b[0,0]=1010\n",
    "print('a\\n',a)\n",
    "print('b\\n',b)\n",
    "\n"
   ]
  },
  {
   "cell_type": "code",
   "execution_count": 9,
   "id": "3575a984",
   "metadata": {},
   "outputs": [
    {
     "name": "stdout",
     "output_type": "stream",
     "text": [
      "a\n",
      " [[10 20 30 40]\n",
      " [50 60 70 80]]\n",
      "b\n",
      " [[10 20 30 40]\n",
      " [50 60 70 80]]\n",
      "----------------------------------------\n",
      "a\n",
      " [[10 20 30 40]\n",
      " [50 60 70 80]]\n",
      "b\n",
      " [[1010   20   30   40]\n",
      " [  50   60   70   80]]\n"
     ]
    }
   ],
   "source": [
    "# if you need to make a copy\n",
    "\n",
    "a =numpy.matrix(((10,20,30,40),(50,60,70,80)))\n",
    "print('a\\n',a)\n",
    "b=a.copy()\n",
    "print('b\\n',b)\n",
    "print('-'*40)\n",
    "b[0,0]=1010\n",
    "print('a\\n',a)\n",
    "print('b\\n',b)\n",
    "\n"
   ]
  },
  {
   "cell_type": "code",
   "execution_count": 10,
   "id": "8c46f04c",
   "metadata": {},
   "outputs": [
    {
     "name": "stdout",
     "output_type": "stream",
     "text": [
      "a\n",
      " [[10 20 30 40]\n",
      " [50 60 70 80]]\n",
      "b\n",
      " [[10 20 30 40]\n",
      " [50 60 70 80]]\n",
      "----------------------------------------\n",
      "a\n",
      " [[1010   20   30   40]\n",
      " [  50   60   70   80]]\n",
      "b\n",
      " [[1010   20   30   40]\n",
      " [  50   60   70   80]]\n",
      "140185727740496 140185727740160\n",
      "diff is A obj , B obj  -> is point to main obj \n",
      "prof of concept :\n",
      "id of a\n",
      " 140185727740272\n",
      "id of b\n",
      " 140185727740272\n",
      "id of c\n",
      " 140185727740160\n",
      "id of d\n",
      " 140185727722768\n",
      "a,b address is same \n",
      "but c,d address are not same\n"
     ]
    }
   ],
   "source": [
    "# another operation is view()\n",
    "a =numpy.matrix(((10,20,30,40),(50,60,70,80)))\n",
    "print('a\\n',a)\n",
    "b=a.view()\n",
    "print('b\\n',b)\n",
    "print('-'*40)\n",
    "b[0,0]=1010\n",
    "print('a\\n',a)\n",
    "print('b\\n',b)\n",
    "\n",
    "\n",
    "print(id(a),id(b))\n",
    "\n",
    "print(\"diff is A obj , B obj  -> is point to main obj \")\n",
    "\n",
    "print(\"prof of concept :\")\n",
    "a =numpy.matrix(((10,20,30,40),(50,60,70,80)))\n",
    "b=a\n",
    "c=a.copy()\n",
    "d=a.view()\n",
    "\n",
    "print('id of a\\n',id(a))\n",
    "print('id of b\\n',id(b))\n",
    "print('id of c\\n',id(c))\n",
    "print('id of d\\n',id(d))\n",
    "\n",
    "print('a,b address is same \\nbut c,d address are not same')\n"
   ]
  },
  {
   "cell_type": "code",
   "execution_count": 11,
   "id": "09f0cc55",
   "metadata": {},
   "outputs": [
    {
     "name": "stdout",
     "output_type": "stream",
     "text": [
      "a\n",
      " [ 0  1  2  3  4  5  6  7  8  9 10 11 12 13 14 15 16 17 18 19 20 21 22 23\n",
      " 24 25 26 27 28 29 30 31 32 33 34 35 36 37 38 39 40 41 42 43 44 45 46 47\n",
      " 48 49 50 51 52 53 54 55 56 57 58 59 60 61 62 63 64 65 66 67 68 69 70 71\n",
      " 72 73 74 75 76 77 78 79 80 81 82 83 84 85 86 87 88 89 90 91 92 93 94 95\n",
      " 96 97 98 99]\n",
      "b\n",
      " [[ 0  1  2  3  4  5  6  7  8  9 10 11 12 13 14 15 16 17 18 19]\n",
      " [20 21 22 23 24 25 26 27 28 29 30 31 32 33 34 35 36 37 38 39]\n",
      " [40 41 42 43 44 45 46 47 48 49 50 51 52 53 54 55 56 57 58 59]\n",
      " [60 61 62 63 64 65 66 67 68 69 70 71 72 73 74 75 76 77 78 79]\n",
      " [80 81 82 83 84 85 86 87 88 89 90 91 92 93 94 95 96 97 98 99]]\n",
      "----------------------------------------\n",
      "c\n",
      " [[ 0  1  2  3  4  5  6  7  8  9 10 11 12 13 14 15 16 17 18 19 20 21 22 23\n",
      "  24]\n",
      " [25 26 27 28 29 30 31 32 33 34 35 36 37 38 39 40 41 42 43 44 45 46 47 48\n",
      "  49]]\n"
     ]
    }
   ],
   "source": [
    "# crate a element with a range\n",
    "a=numpy.arange(100)\n",
    "print('a\\n',a)\n",
    "b=a.reshape(5,20)\n",
    "print('b\\n',b)\n",
    "#-------------------\n",
    "print(\"-\"*40)\n",
    "c=numpy.arange(50).reshape(2,25)\n",
    "print('c\\n',c)\n"
   ]
  },
  {
   "cell_type": "code",
   "execution_count": 13,
   "id": "cb48da76",
   "metadata": {},
   "outputs": [
    {
     "name": "stdout",
     "output_type": "stream",
     "text": [
      "a\n",
      " [35 24 53 12 67  6 19 89 16 81 73  4 91 56 82 60 73 52 44 78 73 94 95 47\n",
      " 36 13 75 54 18 64  5 96 22 87  5 84 37  3 35 63  8 14 33 71 26 73 72  1\n",
      " 14 57]\n",
      "<class 'numpy.ndarray'>\n",
      "b\n",
      " [[46  0 36  4]\n",
      " [ 4 93 82 94]\n",
      " [96  6  2 98]\n",
      " [83 21 62 19]\n",
      " [45 31 16 31]]\n",
      "<class 'numpy.ndarray'>\n",
      "c\n",
      " [[46  0 36  4]\n",
      " [ 4 93 82 94]\n",
      " [96  6  2 98]\n",
      " [83 21 62 19]\n",
      " [45 31 16 31]]\n",
      "<class 'numpy.matrix'>\n"
     ]
    }
   ],
   "source": [
    "a=numpy.random.randint(100,size=50)\n",
    "print('a\\n',a)\n",
    "print(type(a))\n",
    "b = numpy.random.randint(100,size=(5,4))\n",
    "print('b\\n',b)\n",
    "print(type(b))\n",
    "\n",
    "c=numpy.matrix(b)\n",
    "print('c\\n',c)\n",
    "print(type(c))\n"
   ]
  },
  {
   "cell_type": "code",
   "execution_count": 15,
   "id": "6183d02d",
   "metadata": {},
   "outputs": [
    {
     "name": "stdout",
     "output_type": "stream",
     "text": [
      "a\n",
      " [[ -1   2  40 540  30  -1  10 540]\n",
      " [ 10  10   3  30   3  -1 540   3]\n",
      " [ 30  30  40   3   2   2  40 540]\n",
      " [ 40   3  30 540  30  10 540  30]\n",
      " [ 10  -1  30  30  40  40   3  40]]\n"
     ]
    }
   ],
   "source": [
    "a = numpy.random.choice([10,2,3,-1,540,40,30],size=(5,8))\n",
    "print('a\\n',a)"
   ]
  },
  {
   "cell_type": "code",
   "execution_count": 32,
   "id": "20195656",
   "metadata": {},
   "outputs": [
    {
     "name": "stdout",
     "output_type": "stream",
     "text": [
      "a\n",
      " [[60 82 74 53]\n",
      " [40 74 65 83]\n",
      " [19 74 20 56]\n",
      " [35 72 35 62]\n",
      " [ 5  5 54 76]]\n",
      "<class 'numpy.ndarray'>\n",
      "c\n",
      " [82 83 74 72 76]\n",
      "<class 'numpy.ndarray'>\n",
      "c\n",
      " [60 82 74 83]\n"
     ]
    }
   ],
   "source": [
    "# When pass a functions\n",
    "def get_max(a):\n",
    "    max = a[0]\n",
    "    for x in range(1, len(a)):\n",
    "        if a[x] > max:\n",
    "            max = a[x]\n",
    "    return max\n",
    "\n",
    "a = numpy.random.randint(100, size=(5, 4))\n",
    "print(\"a\\n\", a)\n",
    "print(type(a))\n",
    "# a = numpy.matrix(a)\n",
    "# find max element in every row\n",
    "c = numpy.apply_along_axis(get_max, 1, a)\n",
    "print(\"c\\n\", c)\n",
    "print(type(c))\n",
    "\n",
    "# find max element in every columns\n",
    "c = numpy.apply_along_axis(get_max, 0, a)\n",
    "print(\"c\\n\", c)\n"
   ]
  },
  {
   "cell_type": "code",
   "execution_count": 33,
   "id": "4a8b1afe",
   "metadata": {},
   "outputs": [
    {
     "name": "stdout",
     "output_type": "stream",
     "text": [
      "c\n",
      " [60 82 74 83]\n",
      "c\n",
      " [60 82 74 83]\n",
      "c\n",
      " [82 83 74 72 76]\n"
     ]
    }
   ],
   "source": [
    "# apply_along_axis works with ndarray\n",
    "\n",
    "def t_mx(a):\n",
    "    return max(a)\n",
    "\n",
    "c = numpy.apply_along_axis(t_mx, 0, a)\n",
    "print(\"c\\n\", c)\n",
    "\n",
    "c = numpy.apply_along_axis(lambda x : max(x), 0, a)\n",
    "print(\"c\\n\", c)\n",
    "\n",
    "c = numpy.apply_along_axis(lambda x : max(x), 1, a)\n",
    "print(\"c\\n\", c)"
   ]
  },
  {
   "cell_type": "code",
   "execution_count": null,
   "id": "a5ee89f0",
   "metadata": {},
   "outputs": [],
   "source": []
  }
 ],
 "metadata": {
  "kernelspec": {
   "display_name": "Python 3 (ipykernel)",
   "language": "python",
   "name": "python3"
  },
  "language_info": {
   "codemirror_mode": {
    "name": "ipython",
    "version": 3
   },
   "file_extension": ".py",
   "mimetype": "text/x-python",
   "name": "python",
   "nbconvert_exporter": "python",
   "pygments_lexer": "ipython3",
   "version": "3.9.13"
  },
  "vscode": {
   "interpreter": {
    "hash": "130826a50b4030fecff09c60f733bc90a93922839765dc4abeb8c6376ff802e4"
   }
  }
 },
 "nbformat": 4,
 "nbformat_minor": 5
}
