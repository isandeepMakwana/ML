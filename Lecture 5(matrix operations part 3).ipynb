{
 "cells": [
  {
   "cell_type": "code",
   "execution_count": 51,
   "id": "4baea19e",
   "metadata": {},
   "outputs": [],
   "source": [
    "#SPlit the matrix \n",
    "import numpy"
   ]
  },
  {
   "cell_type": "code",
   "execution_count": 41,
   "id": "5806750c",
   "metadata": {
    "scrolled": true
   },
   "outputs": [
    {
     "name": "stdout",
     "output_type": "stream",
     "text": [
      "Horizantally Split\n",
      "a\n",
      " [[ 10  20  30  40]\n",
      " [ 50  60  70  80]\n",
      " [ 90 100 110 120]\n",
      " [130 140 150 160]]\n",
      "b\n",
      " [matrix([[ 10,  20],\n",
      "        [ 50,  60],\n",
      "        [ 90, 100],\n",
      "        [130, 140]]), matrix([[ 30,  40],\n",
      "        [ 70,  80],\n",
      "        [110, 120],\n",
      "        [150, 160]])]\n",
      "c\n",
      " [[ 10  20]\n",
      " [ 50  60]\n",
      " [ 90 100]\n",
      " [130 140]]\n",
      "d\n",
      " [[ 30  40]\n",
      " [ 70  80]\n",
      " [110 120]\n",
      " [150 160]]\n",
      "vertically Split\n",
      "g\n",
      " [[10 20]\n",
      " [50 60]]\n",
      "h\n",
      " [[ 90 100]\n",
      " [130 140]]\n",
      "i\n",
      " [[30 40]\n",
      " [70 80]]\n",
      "j\n",
      " [[110 120]\n",
      " [150 160]]\n"
     ]
    }
   ],
   "source": [
    "#HOrizantaly\n",
    "a = numpy.matrix(((10,20,30,40),(50,60,70,80),(90,100,110,120),(130,140,150,160)))\n",
    "print(\"Horizantally Split\")\n",
    "b = numpy.hsplit(a,2)\n",
    "print('a\\n',a)\n",
    "print('b\\n',b)\n",
    "c=b[0]\n",
    "d=b[1]\n",
    "print('c\\n',c)\n",
    "print('d\\n',d)\n",
    "\n",
    "#Verticaly\n",
    "print(\"vertically Split\")\n",
    "e=numpy.vsplit(c,2)\n",
    "f=numpy.vsplit(d,2)\n",
    "g=e[0]\n",
    "h=e[1]\n",
    "i=f[0]\n",
    "j=f[1]\n",
    "print('g\\n',g)\n",
    "print('h\\n',h)\n",
    "print('i\\n',i)\n",
    "print('j\\n',j)\n",
    "\n",
    "\n"
   ]
  },
  {
   "cell_type": "markdown",
   "id": "c6385d85",
   "metadata": {},
   "source": [
    "# Sparse Matrix"
   ]
  },
  {
   "cell_type": "code",
   "execution_count": 42,
   "id": "ab9e849a",
   "metadata": {},
   "outputs": [
    {
     "name": "stdout",
     "output_type": "stream",
     "text": [
      "Requirement already satisfied: scipy in /Library/Frameworks/Python.framework/Versions/3.10/lib/python3.10/site-packages (1.8.1)\n",
      "Requirement already satisfied: numpy<1.25.0,>=1.17.3 in /Library/Frameworks/Python.framework/Versions/3.10/lib/python3.10/site-packages (from scipy) (1.22.3)\n",
      "\u001b[33mWARNING: You are using pip version 22.0.4; however, version 22.1.1 is available.\n",
      "You should consider upgrading via the '/Library/Frameworks/Python.framework/Versions/3.10/bin/python3 -m pip install --upgrade pip' command.\u001b[0m\u001b[33m\n",
      "\u001b[0m"
     ]
    }
   ],
   "source": [
    "import sys\n",
    "!{sys.executable} -m pip install scipy"
   ]
  },
  {
   "cell_type": "code",
   "execution_count": 43,
   "id": "f78df8ae",
   "metadata": {},
   "outputs": [
    {
     "name": "stdout",
     "output_type": "stream",
     "text": [
      "a\n",
      " [[24  0  0  1]\n",
      " [ 0  1 20  0]\n",
      " [ 0  0  0  1]\n",
      " [ 1  4  0  2]\n",
      " [ 0  0  0  1]]\n",
      "compressed form\n",
      "   (0, 0)\t24\n",
      "  (0, 3)\t1\n",
      "  (1, 1)\t1\n",
      "  (1, 2)\t20\n",
      "  (2, 3)\t1\n",
      "  (3, 0)\t1\n",
      "  (3, 1)\t4\n",
      "  (3, 3)\t2\n",
      "  (4, 3)\t1\n"
     ]
    }
   ],
   "source": [
    "import scipy.sparse\n",
    "a=numpy.matrix(((24,0,0,1),(0,1,20,0),(0,0,0,1),(1,4,0,2),(0,0,0,1)))\n",
    "print('a\\n',a)\n",
    "\n",
    "#CSR -> Compressed sparse column\n",
    "ca = scipy.sparse.csr_matrix(a)\n",
    "print('compressed form\\n',ca)\n"
   ]
  },
  {
   "cell_type": "markdown",
   "id": "e2fbef9f",
   "metadata": {},
   "source": [
    "# some time it can be a wrong becouse of extra space consume like \n",
    "#Example"
   ]
  },
  {
   "cell_type": "code",
   "execution_count": 44,
   "id": "074219f2",
   "metadata": {},
   "outputs": [
    {
     "name": "stdout",
     "output_type": "stream",
     "text": [
      "a\n",
      " [[24 20 10  1]\n",
      " [ 0  1 20 50]\n",
      " [60 40  0  1]\n",
      " [ 1  4  0  2]\n",
      " [24 21  0  1]\n",
      " [ 0 54  0  1]]\n",
      "compressed form\n",
      "   (0, 0)\t24\n",
      "  (0, 1)\t20\n",
      "  (0, 2)\t10\n",
      "  (0, 3)\t1\n",
      "  (1, 1)\t1\n",
      "  (1, 2)\t20\n",
      "  (1, 3)\t50\n",
      "  (2, 0)\t60\n",
      "  (2, 1)\t40\n",
      "  (2, 3)\t1\n",
      "  (3, 0)\t1\n",
      "  (3, 1)\t4\n",
      "  (3, 3)\t2\n",
      "  (4, 0)\t24\n",
      "  (4, 1)\t21\n",
      "  (4, 3)\t1\n",
      "  (5, 1)\t54\n",
      "  (5, 3)\t1\n",
      "==============================\n",
      "Check the matrix is sparse-able\n",
      "False\n"
     ]
    }
   ],
   "source": [
    "a= numpy.matrix(((24,20,10,1),(0,1,20,50),(60,40,0,1),(1,4,0,2),(24,21,0,1),(0,54,0,1)))\n",
    "print('a\\n',a)\n",
    "\n",
    "#CSR -> Compressed sparse column\n",
    "ca = scipy.sparse.csr_matrix(a)\n",
    "print('compressed form\\n',ca)\n",
    "print(\"=\"*30)\n",
    "print(\"Check the matrix is sparse-able\")\n",
    "#error hai direct passed matix a\n",
    "print(scipy.sparse.issparse(a)) #--> Error solution in next block\n",
    "\n"
   ]
  },
  {
   "cell_type": "code",
   "execution_count": 45,
   "id": "86b7b1dc",
   "metadata": {},
   "outputs": [
    {
     "name": "stdout",
     "output_type": "stream",
     "text": [
      "[[0 0 0]\n",
      " [0 0 0]\n",
      " [1 0 0]]\n",
      "False\n",
      "True\n",
      "isSparse method needs a csr_matrix not normal matrix\n"
     ]
    }
   ],
   "source": [
    "# error kya hai jo issparce hai wo csr_matrix type ka object except karega par humne usme direct numpy.matrix ka \n",
    "# object pass kar diya or is condition me wo always false hi deta hai\n",
    "\n",
    "\n",
    "# Let see the Example :\n",
    "#      problem \n",
    "    \n",
    "a = numpy.matrix(((0,0,0),(0,0,0),(1,0,0)))\n",
    "print(a)\n",
    "print(scipy.sparse.issparse(a)) # --> always false\n",
    "\n",
    "\n",
    "# sol:\n",
    "b = scipy.sparse.csr_matrix(a)\n",
    "print(scipy.sparse.issparse(b))\n",
    "print(\"isSparse method needs a csr_matrix not normal matrix\")\n",
    "\n"
   ]
  },
  {
   "cell_type": "markdown",
   "id": "7090df83",
   "metadata": {},
   "source": [
    "# implementation of isSparse and other methods"
   ]
  },
  {
   "cell_type": "code",
   "execution_count": 46,
   "id": "320ded02",
   "metadata": {},
   "outputs": [
    {
     "name": "stdout",
     "output_type": "stream",
     "text": [
      "a\n",
      " [[24 20 10  1]\n",
      " [ 0  1 20 50]\n",
      " [60 40  0  1]\n",
      " [ 1  4  0  2]\n",
      " [24 21  0  1]\n",
      " [ 0 54  0  1]]\n",
      "non zero count 18\n",
      "shape (6, 4)\n",
      "row :  6\n",
      "column :  4\n",
      "size :  24\n",
      "False\n"
     ]
    }
   ],
   "source": [
    "a= numpy.matrix(((24,20,10,1),(0,1,20,50),(60,40,0,1),(1,4,0,2),(24,21,0,1),(0,54,0,1)))\n",
    "print('a\\n',a)\n",
    "k=numpy.count_nonzero(a)\n",
    "print('non zero count',k)\n",
    "print('shape',a.shape)\n",
    "rows = a.shape[0]\n",
    "columns=a.shape[1]\n",
    "print('row : ',rows)\n",
    "print('column : ',columns)\n",
    "sz = a.size\n",
    "print('size : ',sz)\n",
    "x = 1-(k/sz)\n",
    "if x > 0.5 : print(\"True\")\n",
    "else : print(\"False\")\n",
    "    \n",
    "\n",
    "\n",
    "\n",
    "\n",
    "\n"
   ]
  },
  {
   "cell_type": "markdown",
   "id": "7a99b5c2",
   "metadata": {},
   "source": [
    "# Rank and Trace"
   ]
  },
  {
   "cell_type": "code",
   "execution_count": 47,
   "id": "9a447cb9",
   "metadata": {},
   "outputs": [
    {
     "name": "stdout",
     "output_type": "stream",
     "text": [
      "a\n",
      " [[ 10  20  30  40]\n",
      " [ 50  60  70  80]\n",
      " [ 90 100 110 120]]\n",
      "Rank :  2\n"
     ]
    }
   ],
   "source": [
    "a = numpy.matrix(((10,20,30,40),(50,60,70,80),(90,100,110,120)))\n",
    "b=numpy.linalg.matrix_rank(a)\n",
    "print('a\\n',a)\n",
    "print('Rank : ',b)"
   ]
  },
  {
   "cell_type": "code",
   "execution_count": 48,
   "id": "5d072511",
   "metadata": {},
   "outputs": [
    {
     "name": "stdout",
     "output_type": "stream",
     "text": [
      "a\n",
      " [[ 10  20  30  40]\n",
      " [ 50  60  70  80]\n",
      " [ 90 100 110 120]]\n",
      "Trace :  2\n"
     ]
    }
   ],
   "source": [
    "c = numpy.linalg.matrix_rank(a)\n",
    "print('a\\n',a)\n",
    "print('Trace : ',c)\n"
   ]
  },
  {
   "cell_type": "markdown",
   "id": "56d82d8b",
   "metadata": {},
   "source": [
    "# Squre and Power ^3 Matrix"
   ]
  },
  {
   "cell_type": "code",
   "execution_count": 49,
   "id": "6850ca2b",
   "metadata": {},
   "outputs": [
    {
     "name": "stdout",
     "output_type": "stream",
     "text": [
      "a\n",
      " [[ 10  20  30  40]\n",
      " [ 50  60  70  80]\n",
      " [ 90 100 110 120]\n",
      " [130 140 150 160]]\n",
      "a^2 : [[ 9000 10000 11000 12000]\n",
      " [20200 22800 25400 28000]\n",
      " [31400 35600 39800 44000]\n",
      " [42600 48400 54200 60000]]\n",
      "a*a\n",
      " [[ 9000 10000 11000 12000]\n",
      " [20200 22800 25400 28000]\n",
      " [31400 35600 39800 44000]\n",
      " [42600 48400 54200 60000]]\n",
      "----------------------------------------------------------------------------------------------------\n",
      "a\n",
      " [[ 10  20  30  40]\n",
      " [ 50  60  70  80]\n",
      " [ 90 100 110 120]\n",
      " [130 140 150 160]]\n",
      "a^3 [[ 3140000  3560000  3980000  4400000]\n",
      " [ 7268000  8232000  9196000 10160000]\n",
      " [11396000 12904000 14412000 15920000]\n",
      " [15524000 17576000 19628000 21680000]]\n",
      "a*a*a\n",
      " [[ 3140000  3560000  3980000  4400000]\n",
      " [ 7268000  8232000  9196000 10160000]\n",
      " [11396000 12904000 14412000 15920000]\n",
      " [15524000 17576000 19628000 21680000]]\n"
     ]
    }
   ],
   "source": [
    "\n",
    "\n",
    "a = numpy.matrix(((10,20,30,40),(50,60,70,80),(90,100,110,120),(130,140,150,160)))\n",
    "b=numpy.linalg.matrix_power(a,2)\n",
    "print('a\\n',a)\n",
    "print('a^2 :',b)\n",
    "\n",
    "c = a*a\n",
    "print('a*a\\n',c)\n",
    "\n",
    "print('-'*100)\n",
    "\n",
    "b = numpy.linalg.matrix_power(a,3)\n",
    "print('a\\n',a)\n",
    "print('a^3',b)\n",
    "c = a*a*a\n",
    "print('a*a*a\\n',c)\n",
    "\n"
   ]
  },
  {
   "cell_type": "markdown",
   "id": "d1174661",
   "metadata": {},
   "source": [
    "# Eigen values , Eigen Vectors"
   ]
  },
  {
   "cell_type": "code",
   "execution_count": 50,
   "id": "676e181e",
   "metadata": {},
   "outputs": [
    {
     "name": "stdout",
     "output_type": "stream",
     "text": [
      "a\n",
      " [[ 1  2 30 40]\n",
      " [20  3 40 -2]\n",
      " [-3 40  3 20]\n",
      " [50  0  4  2]]\n",
      "eigen values \n",
      "  [-40.24330491+17.24081033j -40.24330491-17.24081033j\n",
      "  62.5550599  +0.j          26.93154992 +0.j        ]\n",
      "eigen vectors \n",
      " [[ 0.03043304+0.42208635j  0.03043304-0.42208635j  0.56032891+0.j\n",
      "   0.33588464+0.j        ]\n",
      " [ 0.52704032-0.00459822j  0.52704032+0.00459822j  0.48073115+0.j\n",
      "  -0.55521945+0.j        ]\n",
      " [-0.57348595+0.j         -0.57348595-0.j          0.46023795+0.j\n",
      "  -0.47021524+0.j        ]\n",
      " [ 0.19045569-0.42185873j  0.19045569+0.42185873j  0.49306197+0.j\n",
      "   0.59817263+0.j        ]]\n"
     ]
    }
   ],
   "source": [
    "a = numpy.matrix(((1,2,30,40),(20,3,40,-2),(-3,40,3,20),(50,0,4,2)))\n",
    "print('a\\n',a)\n",
    "b,c = numpy.linalg.eig(a)\n",
    "print('eigen values \\n ',b)\n",
    "print('eigen vectors \\n',c)\n",
    "\n"
   ]
  },
  {
   "cell_type": "code",
   "execution_count": null,
   "id": "2444d194",
   "metadata": {},
   "outputs": [],
   "source": []
  }
 ],
 "metadata": {
  "kernelspec": {
   "display_name": "Python 3 (ipykernel)",
   "language": "python",
   "name": "python3"
  },
  "language_info": {
   "codemirror_mode": {
    "name": "ipython",
    "version": 3
   },
   "file_extension": ".py",
   "mimetype": "text/x-python",
   "name": "python",
   "nbconvert_exporter": "python",
   "pygments_lexer": "ipython3",
   "version": "3.10.2"
  }
 },
 "nbformat": 4,
 "nbformat_minor": 5
}
