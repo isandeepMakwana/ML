{
 "cells": [
  {
   "cell_type": "markdown",
   "id": "30a14dfec699ab40",
   "metadata": {},
   "source": [
    "# write a regression based example for KNN"
   ]
  },
  {
   "cell_type": "code",
   "execution_count": 1,
   "id": "6446cd20176af855",
   "metadata": {
    "ExecuteTime": {
     "end_time": "2023-12-08T05:03:18.853219Z",
     "start_time": "2023-12-08T05:03:18.837323Z"
    }
   },
   "outputs": [],
   "source": [
    "import math\n",
    "\n",
    "data = [\n",
    "    {\"height\": 175, \"age\": 25, \"weight\": 70},\n",
    "    {\"height\": 162, \"age\": 30, \"weight\": 55},\n",
    "    {\"height\": 180, \"age\": 22, \"weight\": 80},\n",
    "    {\"height\": 155, \"age\": 28, \"weight\": 63},\n",
    "    {\"height\": 168, \"age\": 35, \"weight\": 75},\n",
    "    {\"height\": 170, \"age\": 27, \"weight\": 68},\n",
    "    {\"height\": 163, \"age\": 31, \"weight\": 58},\n",
    "    {\"height\": 176, \"age\": 26, \"weight\": 72},\n",
    "    {\"height\": 158, \"age\": 33, \"weight\": 60},\n",
    "    {\"height\": 182, \"age\": 29, \"weight\": 85},\n",
    "    {\"height\": 169, \"age\": 24, \"weight\": 67},\n",
    "    {\"height\": 164, \"age\": 32, \"weight\": 59},\n",
    "    {\"height\": 177, \"age\": 28, \"weight\": 74},\n",
    "    {\"height\": 160, \"age\": 30, \"weight\": 56},\n",
    "    {\"height\": 174, \"age\": 23, \"weight\": 69},\n",
    "    {\"height\": 167, \"age\": 34, \"weight\": 71},\n",
    "    {\"height\": 181, \"age\": 27, \"weight\": 78},\n",
    "    {\"height\": 156, \"age\": 29, \"weight\": 62},\n",
    "    {\"height\": 172, \"age\": 31, \"weight\": 76},\n",
    "    {\"height\": 165, \"age\": 26, \"weight\": 64},\n",
    "    {\"height\": 178, \"age\": 33, \"weight\": 79},\n",
    "    {\"height\": 159, \"age\": 28, \"weight\": 61},\n",
    "    {\"height\": 183, \"age\": 25, \"weight\": 83},\n",
    "    {\"height\": 171, \"age\": 30, \"weight\": 77},\n",
    "    {\"height\": 166, \"age\": 27, \"weight\": 66},\n",
    "    {\"height\": 179, \"age\": 32, \"weight\": 81},\n",
    "    {\"height\": 161, \"age\": 29, \"weight\": 57},\n",
    "    {\"height\": 175, \"age\": 34, \"weight\": 73},\n",
    "    {\"height\": 162, \"age\": 28, \"weight\": 55},\n",
    "    {\"height\": 180, \"age\": 25, \"weight\": 82},\n",
    "    {\"height\": 155, \"age\": 31, \"weight\": 63},\n",
    "    {\"height\": 168, \"age\": 28, \"weight\": 70},\n",
    "    {\"height\": 173, \"age\": 33, \"weight\": 68},\n",
    "    {\"height\": 157, \"age\": 26, \"weight\": 59},\n",
    "    {\"height\": 176, \"age\": 29, \"weight\": 74},\n",
    "    {\"height\": 170, \"age\": 32, \"weight\": 76},\n",
    "    {\"height\": 184, \"age\": 30, \"weight\": 84}\n",
    "]\n"
   ]
  },
  {
   "cell_type": "code",
   "execution_count": 2,
   "id": "59a680dfae60852c",
   "metadata": {
    "ExecuteTime": {
     "end_time": "2023-12-08T05:03:19.647114Z",
     "start_time": "2023-12-08T05:03:18.850947Z"
    }
   },
   "outputs": [
    {
     "name": "stdout",
     "output_type": "stream",
     "text": [
      "[[175  25  70]\n",
      " [162  30  55]\n",
      " [180  22  80]\n",
      " [155  28  63]\n",
      " [168  35  75]\n",
      " [170  27  68]\n",
      " [163  31  58]\n",
      " [176  26  72]\n",
      " [158  33  60]\n",
      " [182  29  85]\n",
      " [169  24  67]\n",
      " [164  32  59]\n",
      " [177  28  74]\n",
      " [160  30  56]\n",
      " [174  23  69]\n",
      " [167  34  71]\n",
      " [181  27  78]\n",
      " [156  29  62]\n",
      " [172  31  76]\n",
      " [165  26  64]\n",
      " [178  33  79]\n",
      " [159  28  61]\n",
      " [183  25  83]\n",
      " [171  30  77]\n",
      " [166  27  66]\n",
      " [179  32  81]\n",
      " [161  29  57]\n",
      " [175  34  73]\n",
      " [162  28  55]\n",
      " [180  25  82]\n",
      " [155  31  63]\n",
      " [168  28  70]\n",
      " [173  33  68]\n",
      " [157  26  59]\n",
      " [176  29  74]\n",
      " [170  32  76]\n",
      " [184  30  84]]\n"
     ]
    }
   ],
   "source": [
    "import numpy as np\n",
    "import math\n",
    "data2 = np.array([(x['height'], x['age'], x['weight']) for x in data])\n",
    "print(data2)"
   ]
  },
  {
   "cell_type": "code",
   "execution_count": 3,
   "id": "c293283069d16c6a",
   "metadata": {
    "ExecuteTime": {
     "end_time": "2023-12-08T05:03:19.650456Z",
     "start_time": "2023-12-08T05:03:19.643886Z"
    }
   },
   "outputs": [
    {
     "name": "stdout",
     "output_type": "stream",
     "text": [
      "7\n"
     ]
    }
   ],
   "source": [
    "# calculate kFector\n",
    "kFector = int(math.sqrt(len(data2)))\n",
    "if kFector%2==0:\n",
    "    kFector+=1\n",
    "print(kFector)"
   ]
  },
  {
   "cell_type": "code",
   "execution_count": 4,
   "id": "2badd8577ab5f854",
   "metadata": {
    "ExecuteTime": {
     "end_time": "2023-12-08T05:03:19.660553Z",
     "start_time": "2023-12-08T05:03:19.655656Z"
    }
   },
   "outputs": [],
   "source": [
    "# query data\n",
    "queryX , queryY= (158,33)"
   ]
  },
  {
   "cell_type": "code",
   "execution_count": 5,
   "id": "d0bacd0adfe0693a",
   "metadata": {
    "ExecuteTime": {
     "end_time": "2023-12-08T05:03:19.703992Z",
     "start_time": "2023-12-08T05:03:19.662459Z"
    }
   },
   "outputs": [
    {
     "name": "stdout",
     "output_type": "stream",
     "text": [
      "[(25, 70), (7, 55), (33, 80), (8, 63), (12, 75), (18, 68), (7, 58), (25, 72), (0, 60), (28, 85), (20, 67), (7, 59), (24, 74), (5, 56), (26, 69), (10, 71), (29, 78), (6, 62), (16, 76), (14, 64), (20, 79), (6, 61), (33, 83), (16, 77), (14, 66), (22, 81), (7, 57), (18, 73), (9, 55), (30, 82), (5, 63), (15, 70), (15, 68), (8, 59), (22, 74), (13, 76), (29, 84)]\n"
     ]
    }
   ],
   "source": [
    "# find distance\n",
    "distanceList = []\n",
    "for d in data2:\n",
    "    distanceList.append((abs(d[0]-queryX)+abs(d[1]-queryY),d[2]))\n",
    "print(distanceList)"
   ]
  },
  {
   "cell_type": "code",
   "execution_count": 6,
   "id": "3b5df545a9c1766e",
   "metadata": {
    "ExecuteTime": {
     "end_time": "2023-12-08T05:03:19.704475Z",
     "start_time": "2023-12-08T05:03:19.668683Z"
    }
   },
   "outputs": [
    {
     "name": "stdout",
     "output_type": "stream",
     "text": [
      "[(0, 60), (5, 56), (5, 63), (6, 62), (6, 61), (7, 55), (7, 58)]\n"
     ]
    }
   ],
   "source": [
    "distanceList.sort(key= lambda r : r[0])\n",
    "distanceList = distanceList[:kFector]\n",
    "print(distanceList)"
   ]
  },
  {
   "cell_type": "code",
   "execution_count": 7,
   "id": "1211291ec29788da",
   "metadata": {
    "ExecuteTime": {
     "end_time": "2023-12-08T05:03:19.705007Z",
     "start_time": "2023-12-08T05:03:19.673367Z"
    }
   },
   "outputs": [
    {
     "name": "stdout",
     "output_type": "stream",
     "text": [
      "[60, 56, 63, 62, 61, 55, 58]\n"
     ]
    }
   ],
   "source": [
    "final_weights_data = [x[1] for x in distanceList]\n",
    "print(final_weights_data)"
   ]
  },
  {
   "cell_type": "code",
   "execution_count": 8,
   "id": "378e68f10cbab0cb",
   "metadata": {
    "ExecuteTime": {
     "end_time": "2023-12-08T05:03:19.753236Z",
     "start_time": "2023-12-08T05:03:19.680926Z"
    }
   },
   "outputs": [
    {
     "name": "stdout",
     "output_type": "stream",
     "text": [
      "the expected weight for height = 158, age= 33 , weight= 59 \n"
     ]
    }
   ],
   "source": [
    "import statistics as st\n",
    "p_weight = st.mean(final_weights_data)\n",
    "print(f\"the expected weight for height = {queryX}, age= {queryY} , weight= {p_weight} \")"
   ]
  },
  {
   "cell_type": "code",
   "execution_count": 9,
   "id": "44ff41754720b7b9",
   "metadata": {
    "ExecuteTime": {
     "end_time": "2023-12-08T05:03:19.770812Z",
     "start_time": "2023-12-08T05:03:19.725482Z"
    }
   },
   "outputs": [
    {
     "data": {
      "text/plain": "0.14285714285714285"
     },
     "execution_count": 9,
     "metadata": {},
     "output_type": "execute_result"
    }
   ],
   "source": [
    "p_weight\n",
    "# mse\n",
    "(60-59)**2/len(distanceList)"
   ]
  },
  {
   "cell_type": "code",
   "execution_count": 10,
   "id": "dac28c0bab5d86c3",
   "metadata": {
    "ExecuteTime": {
     "end_time": "2023-12-08T05:03:19.772592Z",
     "start_time": "2023-12-08T05:03:19.736Z"
    }
   },
   "outputs": [
    {
     "data": {
      "text/plain": "60"
     },
     "execution_count": 10,
     "metadata": {},
     "output_type": "execute_result"
    }
   ],
   "source": [
    "p_weight = st.median(final_weights_data)\n",
    "p_weight"
   ]
  }
 ],
 "metadata": {
  "kernelspec": {
   "display_name": "Python 3 (ipykernel)",
   "language": "python",
   "name": "python3"
  },
  "language_info": {
   "codemirror_mode": {
    "name": "ipython",
    "version": 3
   },
   "file_extension": ".py",
   "mimetype": "text/x-python",
   "name": "python",
   "nbconvert_exporter": "python",
   "pygments_lexer": "ipython3",
   "version": "3.9.13"
  }
 },
 "nbformat": 4,
 "nbformat_minor": 5
}
