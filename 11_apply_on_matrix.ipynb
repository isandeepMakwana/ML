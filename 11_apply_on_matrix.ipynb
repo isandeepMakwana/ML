{
 "cells": [
  {
   "cell_type": "code",
   "execution_count": null,
   "id": "initial_id",
   "metadata": {
    "collapsed": true,
    "ExecuteTime": {
     "end_time": "2023-12-08T06:00:44.167676Z",
     "start_time": "2023-12-08T06:00:44.165646Z"
    }
   },
   "outputs": [],
   "source": []
  },
  {
   "cell_type": "code",
   "execution_count": 1,
   "outputs": [
    {
     "name": "stdout",
     "output_type": "stream",
     "text": [
      "[[ 3.33333333  6.66666667 33.33333333 13.33333333  1.66666667]]\n",
      "[[27.]\n",
      " [27.]\n",
      " [27.]]\n"
     ]
    }
   ],
   "source": [
    "import numpy\n",
    "\n",
    "data = numpy.matrix(((10,20,100,40,5),(10,20,100,40,5),(10,20,100,40,5)))\n",
    "w = numpy.matrix(((.2,.3,.1,.2,.2),(.2,.3,.1,.2,.2),(.2,.3,.1,.2,.2)))\n",
    "wgt_mean = numpy.average(data, weights=w,axis=0)\n",
    "s=numpy.sum(w)\n",
    "print(wgt_mean/s)\n",
    "\n",
    "wgt_mean = numpy.average(data, weights=w,axis=1)\n",
    "s = numpy.sum(w,axis=1)\n",
    "print(wgt_mean/s)\n"
   ],
   "metadata": {
    "collapsed": false,
    "ExecuteTime": {
     "end_time": "2023-12-08T06:00:45.007522Z",
     "start_time": "2023-12-08T06:00:44.173181Z"
    }
   },
   "id": "c1b047012f27712"
  },
  {
   "cell_type": "code",
   "execution_count": 1,
   "outputs": [],
   "source": [],
   "metadata": {
    "collapsed": false,
    "ExecuteTime": {
     "end_time": "2023-12-08T06:00:45.007856Z",
     "start_time": "2023-12-08T06:00:45.004830Z"
    }
   },
   "id": "2bae164593b31f35"
  }
 ],
 "metadata": {
  "kernelspec": {
   "display_name": "Python 3",
   "language": "python",
   "name": "python3"
  },
  "language_info": {
   "codemirror_mode": {
    "name": "ipython",
    "version": 2
   },
   "file_extension": ".py",
   "mimetype": "text/x-python",
   "name": "python",
   "nbconvert_exporter": "python",
   "pygments_lexer": "ipython2",
   "version": "2.7.6"
  }
 },
 "nbformat": 4,
 "nbformat_minor": 5
}
