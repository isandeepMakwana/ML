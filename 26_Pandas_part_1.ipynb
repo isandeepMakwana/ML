{
 "cells": [
  {
   "attachments": {},
   "cell_type": "markdown",
   "metadata": {},
   "source": [
    "# Pandas DataFrame\n",
    "- Dataframes are like an entire excel spreadsheet! As you can probably guess, dataframes are a list of series, each one with a name and the same index. Thus an easy way to create a dataframe is to create it with a dictionary of series/lists\n",
    "- [download demo data](https://thinkingmachines.in/downloads/data26.zip)\n",
    "- tsv  tab sepreated value\n",
    "- csv comma sepreated value"
   ]
  },
  {
   "cell_type": "code",
   "execution_count": 1,
   "metadata": {},
   "outputs": [
    {
     "name": "stdout",
     "output_type": "stream",
     "text": [
      "          country continent  year  lifeExp       pop   gdpPercap\n",
      "0     Afghanistan      Asia  1952   28.801   8425333  779.445314\n",
      "1     Afghanistan      Asia  1957   30.332   9240934  820.853030\n",
      "2     Afghanistan      Asia  1962   31.997  10267083  853.100710\n",
      "3     Afghanistan      Asia  1967   34.020  11537966  836.197138\n",
      "4     Afghanistan      Asia  1972   36.088  13079460  739.981106\n",
      "...           ...       ...   ...      ...       ...         ...\n",
      "1699     Zimbabwe    Africa  1987   62.351   9216418  706.157306\n",
      "1700     Zimbabwe    Africa  1992   60.377  10704340  693.420786\n",
      "1701     Zimbabwe    Africa  1997   46.809  11404948  792.449960\n",
      "1702     Zimbabwe    Africa  2002   39.989  11926563  672.038623\n",
      "1703     Zimbabwe    Africa  2007   43.487  12311143  469.709298\n",
      "\n",
      "[1704 rows x 6 columns]\n"
     ]
    }
   ],
   "source": [
    "import pandas\n",
    "dataFrame = pandas.read_csv(\"data/data26/video26_dataset_1.tsv\" , sep='\\t')\n",
    "print(dataFrame)"
   ]
  },
  {
   "cell_type": "code",
   "execution_count": 2,
   "metadata": {},
   "outputs": [
    {
     "name": "stdout",
     "output_type": "stream",
     "text": [
      "<class 'pandas.core.frame.DataFrame'>\n",
      "(1704, 6)\n",
      "Index(['country', 'continent', 'year', 'lifeExp', 'pop', 'gdpPercap'], dtype='object')\n",
      "<class 'pandas.core.indexes.base.Index'>\n",
      "country       object\n",
      "continent     object\n",
      "year           int64\n",
      "lifeExp      float64\n",
      "pop            int64\n",
      "gdpPercap    float64\n",
      "dtype: object\n",
      "<class 'pandas.core.series.Series'>\n",
      "<class 'pandas.core.frame.DataFrame'>\n",
      "RangeIndex: 1704 entries, 0 to 1703\n",
      "Data columns (total 6 columns):\n",
      " #   Column     Non-Null Count  Dtype  \n",
      "---  ------     --------------  -----  \n",
      " 0   country    1704 non-null   object \n",
      " 1   continent  1704 non-null   object \n",
      " 2   year       1704 non-null   int64  \n",
      " 3   lifeExp    1704 non-null   float64\n",
      " 4   pop        1704 non-null   int64  \n",
      " 5   gdpPercap  1704 non-null   float64\n",
      "dtypes: float64(2), int64(2), object(2)\n",
      "memory usage: 80.0+ KB\n",
      "None\n"
     ]
    }
   ],
   "source": [
    "import pandas\n",
    "dataFrame = pandas.read_csv(\"data/data26/video26_dataset_1.tsv\",sep=\"\\t\")\n",
    "# print(dataFrame)\n",
    "print(type(dataFrame))\n",
    "print(dataFrame.shape) # size of dataframe in matrix\n",
    "print(dataFrame.columns) # columns of dataframe \n",
    "print(type(dataFrame.columns))\n",
    "print(dataFrame.dtypes) # print datatypes of columns\n",
    "print(type(dataFrame.dtypes))\n",
    "print(dataFrame.info()) # provides informations\n",
    "\n",
    "\n"
   ]
  },
  {
   "cell_type": "code",
   "execution_count": 3,
   "metadata": {},
   "outputs": [
    {
     "name": "stdout",
     "output_type": "stream",
     "text": [
      "0       Afghanistan\n",
      "1       Afghanistan\n",
      "2       Afghanistan\n",
      "3       Afghanistan\n",
      "4       Afghanistan\n",
      "           ...     \n",
      "1699       Zimbabwe\n",
      "1700       Zimbabwe\n",
      "1701       Zimbabwe\n",
      "1702       Zimbabwe\n",
      "1703       Zimbabwe\n",
      "Name: country, Length: 1704, dtype: object\n",
      "<class 'pandas.core.series.Series'>\n",
      "<class 'set'>\n",
      "Switzerland\n",
      "Uganda\n",
      "Brazil\n",
      "Botswana\n",
      "Namibia\n",
      "Honduras\n",
      "Mauritania\n",
      "Zambia\n",
      "Zimbabwe\n",
      "Uruguay\n",
      "Iran\n",
      "Malaysia\n",
      "Angola\n",
      "Congo, Rep.\n",
      "Reunion\n",
      "Argentina\n",
      "Tanzania\n",
      "Japan\n",
      "Venezuela\n",
      "Panama\n",
      "Mongolia\n",
      "West Bank and Gaza\n",
      "Serbia\n",
      "Philippines\n",
      "Trinidad and Tobago\n",
      "Haiti\n",
      "Oman\n",
      "Eritrea\n",
      "Belgium\n",
      "Albania\n",
      "Costa Rica\n",
      "Sao Tome and Principe\n",
      "Cote d'Ivoire\n",
      "Liberia\n",
      "Vietnam\n",
      "Ethiopia\n",
      "Turkey\n",
      "Chad\n",
      "China\n",
      "Kenya\n",
      "Lebanon\n",
      "Comoros\n",
      "Slovenia\n",
      "Slovak Republic\n",
      "Bahrain\n",
      "Dominican Republic\n",
      "Iceland\n",
      "Central African Republic\n",
      "Nigeria\n",
      "Thailand\n",
      "Kuwait\n",
      "Hungary\n",
      "Romania\n",
      "Montenegro\n",
      "Croatia\n",
      "Ireland\n",
      "Finland\n",
      "Jamaica\n",
      "El Salvador\n",
      "Tunisia\n",
      "Peru\n",
      "Mauritius\n",
      "Niger\n",
      "Germany\n",
      "Puerto Rico\n",
      "Czech Republic\n",
      "Djibouti\n",
      "Ecuador\n",
      "United Kingdom\n",
      "Swaziland\n",
      "Guinea-Bissau\n",
      "United States\n",
      "Bosnia and Herzegovina\n",
      "Syria\n",
      "Hong Kong, China\n",
      "Chile\n",
      "Burkina Faso\n",
      "Iraq\n",
      "Togo\n",
      "Canada\n",
      "Portugal\n",
      "Bangladesh\n",
      "Algeria\n",
      "Somalia\n",
      "Egypt\n",
      "Cambodia\n",
      "Mali\n",
      "Korea, Dem. Rep.\n",
      "France\n",
      "Cuba\n",
      "Sri Lanka\n",
      "Libya\n",
      "India\n",
      "Gabon\n",
      "Cameroon\n",
      "Mozambique\n",
      "Taiwan\n",
      "Lesotho\n",
      "Afghanistan\n",
      "Bolivia\n",
      "Mexico\n",
      "Sierra Leone\n",
      "Colombia\n",
      "New Zealand\n",
      "Poland\n",
      "Senegal\n",
      "Spain\n",
      "Nepal\n",
      "Netherlands\n",
      "Madagascar\n",
      "Bulgaria\n",
      "Ghana\n",
      "Italy\n",
      "Israel\n",
      "Singapore\n",
      "Nicaragua\n",
      "Equatorial Guinea\n",
      "Austria\n",
      "Saudi Arabia\n",
      "Australia\n",
      "Greece\n",
      "Paraguay\n",
      "Burundi\n",
      "Guinea\n",
      "Pakistan\n",
      "Korea, Rep.\n",
      "Sweden\n",
      "Yemen, Rep.\n",
      "Myanmar\n",
      "Jordan\n",
      "Norway\n",
      "Malawi\n",
      "Guatemala\n",
      "Sudan\n",
      "Congo, Dem. Rep.\n",
      "Rwanda\n",
      "Morocco\n",
      "Indonesia\n",
      "Benin\n",
      "Denmark\n",
      "South Africa\n",
      "Gambia\n"
     ]
    }
   ],
   "source": [
    "country = dataFrame['country']\n",
    "print(country)\n",
    "print(type(country))\n",
    "countries = set(dataFrame['country'])\n",
    "# print(countries)\n",
    "print(type(countries))\n",
    "for c in countries: print(c)"
   ]
  },
  {
   "cell_type": "code",
   "execution_count": 4,
   "metadata": {},
   "outputs": [
    {
     "name": "stdout",
     "output_type": "stream",
     "text": [
      "       country  year\n",
      "0  Afghanistan  1952\n",
      "1  Afghanistan  1957\n",
      "2  Afghanistan  1962\n",
      "3  Afghanistan  1967\n",
      "4  Afghanistan  1972\n",
      "       country  year\n",
      "1699  Zimbabwe  1987\n",
      "1700  Zimbabwe  1992\n",
      "1701  Zimbabwe  1997\n",
      "1702  Zimbabwe  2002\n",
      "1703  Zimbabwe  2007\n",
      "country    Afghanistan\n",
      "year              1972\n",
      "Name: 4, dtype: object\n",
      "country      Afghanistan\n",
      "continent           Asia\n",
      "year                1972\n",
      "lifeExp           36.088\n",
      "pop             13079460\n",
      "gdpPercap     739.981106\n",
      "Name: 4, dtype: object\n",
      "['Afghanistan', 'Asia', 1972, 36.088, 13079460, 739.9811058]\n"
     ]
    }
   ],
   "source": [
    "a = dataFrame[[\"country\" , \"year\"]]\n",
    "print(a.head())\n",
    "print(a.tail())\n",
    "print(a.iloc[4]) # 4 index data\n",
    "print(dataFrame.iloc[4])\n",
    "print(list(dataFrame.iloc[4]))"
   ]
  },
  {
   "cell_type": "code",
   "execution_count": 5,
   "metadata": {},
   "outputs": [
    {
     "name": "stdout",
     "output_type": "stream",
     "text": [
      "0       Afghanistan\n",
      "1       Afghanistan\n",
      "2       Afghanistan\n",
      "3       Afghanistan\n",
      "4       Afghanistan\n",
      "           ...     \n",
      "1699       Zimbabwe\n",
      "1700       Zimbabwe\n",
      "1701       Zimbabwe\n",
      "1702       Zimbabwe\n",
      "1703       Zimbabwe\n",
      "Name: country, Length: 1704, dtype: object\n",
      "       country continent  year  lifeExp       pop   gdpPercap\n",
      "0  Afghanistan      Asia  1952   28.801   8425333  779.445314\n",
      "2  Afghanistan      Asia  1962   31.997  10267083  853.100710\n",
      "4  Afghanistan      Asia  1972   36.088  13079460  739.981106\n",
      "6  Afghanistan      Asia  1982   39.854  12881816  978.011439\n",
      "8  Afghanistan      Asia  1992   41.674  16317921  649.341395\n",
      "**************************************************\n"
     ]
    }
   ],
   "source": [
    "print(dataFrame.iloc[:,0]) # 0 index se all data\n",
    "print(dataFrame.iloc[range(0,10,2)])\n",
    "# iloc  loc  ix\n",
    "print(\"*\"*50)"
   ]
  },
  {
   "attachments": {},
   "cell_type": "markdown",
   "metadata": {},
   "source": [
    "### group by\n"
   ]
  },
  {
   "cell_type": "code",
   "execution_count": 6,
   "metadata": {},
   "outputs": [
    {
     "name": "stdout",
     "output_type": "stream",
     "text": [
      "country\n",
      "Afghanistan           12\n",
      "Albania               12\n",
      "Algeria               12\n",
      "Angola                12\n",
      "Argentina             12\n",
      "                      ..\n",
      "Vietnam               12\n",
      "West Bank and Gaza    12\n",
      "Yemen, Rep.           12\n",
      "Zambia                12\n",
      "Zimbabwe              12\n",
      "Name: pop, Length: 142, dtype: int64\n",
      "country\n",
      "Afghanistan           189884585\n",
      "Albania                30962990\n",
      "Algeria               238504874\n",
      "Angola                 87712681\n",
      "Argentina             343226879\n",
      "                        ...    \n",
      "Vietnam               654822851\n",
      "West Bank and Gaza     22183278\n",
      "Yemen, Rep.           130118302\n",
      "Zambia                 76245658\n",
      "Zimbabwe               91703593\n",
      "Name: pop, Length: 142, dtype: int64\n",
      "                     year  lifeExp        pop      gdpPercap\n",
      "country                                                     \n",
      "Afghanistan         23754  449.746  189884585    9632.095181\n",
      "Albania             23754  821.195   30962990   39064.399592\n",
      "Algeria             23754  708.362  238504874   53112.311678\n",
      "Angola              23754  454.602   87712681   43285.206346\n",
      "Argentina           23754  828.725  343226879  107466.645392\n",
      "...                   ...      ...        ...            ...\n",
      "Vietnam             23754  689.754  654822851   12212.551382\n",
      "West Bank and Gaza  23754  723.944   22183278   45119.961375\n",
      "Yemen, Rep.         23754  561.365  130118302   18831.296066\n",
      "Zambia              23754  551.956   76245658   16298.392908\n",
      "Zimbabwe            23754  631.958   91703593    7630.296508\n",
      "\n",
      "[142 rows x 4 columns]\n"
     ]
    }
   ],
   "source": [
    "print(dataFrame.groupby(\"country\")[\"pop\"].count())\n",
    "print(dataFrame.groupby(\"country\")[\"pop\"].sum())\n",
    "# print(dataFrame.groupby(\"country\").sum()[\"pop\"])\n",
    "\n",
    "# SQL -->  select sum(population) from country group by name\n",
    "print(dataFrame.groupby(\"country\").sum())"
   ]
  },
  {
   "attachments": {},
   "cell_type": "markdown",
   "metadata": {},
   "source": [
    "### Create DataFrame\n"
   ]
  },
  {
   "cell_type": "code",
   "execution_count": 7,
   "metadata": {},
   "outputs": [
    {
     "name": "stdout",
     "output_type": "stream",
     "text": [
      "   roll_number     name      city\n",
      "0          101   Sameer    Ujjain\n",
      "1          102   Sudhir    Indore\n",
      "2          103  Sandeep  Shajapur\n",
      "3          104   pankaj    Indore\n",
      "4          105    Rahul    Mumbai\n",
      "<class 'pandas.core.frame.DataFrame'>\n",
      "RangeIndex: 5 entries, 0 to 4\n",
      "Data columns (total 3 columns):\n",
      " #   Column       Non-Null Count  Dtype \n",
      "---  ------       --------------  ----- \n",
      " 0   roll_number  5 non-null      int64 \n",
      " 1   name         5 non-null      object\n",
      " 2   city         5 non-null      object\n",
      "dtypes: int64(1), object(2)\n",
      "memory usage: 248.0+ bytes\n",
      "None\n"
     ]
    }
   ],
   "source": [
    "import pandas\n",
    "myDataFrame = pandas.DataFrame(\n",
    "    {\n",
    "        \"roll_number\":[101,102,103,104,105],\n",
    "        \"name\":[\"Sameer\",\"Sudhir\",\"Sandeep\",\"pankaj\",\"Rahul\"],\n",
    "        \"city\":[\"Ujjain\",\"Indore\",\"Shajapur\",\"Indore\",\"Mumbai\"]\n",
    "    }\n",
    ")\n",
    "print(myDataFrame)\n",
    "print(myDataFrame.info())"
   ]
  },
  {
   "attachments": {},
   "cell_type": "markdown",
   "metadata": {},
   "source": [
    "#### SQL --> JOIN\n",
    "### merge to dataFrame with inner (join)"
   ]
  },
  {
   "cell_type": "code",
   "execution_count": 8,
   "metadata": {},
   "outputs": [
    {
     "name": "stdout",
     "output_type": "stream",
     "text": [
      "   student_roll_number student_name  city_code city_name\n",
      "0                  101       Sameer          1    Ujjain\n",
      "1                  102       Sudhir          2     Dewas\n",
      "2                  103       pankaj          2     Dewas\n",
      "3                  204        Rahul          4    Mumbai\n"
     ]
    }
   ],
   "source": [
    "import pandas\n",
    "\n",
    "citiesDataFrame=pandas.DataFrame(\n",
    "    {\n",
    "        \"city_code\":[1,2,3,4,5,6],\n",
    "        \"city_name\":[\"Ujjain\",\"Dewas\",\"Indore\",\"Mumbai\",\"Pune\",\"Goa\"]\n",
    "    }\n",
    ")\n",
    "\n",
    "studentsDataFrame=pandas.DataFrame(\n",
    "    {\n",
    "        \"student_roll_number\":[101,102,103,204],\n",
    "        \"student_name\":[\"Sameer\",\"Sudhir\",\"pankaj\",\"Rahul\"],\n",
    "        \"city_code\":[1,2,2,4]\n",
    "    }\n",
    ")\n",
    "\n",
    "stud = pandas.merge(studentsDataFrame,citiesDataFrame, how=\"inner\",on=[\"city_code\"])\n",
    "\n",
    "print(stud)"
   ]
  },
  {
   "cell_type": "code",
   "execution_count": 9,
   "metadata": {},
   "outputs": [
    {
     "name": "stdout",
     "output_type": "stream",
     "text": [
      "   student_roll_number student_name  city_code city_name\n",
      "0                  101       Sameer          1    Ujjain\n",
      "1                  102       Sudhir          2     Dewas\n",
      "2                  103       pankaj          2     Dewas\n",
      "3                  204        Rahul          4    Mumbai\n",
      "   student_roll_number student_name  city_code city_name\n",
      "0                101.0       Sameer          1    Ujjain\n",
      "1                102.0       Sudhir          2     Dewas\n",
      "2                103.0       pankaj          2     Dewas\n",
      "3                  NaN          NaN          3    Indore\n",
      "4                204.0        Rahul          4    Mumbai\n",
      "5                  NaN          NaN          5      Pune\n",
      "6                  NaN          NaN          6       Goa\n"
     ]
    }
   ],
   "source": [
    "# left join , right join\n",
    "stud = pandas.merge(studentsDataFrame,citiesDataFrame, how=\"left\",on=[\"city_code\"])\n",
    "\n",
    "print(stud)\n",
    "\n",
    "stud = pandas.merge(studentsDataFrame,citiesDataFrame, how=\"right\",on=[\"city_code\"])\n",
    "\n",
    "print(stud)\n"
   ]
  },
  {
   "attachments": {},
   "cell_type": "markdown",
   "metadata": {},
   "source": [
    "---\n",
    "# Assignment \n",
    "* pandas.series\n",
    "* iloc\n",
    "* loc\n",
    "* nunique\n"
   ]
  },
  {
   "attachments": {},
   "cell_type": "markdown",
   "metadata": {},
   "source": [
    "#### iloc \n",
    "* Access a group of rows and columns by integer position(s).\n",
    "* Purely integer-location based indexing for selection by position."
   ]
  },
  {
   "cell_type": "code",
   "execution_count": 10,
   "metadata": {},
   "outputs": [
    {
     "name": "stdout",
     "output_type": "stream",
     "text": [
      "country      Afghanistan\n",
      "continent           Asia\n",
      "year                1952\n",
      "lifeExp           28.801\n",
      "pop              8425333\n",
      "gdpPercap     779.445314\n",
      "Name: 0, dtype: object\n",
      "<class 'pandas.core.series.Series'>\n",
      "       country continent  year  lifeExp      pop   gdpPercap\n",
      "0  Afghanistan      Asia  1952   28.801  8425333  779.445314\n",
      "<class 'pandas.core.frame.DataFrame'>\n",
      "          country continent  year  lifeExp       pop   gdpPercap\n",
      "0     Afghanistan      Asia  1952   28.801   8425333  779.445314\n",
      "2     Afghanistan      Asia  1962   31.997  10267083  853.100710\n",
      "4     Afghanistan      Asia  1972   36.088  13079460  739.981106\n",
      "6     Afghanistan      Asia  1982   39.854  12881816  978.011439\n",
      "8     Afghanistan      Asia  1992   41.674  16317921  649.341395\n",
      "...           ...       ...   ...      ...       ...         ...\n",
      "1694     Zimbabwe    Africa  1962   52.358   4277736  527.272182\n",
      "1696     Zimbabwe    Africa  1972   55.635   5861135  799.362176\n",
      "1698     Zimbabwe    Africa  1982   60.363   7636524  788.855041\n",
      "1700     Zimbabwe    Africa  1992   60.377  10704340  693.420786\n",
      "1702     Zimbabwe    Africa  2002   39.989  11926563  672.038623\n",
      "\n",
      "[852 rows x 6 columns]\n"
     ]
    }
   ],
   "source": [
    "# iloc\n",
    "import pandas\n",
    "dataFrame = pandas.read_csv(\"data/data26/video26_dataset_1.tsv\" , sep='\\t')\n",
    "print(dataFrame.iloc[0]) # 0 index ka data means ==> zeroth row (series)\n",
    "print(type(dataFrame.iloc[0]))\n",
    "# lst=list(dataFrame.iloc[0])\n",
    "print(dataFrame.iloc[[0]]) # 0 index ka data matlab ==> zeroth row(dataframe)\n",
    "print(type(dataFrame.iloc[[0]]))\n",
    "# lst2=dataFrame.iloc[[True,False,True]]\n",
    "lst2=dataFrame.iloc[lambda x: x.index % 2 == 0]\n",
    "# print(lst)\n",
    "print(lst2)"
   ]
  },
  {
   "cell_type": "code",
   "execution_count": 11,
   "metadata": {},
   "outputs": [
    {
     "name": "stdout",
     "output_type": "stream",
     "text": [
      "Asia\n",
      "<class 'str'>\n",
      "       country continent  year  lifeExp       pop   gdpPercap\n",
      "0  Afghanistan      Asia  1952   28.801   8425333  779.445314\n",
      "4  Afghanistan      Asia  1972   36.088  13079460  739.981106\n",
      "<class 'pandas.core.frame.DataFrame'>\n",
      "       country  year\n",
      "0  Afghanistan  1952\n",
      "4  Afghanistan  1972\n"
     ]
    }
   ],
   "source": [
    "# print(dataFrame.iloc[4])\n",
    "a=dataFrame.iloc[4,1] #4th row ka 1 index\n",
    "print(a)\n",
    "print(type(dataFrame.iloc[4,1]))\n",
    "print(dataFrame.iloc[[0,4]]) # 0th row and 4th row\n",
    "print(type(dataFrame.iloc[[0,4]])) # 0th row and 4th row\n",
    "\n",
    "print((dataFrame.iloc[[0,4]][['country','year']]))\n"
   ]
  },
  {
   "cell_type": "code",
   "execution_count": 12,
   "metadata": {},
   "outputs": [
    {
     "name": "stdout",
     "output_type": "stream",
     "text": [
      "       country continent  year  lifeExp       pop   gdpPercap\n",
      "0  Afghanistan      Asia  1952   28.801   8425333  779.445314\n",
      "1  Afghanistan      Asia  1957   30.332   9240934  820.853030\n",
      "2  Afghanistan      Asia  1962   31.997  10267083  853.100710\n",
      "  continent  lifeExp\n",
      "0      Asia   28.801\n",
      "2      Asia   31.997\n",
      "       country continent  year\n",
      "1  Afghanistan      Asia  1957\n",
      "2  Afghanistan      Asia  1962\n"
     ]
    }
   ],
   "source": [
    "print(dataFrame.iloc[:3])\n",
    "print(dataFrame.iloc[[0,2],[1,3]])\n",
    "print(dataFrame.iloc[1:3,0:3])"
   ]
  },
  {
   "cell_type": "code",
   "execution_count": 13,
   "metadata": {},
   "outputs": [
    {
     "name": "stdout",
     "output_type": "stream",
     "text": [
      "          country  year\n",
      "0     Afghanistan  1952\n",
      "1     Afghanistan  1957\n",
      "2     Afghanistan  1962\n",
      "3     Afghanistan  1967\n",
      "4     Afghanistan  1972\n",
      "...           ...   ...\n",
      "1699     Zimbabwe  1987\n",
      "1700     Zimbabwe  1992\n",
      "1701     Zimbabwe  1997\n",
      "1702     Zimbabwe  2002\n",
      "1703     Zimbabwe  2007\n",
      "\n",
      "[1704 rows x 2 columns]\n",
      "     continent  year\n",
      "0         Asia  1952\n",
      "1         Asia  1957\n",
      "2         Asia  1962\n",
      "3         Asia  1967\n",
      "4         Asia  1972\n",
      "...        ...   ...\n",
      "1699    Africa  1987\n",
      "1700    Africa  1992\n",
      "1701    Africa  1997\n",
      "1702    Africa  2002\n",
      "1703    Africa  2007\n",
      "\n",
      "[1704 rows x 2 columns]\n"
     ]
    }
   ],
   "source": [
    "print(dataFrame.iloc[:,[True,False,True,False,False,False]])\n",
    "print(dataFrame.iloc[: , lambda x : [1,2]])"
   ]
  },
  {
   "attachments": {},
   "cell_type": "markdown",
   "metadata": {},
   "source": [
    "### loc\n",
    "* Access a group of rows and columns by label(s) or a boolean array.\n",
    "* Purely label-location based indexer for selection by label."
   ]
  },
  {
   "cell_type": "code",
   "execution_count": 14,
   "metadata": {},
   "outputs": [
    {
     "name": "stdout",
     "output_type": "stream",
     "text": [
      "RangeIndex(start=0, stop=1704, step=1)\n",
      "['Afghanistan', 'Asia', 1977, 38.438, 14880372, 786.11336]\n",
      "['Afghanistan', 'Asia', 1977, 38.438, 14880372, 786.11336]\n"
     ]
    }
   ],
   "source": [
    "dataFrame = pandas.read_csv('data/data26/video26_dataset_1.tsv',sep=\"\\t\")\n",
    "# print(dataFrame)\n",
    "# print(dataFrame['year'])\n",
    "print(dataFrame.index) # RangeIndex(start=0, stop=1704, step=1)\n",
    "print(list(dataFrame.loc[5]))\n",
    "print(list(dataFrame.iloc[5]))"
   ]
  },
  {
   "cell_type": "code",
   "execution_count": 15,
   "metadata": {},
   "outputs": [
    {
     "name": "stdout",
     "output_type": "stream",
     "text": [
      "       country continent  year  lifeExp       pop  gdpPercap\n",
      "5  Afghanistan      Asia  1977   38.438  14880372  786.11336\n",
      "1  Afghanistan      Asia  1957   30.332   9240934  820.85303\n",
      "       country continent  year  lifeExp       pop  gdpPercap\n",
      "5  Afghanistan      Asia  1977   38.438  14880372  786.11336\n",
      "1  Afghanistan      Asia  1957   30.332   9240934  820.85303\n"
     ]
    }
   ],
   "source": [
    "print(dataFrame.iloc[[5,1]])\n",
    "print(dataFrame.loc[[5,1]])"
   ]
  },
  {
   "cell_type": "code",
   "execution_count": 16,
   "metadata": {},
   "outputs": [
    {
     "name": "stdout",
     "output_type": "stream",
     "text": [
      "1977\n",
      "0    1952\n",
      "1    1957\n",
      "2    1962\n",
      "3    1967\n",
      "4    1972\n",
      "5    1977\n",
      "Name: year, dtype: int64\n",
      "   year      country\n",
      "0  1952  Afghanistan\n",
      "1  1957  Afghanistan\n",
      "2  1962  Afghanistan\n",
      "3  1967  Afghanistan\n",
      "4  1972  Afghanistan\n",
      "5  1977  Afghanistan\n",
      "<class 'pandas.core.frame.DataFrame'>\n"
     ]
    }
   ],
   "source": [
    "# print(dataFrame.iloc[0,'year']) not accept the string value , not aplicable\n",
    "print(dataFrame.loc[5,'year']) # 5th index ka year\n",
    "print(dataFrame.loc[0:5,'year'],)\n",
    "print(dataFrame.loc[0:5,['year','country']])\n",
    "# print(type(dataFrame.iloc[:5][['year','country']]))\n",
    "print(type(dataFrame.loc[:5,['year','country']]))\n",
    "\n",
    "\n"
   ]
  },
  {
   "cell_type": "code",
   "execution_count": 17,
   "metadata": {},
   "outputs": [
    {
     "data": {
      "text/html": [
       "<div>\n",
       "<style scoped>\n",
       "    .dataframe tbody tr th:only-of-type {\n",
       "        vertical-align: middle;\n",
       "    }\n",
       "\n",
       "    .dataframe tbody tr th {\n",
       "        vertical-align: top;\n",
       "    }\n",
       "\n",
       "    .dataframe thead th {\n",
       "        text-align: right;\n",
       "    }\n",
       "</style>\n",
       "<table border=\"1\" class=\"dataframe\">\n",
       "  <thead>\n",
       "    <tr style=\"text-align: right;\">\n",
       "      <th></th>\n",
       "      <th>country</th>\n",
       "      <th>continent</th>\n",
       "      <th>year</th>\n",
       "      <th>lifeExp</th>\n",
       "      <th>pop</th>\n",
       "      <th>gdpPercap</th>\n",
       "    </tr>\n",
       "    <tr>\n",
       "      <th>foo</th>\n",
       "      <th></th>\n",
       "      <th></th>\n",
       "      <th></th>\n",
       "      <th></th>\n",
       "      <th></th>\n",
       "      <th></th>\n",
       "    </tr>\n",
       "  </thead>\n",
       "  <tbody>\n",
       "    <tr>\n",
       "      <th>0</th>\n",
       "      <td>Afghanistan</td>\n",
       "      <td>Asia</td>\n",
       "      <td>1952</td>\n",
       "      <td>28.801</td>\n",
       "      <td>8425333</td>\n",
       "      <td>779.445314</td>\n",
       "    </tr>\n",
       "    <tr>\n",
       "      <th>1</th>\n",
       "      <td>Afghanistan</td>\n",
       "      <td>Asia</td>\n",
       "      <td>1957</td>\n",
       "      <td>30.332</td>\n",
       "      <td>9240934</td>\n",
       "      <td>820.853030</td>\n",
       "    </tr>\n",
       "  </tbody>\n",
       "</table>\n",
       "</div>"
      ],
      "text/plain": [
       "         country continent  year  lifeExp      pop   gdpPercap\n",
       "foo                                                           \n",
       "0    Afghanistan      Asia  1952   28.801  8425333  779.445314\n",
       "1    Afghanistan      Asia  1957   30.332  9240934  820.853030"
      ]
     },
     "execution_count": 17,
     "metadata": {},
     "output_type": "execute_result"
    }
   ],
   "source": [
    "dataFrame.loc[pandas.Index([0,1],name=\"foo\")]\n"
   ]
  },
  {
   "attachments": {},
   "cell_type": "markdown",
   "metadata": {},
   "source": [
    "> #### spacial things"
   ]
  },
  {
   "cell_type": "code",
   "execution_count": 18,
   "metadata": {},
   "outputs": [
    {
     "name": "stdout",
     "output_type": "stream",
     "text": [
      "          country continent  year  lifeExp       pop    gdpPercap\n",
      "10    Afghanistan      Asia  2002   42.129  25268405   726.734055\n",
      "11    Afghanistan      Asia  2007   43.828  31889923   974.580338\n",
      "22        Albania    Europe  2002   75.651   3508512  4604.211737\n",
      "23        Albania    Europe  2007   76.423   3600523  5937.029526\n",
      "34        Algeria    Africa  2002   70.994  31287142  5288.040382\n",
      "...           ...       ...   ...      ...       ...          ...\n",
      "1679  Yemen, Rep.      Asia  2007   62.698  22211743  2280.769906\n",
      "1690       Zambia    Africa  2002   39.193  10595811  1071.613938\n",
      "1691       Zambia    Africa  2007   42.384  11746035  1271.211593\n",
      "1702     Zimbabwe    Africa  2002   39.989  11926563   672.038623\n",
      "1703     Zimbabwe    Africa  2007   43.487  12311143   469.709298\n",
      "\n",
      "[284 rows x 6 columns]\n",
      "          country\n",
      "10    Afghanistan\n",
      "11    Afghanistan\n",
      "22        Albania\n",
      "23        Albania\n",
      "34        Algeria\n",
      "...           ...\n",
      "1679  Yemen, Rep.\n",
      "1690       Zambia\n",
      "1691       Zambia\n",
      "1702     Zimbabwe\n",
      "1703     Zimbabwe\n",
      "\n",
      "[284 rows x 1 columns]\n",
      "          country  year\n",
      "10    Afghanistan  2002\n",
      "11    Afghanistan  2007\n",
      "22        Albania  2002\n",
      "23        Albania  2007\n",
      "34        Algeria  2002\n",
      "...           ...   ...\n",
      "1679  Yemen, Rep.  2007\n",
      "1690       Zambia  2002\n",
      "1691       Zambia  2007\n",
      "1702     Zimbabwe  2002\n",
      "1703     Zimbabwe  2007\n",
      "\n",
      "[284 rows x 2 columns]\n"
     ]
    }
   ],
   "source": [
    "print(dataFrame.loc[dataFrame['year']>2000])\n",
    "print(dataFrame.loc[dataFrame['year']>2000 , ['country']])\n",
    "print(dataFrame.loc[dataFrame['year']>2000 , ['country','year']])"
   ]
  },
  {
   "cell_type": "code",
   "execution_count": 19,
   "metadata": {},
   "outputs": [
    {
     "name": "stdout",
     "output_type": "stream",
     "text": [
      "       country continent  year  lifeExp       pop   gdpPercap\n",
      "0  Afghanistan      Asia  2000   28.801   8425333  779.445314\n",
      "1  Afghanistan      Asia  2000   30.332   9240934  820.853030\n",
      "2  Afghanistan      Asia  1962   31.997  10267083  853.100710\n",
      "3  Afghanistan      Asia  1967   34.020  11537966  836.197138\n",
      "4  Afghanistan      Asia  1972   36.088  13079460  739.981106\n",
      "       country continent  year  lifeExp       pop   gdpPercap\n",
      "0  Afghanistan      Asia  3000   28.801   8425333  779.445314\n",
      "1  Afghanistan      Asia  3000   30.332   9240934  820.853030\n",
      "2  Afghanistan      Asia  3000   31.997  10267083  853.100710\n",
      "3  Afghanistan      Asia  3000   34.020  11537966  836.197138\n",
      "4  Afghanistan      Asia  3000   36.088  13079460  739.981106\n",
      "       country continent  year  lifeExp       pop   gdpPercap\n",
      "0           20        20    20   20.000        20   20.000000\n",
      "1  Afghanistan      Asia  3000   30.332   9240934  820.853030\n",
      "2  Afghanistan      Asia  3000   31.997  10267083  853.100710\n",
      "3  Afghanistan      Asia  3000   34.020  11537966  836.197138\n",
      "4  Afghanistan      Asia  3000   36.088  13079460  739.981106\n",
      "          country continent  year  lifeExp       pop   gdpPercap\n",
      "0               0         0     0    0.000         0    0.000000\n",
      "1     Afghanistan      Asia  3000   30.332   9240934  820.853030\n",
      "2     Afghanistan      Asia  3000   31.997  10267083  853.100710\n",
      "3     Afghanistan      Asia  3000   34.020  11537966  836.197138\n",
      "4     Afghanistan      Asia  3000   36.088  13079460  739.981106\n",
      "...           ...       ...   ...      ...       ...         ...\n",
      "1699     Zimbabwe    Africa  3000   62.351   9216418  706.157306\n",
      "1700     Zimbabwe    Africa  3000   60.377  10704340  693.420786\n",
      "1701     Zimbabwe    Africa  3000   46.809  11404948  792.449960\n",
      "1702     Zimbabwe    Africa  3000   39.989  11926563  672.038623\n",
      "1703     Zimbabwe    Africa  3000   43.487  12311143  469.709298\n",
      "\n",
      "[1704 rows x 6 columns]\n"
     ]
    }
   ],
   "source": [
    "# print(dataFrame.loc[lambda df : df['year']==2002])\n",
    "dataFrame.loc[[0,1],['year']] ='2000' # set the year value 2000 for 0 and 1 index \n",
    "print(dataFrame.head())\n",
    "dataFrame.loc[:,['year']]=3000\n",
    "print(dataFrame.head())\n",
    "\n",
    "\n",
    "dataFrame.loc[0]=20 # set all value of 0 index into 20 \n",
    "print(dataFrame.head())\n",
    "\n",
    "dataFrame.loc[dataFrame['year']< 2000] = 0\n",
    "print(dataFrame)"
   ]
  },
  {
   "cell_type": "code",
   "execution_count": 20,
   "metadata": {},
   "outputs": [
    {
     "data": {
      "text/html": [
       "<div>\n",
       "<style scoped>\n",
       "    .dataframe tbody tr th:only-of-type {\n",
       "        vertical-align: middle;\n",
       "    }\n",
       "\n",
       "    .dataframe tbody tr th {\n",
       "        vertical-align: top;\n",
       "    }\n",
       "\n",
       "    .dataframe thead th {\n",
       "        text-align: right;\n",
       "    }\n",
       "</style>\n",
       "<table border=\"1\" class=\"dataframe\">\n",
       "  <thead>\n",
       "    <tr style=\"text-align: right;\">\n",
       "      <th></th>\n",
       "      <th>country</th>\n",
       "      <th>continent</th>\n",
       "      <th>year</th>\n",
       "      <th>lifeExp</th>\n",
       "      <th>pop</th>\n",
       "      <th>gdpPercap</th>\n",
       "    </tr>\n",
       "  </thead>\n",
       "  <tbody>\n",
       "    <tr>\n",
       "      <th>7</th>\n",
       "      <td>Afghanistan</td>\n",
       "      <td>Asia</td>\n",
       "      <td>3000</td>\n",
       "      <td>40.822</td>\n",
       "      <td>13867957</td>\n",
       "      <td>852.395945</td>\n",
       "    </tr>\n",
       "    <tr>\n",
       "      <th>8</th>\n",
       "      <td>Afghanistan</td>\n",
       "      <td>Asia</td>\n",
       "      <td>3000</td>\n",
       "      <td>41.674</td>\n",
       "      <td>16317921</td>\n",
       "      <td>649.341395</td>\n",
       "    </tr>\n",
       "    <tr>\n",
       "      <th>9</th>\n",
       "      <td>Afghanistan</td>\n",
       "      <td>Asia</td>\n",
       "      <td>3000</td>\n",
       "      <td>41.763</td>\n",
       "      <td>22227415</td>\n",
       "      <td>635.341351</td>\n",
       "    </tr>\n",
       "  </tbody>\n",
       "</table>\n",
       "</div>"
      ],
      "text/plain": [
       "       country continent  year  lifeExp       pop   gdpPercap\n",
       "7  Afghanistan      Asia  3000   40.822  13867957  852.395945\n",
       "8  Afghanistan      Asia  3000   41.674  16317921  649.341395\n",
       "9  Afghanistan      Asia  3000   41.763  22227415  635.341351"
      ]
     },
     "execution_count": 20,
     "metadata": {},
     "output_type": "execute_result"
    }
   ],
   "source": [
    "dataFrame.loc[7:9]"
   ]
  },
  {
   "attachments": {},
   "cell_type": "markdown",
   "metadata": {},
   "source": [
    "### multi indexing"
   ]
  },
  {
   "cell_type": "code",
   "execution_count": 21,
   "metadata": {},
   "outputs": [
    {
     "name": "stdout",
     "output_type": "stream",
     "text": [
      "                     max_speed  shield\n",
      "cobra      mark i           12       2\n",
      "           mark ii           0       4\n",
      "sidewinder mark i           10      20\n",
      "           mark ii           1       4\n",
      "viper      mark ii           7       1\n",
      "           mark iii         16      36\n",
      "         max_speed  shield\n",
      "mark i          12       2\n",
      "mark ii          0       4\n"
     ]
    },
    {
     "data": {
      "text/html": [
       "<div>\n",
       "<style scoped>\n",
       "    .dataframe tbody tr th:only-of-type {\n",
       "        vertical-align: middle;\n",
       "    }\n",
       "\n",
       "    .dataframe tbody tr th {\n",
       "        vertical-align: top;\n",
       "    }\n",
       "\n",
       "    .dataframe thead th {\n",
       "        text-align: right;\n",
       "    }\n",
       "</style>\n",
       "<table border=\"1\" class=\"dataframe\">\n",
       "  <thead>\n",
       "    <tr style=\"text-align: right;\">\n",
       "      <th></th>\n",
       "      <th></th>\n",
       "      <th>max_speed</th>\n",
       "      <th>shield</th>\n",
       "    </tr>\n",
       "  </thead>\n",
       "  <tbody>\n",
       "    <tr>\n",
       "      <th rowspan=\"2\" valign=\"top\">cobra</th>\n",
       "      <th>mark i</th>\n",
       "      <td>12</td>\n",
       "      <td>2</td>\n",
       "    </tr>\n",
       "    <tr>\n",
       "      <th>mark ii</th>\n",
       "      <td>0</td>\n",
       "      <td>4</td>\n",
       "    </tr>\n",
       "    <tr>\n",
       "      <th rowspan=\"2\" valign=\"top\">sidewinder</th>\n",
       "      <th>mark i</th>\n",
       "      <td>10</td>\n",
       "      <td>20</td>\n",
       "    </tr>\n",
       "    <tr>\n",
       "      <th>mark ii</th>\n",
       "      <td>1</td>\n",
       "      <td>4</td>\n",
       "    </tr>\n",
       "    <tr>\n",
       "      <th>viper</th>\n",
       "      <th>mark ii</th>\n",
       "      <td>7</td>\n",
       "      <td>1</td>\n",
       "    </tr>\n",
       "  </tbody>\n",
       "</table>\n",
       "</div>"
      ],
      "text/plain": [
       "                    max_speed  shield\n",
       "cobra      mark i          12       2\n",
       "           mark ii          0       4\n",
       "sidewinder mark i          10      20\n",
       "           mark ii          1       4\n",
       "viper      mark ii          7       1"
      ]
     },
     "execution_count": 21,
     "metadata": {},
     "output_type": "execute_result"
    }
   ],
   "source": [
    "import pandas as pd\n",
    "tuples = [\n",
    "   ('cobra', 'mark i'), ('cobra', 'mark ii'),\n",
    "   ('sidewinder', 'mark i'), ('sidewinder', 'mark ii'),\n",
    "   ('viper', 'mark ii'), ('viper', 'mark iii')\n",
    "]\n",
    "index = pd.MultiIndex.from_tuples(tuples)\n",
    "values = [[12, 2], [0, 4], [10, 20],\n",
    "        [1, 4], [7, 1], [16, 36]]\n",
    "df = pd.DataFrame(values, columns=['max_speed', 'shield'], index=index)\n",
    "print(df)\n",
    "print(df.loc['cobra'])\n",
    "df.loc['cobra', 'mark i']\n",
    "df.loc[[('cobra', 'mark ii')]]\n",
    "df.loc[('cobra', 'mark i'), 'shield']\n",
    "df.loc[('cobra', 'mark i'):'viper']\n",
    "df.loc[('cobra', 'mark i'):('viper', 'mark ii')]\n"
   ]
  },
  {
   "attachments": {},
   "cell_type": "markdown",
   "metadata": {},
   "source": [
    "### nunique"
   ]
  },
  {
   "cell_type": "code",
   "execution_count": 22,
   "metadata": {},
   "outputs": [
    {
     "name": "stdout",
     "output_type": "stream",
     "text": [
      "A    3\n",
      "B    2\n",
      "dtype: int64\n",
      "0    1\n",
      "1    2\n",
      "2    2\n",
      "dtype: int64\n"
     ]
    }
   ],
   "source": [
    "import pandas\n",
    "dataFrame = pandas.DataFrame(\n",
    "    {'A': [4, 5, 6], 'B': [4, 1, 1]}\n",
    ")\n",
    "print(dataFrame.nunique()) # a have 3 unique item and b have 2\n",
    "print(dataFrame.nunique(axis=1)) # check unique on column"
   ]
  },
  {
   "attachments": {},
   "cell_type": "markdown",
   "metadata": {},
   "source": [
    "# pandas.series\n",
    "- series is like a column in excel, basically a list of datapoints all of the same type.\n",
    "- one thing that is super useful about series is that you can do vectorized operations (fast computations on everything in the entire series) on them. And you have already seen one."
   ]
  },
  {
   "cell_type": "code",
   "execution_count": 23,
   "metadata": {},
   "outputs": [
    {
     "name": "stdout",
     "output_type": "stream",
     "text": [
      "a    1\n",
      "b    2\n",
      "c    3\n",
      "dtype: int64\n",
      "a    1\n",
      "b    2\n",
      "c    3\n",
      "dtype: int64\n",
      "x   NaN\n",
      "y   NaN\n",
      "z   NaN\n",
      "dtype: float64\n"
     ]
    }
   ],
   "source": [
    "import pandas\n",
    "dct = { \n",
    "    \"a\":1,\n",
    "    \"b\":2,\n",
    "    \"c\":3\n",
    "}\n",
    "\n",
    "series = pandas.Series(data=dct)\n",
    "print(series)\n",
    "\n",
    "series = pandas.Series(data=dct,index=[\"a\",\"b\",\"c\"]) # index should be matched with dct.keys()\n",
    "print(series)\n",
    "\n",
    "error_series = pandas.Series(data=dct , index=['x','y','z']) # invaild series\n",
    "print(error_series) # NOTE that the Index is first build with the keys from the dictionary. After this the Series is reindexed with the given Index values, hence we get all NaN as a result."
   ]
  },
  {
   "cell_type": "code",
   "execution_count": 24,
   "metadata": {},
   "outputs": [
    {
     "name": "stdout",
     "output_type": "stream",
     "text": [
      "0    1\n",
      "1    2\n",
      "2    3\n",
      "3    4\n",
      "dtype: int64\n",
      "0    999\n",
      "1      2\n",
      "2      3\n",
      "3      4\n",
      "dtype: int64\n",
      "[1, 2, 3, 4]\n"
     ]
    }
   ],
   "source": [
    "# Series with List\n",
    "lst = [1,2,3,4]\n",
    "series = pandas.Series(lst)\n",
    "print(series)\n",
    "\n",
    "series.iloc[0] =999\n",
    "print(series) \n",
    "print(lst)"
   ]
  },
  {
   "cell_type": "code",
   "execution_count": 25,
   "metadata": {},
   "outputs": [
    {
     "name": "stdout",
     "output_type": "stream",
     "text": [
      "[999   2]\n",
      "0    999\n",
      "1      2\n",
      "dtype: int64\n",
      "[1 2]\n",
      "0    999\n",
      "1      2\n",
      "dtype: int64\n"
     ]
    }
   ],
   "source": [
    "import numpy\n",
    "r =numpy.array([1, 2])\n",
    "ser = pd.Series(r, copy=False)\n",
    "ser.iloc[0] = 999\n",
    "print(r)\n",
    "print(ser)\n",
    "r =numpy.array([1, 2])\n",
    "ser = pd.Series(r, copy=True)\n",
    "ser.iloc[0] = 999\n",
    "print(r)\n",
    "print(ser)"
   ]
  },
  {
   "cell_type": "code",
   "execution_count": 26,
   "metadata": {},
   "outputs": [
    {
     "name": "stdout",
     "output_type": "stream",
     "text": [
      "a    1\n",
      "b    2\n",
      "c    3\n",
      "dtype: int64\n",
      "Index(['a', 'b', 'c'], dtype='object')\n",
      "<PandasArray>\n",
      "[1, 2, 3]\n",
      "Length: 3, dtype: int64\n",
      "[1 2 3]\n"
     ]
    }
   ],
   "source": [
    "pd.Series(5, index=['a', 'b', 'c', 'd', 'e'])\n",
    "import pandas\n",
    "dct = { \n",
    "    \"a\":1,\n",
    "    \"b\":2,\n",
    "    \"c\":3\n",
    "}\n",
    "series = pandas.Series(data=dct)\n",
    "print(series)\n",
    "\n",
    "print(series.index)\n",
    "print(series.array)\n",
    "print(series.values)"
   ]
  },
  {
   "cell_type": "code",
   "execution_count": 27,
   "metadata": {},
   "outputs": [
    {
     "name": "stdout",
     "output_type": "stream",
     "text": [
      "1\n",
      "a    1\n",
      "b    2\n",
      "c    3\n",
      "dtype: int64\n"
     ]
    }
   ],
   "source": [
    "print(series[0])\n",
    "print(series[:3])"
   ]
  },
  {
   "cell_type": "code",
   "execution_count": 28,
   "metadata": {},
   "outputs": [
    {
     "name": "stdout",
     "output_type": "stream",
     "text": [
      "c    3\n",
      "a    1\n",
      "b    2\n",
      "dtype: int64\n",
      "[1 2 3]\n",
      "1\n",
      "500\n"
     ]
    }
   ],
   "source": [
    "print(series[[2,0,1]])\n",
    "print(series.values)\n",
    "print(series['a'])\n",
    "series['a']=500\n",
    "print(series['a'])"
   ]
  },
  {
   "cell_type": "code",
   "execution_count": 29,
   "metadata": {},
   "outputs": [
    {
     "name": "stdout",
     "output_type": "stream",
     "text": [
      "a    500\n",
      "dtype: int64\n",
      "a     True\n",
      "b    False\n",
      "c    False\n",
      "dtype: bool\n"
     ]
    }
   ],
   "source": [
    "print(series[series > 100])\n",
    "print(series>100)\n"
   ]
  },
  {
   "cell_type": "code",
   "execution_count": 30,
   "metadata": {},
   "outputs": [
    {
     "name": "stdout",
     "output_type": "stream",
     "text": [
      "a    500\n",
      "b     -2\n",
      "c     -3\n",
      "dtype: int64\n"
     ]
    },
    {
     "data": {
      "text/plain": [
       "a     True\n",
       "b    False\n",
       "c    False\n",
       "dtype: bool"
      ]
     },
     "execution_count": 30,
     "metadata": {},
     "output_type": "execute_result"
    }
   ],
   "source": [
    "# you can mutate the data too\n",
    "# you'll just need to be careful with this!\n",
    "series[series < 100] *= -1\n",
    "print(series)\n",
    "series > 0"
   ]
  },
  {
   "cell_type": "code",
   "execution_count": 31,
   "metadata": {},
   "outputs": [
    {
     "data": {
      "text/plain": [
       "a    1000\n",
       "b      -4\n",
       "c      -6\n",
       "dtype: int64"
      ]
     },
     "execution_count": 31,
     "metadata": {},
     "output_type": "execute_result"
    }
   ],
   "source": [
    "series+series"
   ]
  },
  {
   "cell_type": "code",
   "execution_count": 32,
   "metadata": {},
   "outputs": [],
   "source": [
    "# numpy.exp(series)"
   ]
  },
  {
   "cell_type": "code",
   "execution_count": 33,
   "metadata": {},
   "outputs": [
    {
     "name": "stdout",
     "output_type": "stream",
     "text": [
      "165.0\n"
     ]
    },
    {
     "data": {
      "text/plain": [
       "a    NaN\n",
       "b   -4.0\n",
       "c   -6.0\n",
       "dtype: float64"
      ]
     },
     "execution_count": 33,
     "metadata": {},
     "output_type": "execute_result"
    }
   ],
   "source": [
    "print(series.mean())\n",
    "# just be careful with some operations\n",
    "# if the indexes don't match up you will get nans\n",
    "series+series[series < 100]"
   ]
  },
  {
   "cell_type": "code",
   "execution_count": 34,
   "metadata": {},
   "outputs": [
    {
     "data": {
      "text/html": [
       "<div>\n",
       "<style scoped>\n",
       "    .dataframe tbody tr th:only-of-type {\n",
       "        vertical-align: middle;\n",
       "    }\n",
       "\n",
       "    .dataframe tbody tr th {\n",
       "        vertical-align: top;\n",
       "    }\n",
       "\n",
       "    .dataframe thead th {\n",
       "        text-align: right;\n",
       "    }\n",
       "</style>\n",
       "<table border=\"1\" class=\"dataframe\">\n",
       "  <thead>\n",
       "    <tr style=\"text-align: right;\">\n",
       "      <th></th>\n",
       "      <th>one</th>\n",
       "      <th>two</th>\n",
       "    </tr>\n",
       "  </thead>\n",
       "  <tbody>\n",
       "    <tr>\n",
       "      <th>a</th>\n",
       "      <td>1.0</td>\n",
       "      <td>1.0</td>\n",
       "    </tr>\n",
       "    <tr>\n",
       "      <th>b</th>\n",
       "      <td>2.0</td>\n",
       "      <td>2.0</td>\n",
       "    </tr>\n",
       "    <tr>\n",
       "      <th>c</th>\n",
       "      <td>3.0</td>\n",
       "      <td>3.0</td>\n",
       "    </tr>\n",
       "    <tr>\n",
       "      <th>d</th>\n",
       "      <td>NaN</td>\n",
       "      <td>4.0</td>\n",
       "    </tr>\n",
       "  </tbody>\n",
       "</table>\n",
       "</div>"
      ],
      "text/plain": [
       "   one  two\n",
       "a  1.0  1.0\n",
       "b  2.0  2.0\n",
       "c  3.0  3.0\n",
       "d  NaN  4.0"
      ]
     },
     "execution_count": 34,
     "metadata": {},
     "output_type": "execute_result"
    }
   ],
   "source": [
    "d = {'one' : pd.Series([1., 2., 3.], index=['a', 'b', 'c']),\n",
    "    'two' : pd.Series([1., 2., 3., 4.], index=['a', 'b', 'c', 'd'])}\n",
    "\n",
    "df = pd.DataFrame(d)\n",
    "\n",
    "df"
   ]
  }
 ],
 "metadata": {
  "kernelspec": {
   "display_name": "base",
   "language": "python",
   "name": "python3"
  },
  "language_info": {
   "codemirror_mode": {
    "name": "ipython",
    "version": 3
   },
   "file_extension": ".py",
   "mimetype": "text/x-python",
   "name": "python",
   "nbconvert_exporter": "python",
   "pygments_lexer": "ipython3",
   "version": "3.9.13"
  },
  "orig_nbformat": 4,
  "vscode": {
   "interpreter": {
    "hash": "130826a50b4030fecff09c60f733bc90a93922839765dc4abeb8c6376ff802e4"
   }
  }
 },
 "nbformat": 4,
 "nbformat_minor": 2
}
