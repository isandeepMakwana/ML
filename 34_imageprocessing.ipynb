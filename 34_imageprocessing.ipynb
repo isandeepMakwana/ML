{
 "cells": [
  {
   "attachments": {},
   "cell_type": "markdown",
   "metadata": {},
   "source": [
    "# Gray Scale \n",
    "- When R G B are the same it makes grayscale\n",
    "a=b=c\n",
    "- but imread return matrix with BGR(black green red)\n"
   ]
  },
  {
   "cell_type": "code",
   "execution_count": 2,
   "metadata": {},
   "outputs": [
    {
     "name": "stdout",
     "output_type": "stream",
     "text": [
      "[[[17 12 14]\n",
      "  [16 11 13]\n",
      "  [16 11 13]\n",
      "  ...\n",
      "  [13 11 11]\n",
      "  [13 11 11]\n",
      "  [11 11 11]]\n",
      "\n",
      " [[18 13 15]\n",
      "  [16 11 13]\n",
      "  [17 12 14]\n",
      "  ...\n",
      "  [13 11 11]\n",
      "  [13 11 11]\n",
      "  [11 11 11]]\n",
      "\n",
      " [[18 13 15]\n",
      "  [17 12 14]\n",
      "  [17 12 14]\n",
      "  ...\n",
      "  [13 11 11]\n",
      "  [13 11 11]\n",
      "  [11 11 11]]\n",
      "\n",
      " ...\n",
      "\n",
      " [[11 11 11]\n",
      "  [11 11 11]\n",
      "  [12 12 12]\n",
      "  ...\n",
      "  [43 40 32]\n",
      "  [38 35 27]\n",
      "  [34 28 23]]\n",
      "\n",
      " [[10 10 10]\n",
      "  [11 11 11]\n",
      "  [11 11 11]\n",
      "  ...\n",
      "  [34 30 25]\n",
      "  [37 33 28]\n",
      "  [37 31 26]]\n",
      "\n",
      " [[10 10 10]\n",
      "  [11 11 11]\n",
      "  [11 11 11]\n",
      "  ...\n",
      "  [33 29 24]\n",
      "  [34 30 25]\n",
      "  [37 31 26]]]\n",
      "<class 'numpy.ndarray'>\n",
      "(5906, 3937, 3)\n",
      "[17 12 14]\n"
     ]
    }
   ],
   "source": [
    "# convert to Matrix\n",
    "import cv2\n",
    "imageData = cv2.imread(\"Image_processing/images/image_2.jpeg\")\n",
    "print(imageData)\n",
    "print(type(imageData))\n",
    "print(imageData.shape)\n",
    "print(imageData[0][0])"
   ]
  },
  {
   "cell_type": "code",
   "execution_count": 3,
   "metadata": {},
   "outputs": [
    {
     "data": {
      "text/plain": [
       "True"
      ]
     },
     "execution_count": 3,
     "metadata": {},
     "output_type": "execute_result"
    }
   ],
   "source": [
    "# convert to grayscale\n",
    "# method 1\n",
    "import cv2\n",
    "imageData = cv2.imread(\"Image_processing/images/image_2.jpeg\")\n",
    "for r in range(imageData.shape[0]):\n",
    "    for c in range(imageData.shape[1]):\n",
    "        rgb = imageData[r][c]\n",
    "        red= int(rgb[2])\n",
    "        green = int(rgb[1])\n",
    "        blue = int(rgb[0])\n",
    "        avg = (red+green+blue)/3\n",
    "        imageData[r][c] = (avg,avg,avg)\n",
    "cv2.imwrite(\"tmpfile.jpg\",imageData)"
   ]
  },
  {
   "cell_type": "code",
   "execution_count": 4,
   "metadata": {},
   "outputs": [
    {
     "name": "stdout",
     "output_type": "stream",
     "text": [
      "done\n"
     ]
    }
   ],
   "source": [
    "#method 2 gray scale\n",
    "import cv2\n",
    "\n",
    "imageData = cv2.imread(\"Image_processing/images/image_1.jpeg\")\n",
    "for r in range(imageData.shape[0]):\n",
    "    for c in range(imageData.shape[1]):\n",
    "        rgb = imageData[r][c]\n",
    "        red = int(rgb[2])\n",
    "        green = int(rgb[1])\n",
    "        blue = int(rgb[0])\n",
    "        if red > green:\n",
    "            clr = red\n",
    "        else:\n",
    "            clr = green\n",
    "        if clr < blue:\n",
    "            clr = blue\n",
    "        imageData[r][c] = (clr, clr, clr)  # image file data is being manipulated\n",
    "cv2.imwrite(\"tmpfile.jpg\", imageData)\n",
    "print(\"done\")\n"
   ]
  },
  {
   "cell_type": "code",
   "execution_count": 5,
   "metadata": {},
   "outputs": [
    {
     "name": "stdout",
     "output_type": "stream",
     "text": [
      "done\n"
     ]
    }
   ],
   "source": [
    "# method 3 gray scale\n",
    "import cv2\n",
    "\n",
    "imageData = cv2.imread(\"Image_processing/images/image_1.jpeg\")\n",
    "for r in range(imageData.shape[0]):\n",
    "    for c in range(imageData.shape[1]):\n",
    "        rgb = imageData[r][c]\n",
    "        red = int(rgb[2])\n",
    "        green = int(rgb[1])\n",
    "        blue = int(rgb[0])\n",
    "        if red < green:\n",
    "            clr = red\n",
    "        else:\n",
    "            clr = green\n",
    "        if clr > blue:\n",
    "            clr = blue\n",
    "        imageData[r][c] = (clr, clr, clr)  # image file data is being manipulated\n",
    "cv2.imwrite(\"tmpfile.jpg\", imageData)\n",
    "print(\"done\")\n"
   ]
  },
  {
   "cell_type": "code",
   "execution_count": 6,
   "metadata": {},
   "outputs": [
    {
     "data": {
      "text/plain": [
       "True"
      ]
     },
     "execution_count": 6,
     "metadata": {},
     "output_type": "execute_result"
    }
   ],
   "source": [
    "# method 4 (recommanded)\n",
    "# Weighted method or luminosity method\n",
    "import cv2\n",
    "imageData = cv2.imread(\"Image_processing/images/image_2.jpeg\")\n",
    "for r in range(imageData.shape[0]):\n",
    "    for c in range(imageData.shape[1]):\n",
    "        rgb = imageData[r][c]\n",
    "        red = (int(rgb[2])*0.3)\n",
    "        green = (int(rgb[1])*0.59)\n",
    "        blue = (int(rgb[0])*0.11)\n",
    "        # imageData[r][c] = (red, green, blue)\n",
    "        total = red + green + blue\n",
    "        imageData[r][c] = (total, total, total)\n",
    "cv2.imwrite(\"tmpfile.jpg\", imageData)\n",
    "\n"
   ]
  },
  {
   "cell_type": "code",
   "execution_count": 7,
   "metadata": {},
   "outputs": [
    {
     "data": {
      "application/vnd.jupyter.widget-view+json": {
       "model_id": "c269f997a26249089d1c78955f57512d",
       "version_major": 2,
       "version_minor": 0
      },
      "text/plain": [
       "  0%|          | 0/5906 [00:00<?, ?it/s]"
      ]
     },
     "metadata": {},
     "output_type": "display_data"
    }
   ],
   "source": [
    "# make a progress bar\n",
    "from tqdm.auto import tqdm\n",
    "imageData = cv2.imread(\"Image_processing/images/image_2.jpeg\")\n",
    "for r in tqdm(range(imageData.shape[0])):\n",
    "    for c in range(imageData.shape[1]):\n",
    "        rgb = imageData[r][c]\n",
    "        red = (int(rgb[2])*0.3)\n",
    "        green = (int(rgb[1])*0.59)\n",
    "        blue = (int(rgb[0])*0.11)\n",
    "        # imageData[r][c] = (red, green, blue)\n",
    "        total = red + green + blue\n",
    "        imageData[r][c] = (total, total, total)\n",
    "cv2.imwrite(\"tmpfile.jpg\", imageData)"
   ]
  },
  {
   "attachments": {},
   "cell_type": "markdown",
   "metadata": {},
   "source": [
    "---\n",
    "# brightness"
   ]
  },
  {
   "cell_type": "code",
   "execution_count": null,
   "metadata": {},
   "outputs": [],
   "source": [
    "# decreses the brightness\n",
    "import cv2\n",
    "\n",
    "imageData = cv2.imread(\"Image_processing/images/image_3.jpeg\")\n",
    "brightness = -150\n",
    "for r in range(imageData.shape[0]):\n",
    "    for c in range(imageData.shape[1]):\n",
    "        rgb = imageData[r][c]\n",
    "        red = rgb[2]\n",
    "        green = rgb[1]\n",
    "        blue = rgb[0]\n",
    "        red += brightness\n",
    "        green += brightness\n",
    "        blue += brightness\n",
    "        if red > 255: red = 255\n",
    "        if red < 0: red = 0\n",
    "        if green > 255: green = 255\n",
    "        if green < 0: green = 0\n",
    "        if blue > 255: blue = 255\n",
    "        if blue < 0: blue = 0\n",
    "        imageData[r][c] = (red, green, blue)\n",
    "cv2.imwrite(\"tmpfile.jpg\", imageData)"
   ]
  },
  {
   "cell_type": "code",
   "execution_count": null,
   "metadata": {},
   "outputs": [],
   "source": [
    "# increses the brightness\n",
    "import cv2\n",
    "\n",
    "imageData = cv2.imread(\"Image_processing/images/image_3.jpeg\")\n",
    "brightness = 150\n",
    "for r in range(imageData.shape[0]):\n",
    "    for c in range(imageData.shape[1]):\n",
    "        rgb = imageData[r][c]\n",
    "        red = rgb[2]\n",
    "        green = rgb[1]\n",
    "        blue = rgb[0]\n",
    "        red += brightness\n",
    "        green += brightness\n",
    "        blue += brightness\n",
    "        if red > 255: red = 255\n",
    "        if red < 0: red = 0\n",
    "        if green > 255: green = 255\n",
    "        if green < 0: green = 0\n",
    "        if blue > 255: blue = 255\n",
    "        if blue < 0: blue = 0\n",
    "        imageData[r][c] = (red, green, blue)\n",
    "cv2.imwrite(\"tmpfile.jpg\", imageData)\n"
   ]
  },
  {
   "attachments": {},
   "cell_type": "markdown",
   "metadata": {},
   "source": [
    "# Contrast"
   ]
  },
  {
   "cell_type": "code",
   "execution_count": null,
   "metadata": {},
   "outputs": [],
   "source": [
    "import cv2\n",
    "imageData = cv2.imread(\"Image_processing/images/image_2.jpeg\")\n",
    "contrast = 50\n",
    "f = (259 * (contrast + 255))/(255 * (259-contrast))\n",
    "for r in range(imageData.shape[0]):\n",
    "    for c in range(imageData.shape[1]):\n",
    "        rgb = imageData[r][c]\n",
    "        red = rgb[2]\n",
    "        green = rgb[1]\n",
    "        blue = rgb[0]\n",
    "        newRed = (f*(red-128))+128\n",
    "        newGreen = (f*(green-128))+128\n",
    "        newBlue = (f*(blue-128))+128\n",
    "        if newRed>255 : newRed=255\n",
    "        if newRed<0 : newRed=0\n",
    "        if newBlue>255 : newBlue=255\n",
    "        if newBlue<0: newBlue=0\n",
    "        if newGreen>255 : newGreen=255\n",
    "        if newGreen<0: newBlue=0\n",
    "        imageData[r][c] = (newRed, newBlue, newGreen)\n",
    "cv2.imwrite(\"tmpFile.jpg\",imageData)\n",
    "print(\"check the tmpfile.jpg\")"
   ]
  },
  {
   "cell_type": "code",
   "execution_count": null,
   "metadata": {},
   "outputs": [],
   "source": [
    "import cv2\n",
    "imageData = cv2.imread(\"Image_processing/images/image_2.jpeg\")\n",
    "contrast = -150\n",
    "f = (259 * (contrast + 255))/(255 * (259-contrast))\n",
    "for r in range(imageData.shape[0]):\n",
    "    for c in range(imageData.shape[1]):\n",
    "        rgb = imageData[r][c]\n",
    "        red = rgb[2]\n",
    "        green = rgb[1]\n",
    "        blue = rgb[0]\n",
    "        newRed = (f*(red-128))+128\n",
    "        newGreen = (f*(green-128))+128\n",
    "        newBlue = (f*(blue-128))+128\n",
    "        if newRed>255 : newRed=255\n",
    "        if newRed<0 : newRed=0\n",
    "        if newBlue>255 : newBlue=255\n",
    "        if newBlue<0: newBlue=0\n",
    "        if newGreen>255 : newGreen=255\n",
    "        if newGreen<0: newBlue=0\n",
    "        imageData[r][c] = (newRed, newBlue, newGreen)\n",
    "cv2.imwrite(\"tmpFile.jpg\",imageData)\n",
    "print(\"check the tmpfile.jpg\")"
   ]
  },
  {
   "attachments": {},
   "cell_type": "markdown",
   "metadata": {},
   "source": [
    "# Crop"
   ]
  },
  {
   "cell_type": "code",
   "execution_count": null,
   "metadata": {},
   "outputs": [],
   "source": [
    "\n",
    "import numpy\n",
    "import cv2\n",
    "\n",
    "imageData = cv2.imread(\"Image_processing/images/image_2.jpeg\")\n",
    "cropFrom = (100, 200)\n",
    "cropSize = (400, 300)\n",
    "\n",
    "c1 = cropFrom[0]\n",
    "r1 = cropFrom[1]\n",
    "c2 = cropSize[0] - 1\n",
    "r2 = cropSize[1] - 1\n",
    "\n",
    "if r2 >= imageData.shape[0]:\n",
    "    r2 = imageData.shape[0] - 1\n",
    "if c2 >= imageData.shape[1]:\n",
    "    c2 = imageData.shape[1] - 1\n",
    "\n",
    "print(\"Actual Sie : \", imageData.shape)\n",
    "cropSize = (c2 - c1 + 1, r2 - r1 + 1)\n",
    "print(cropSize)\n",
    "# print(imageData[0][0])\n",
    "# newImage = numpy.zeros((cropSize[1], cropSize[0], 3))\n",
    "\n",
    "r = r1\n",
    "while r <= r2:\n",
    "    print(r)\n",
    "    imageData[r][c1] = (0, 0, 255)  # black bgr code\n",
    "    imageData[r][c2] = (0, 0, 255)\n",
    "    r += 1\n",
    "\n",
    "c=c1\n",
    "while c <=c2:\n",
    "    print(c)\n",
    "    imageData[r1][c] = (0,0,255)\n",
    "    imageData[r2][c] = (0,0,255)\n",
    "    c +=1\n",
    "\n",
    "cv2.imwrite(\"tmp.jpeg\", imageData)\n",
    "print(\"Done\")"
   ]
  },
  {
   "cell_type": "code",
   "execution_count": null,
   "metadata": {},
   "outputs": [],
   "source": [
    "# import numpy\n",
    "# a = numpy.zeros((10,3))\n",
    "# print(a)\n",
    "\n",
    "import numpy\n",
    "import cv2\n",
    "\n",
    "imageData = cv2.imread(\"Image_processing/images/image_1.jpeg\")\n",
    "cropFrom = (100, 200)\n",
    "cropSize = (400, 300)\n",
    "\n",
    "c1 = cropFrom[0]\n",
    "r1 = cropFrom[1]\n",
    "c2 = cropSize[0] - 1\n",
    "r2 = cropSize[1] - 1\n",
    "\n",
    "if r2 >= imageData.shape[0]:\n",
    "    r2 = imageData.shape[0] - 1\n",
    "if c2 >= imageData.shape[1]:\n",
    "    c2 = imageData.shape[1] - 1\n",
    "\n",
    "print(\"Actual Sie : \", imageData.shape)\n",
    "cropSize = (c2 - c1 + 1, r2 - r1 + 1)\n",
    "print(cropSize)\n",
    "newImage = numpy.zeros((cropSize[1], cropSize[0], 3))\n",
    "rr = 0\n",
    "r = r1\n",
    "while r <= r2:\n",
    "    cc = 0\n",
    "    c = c1\n",
    "    while c <= c2:\n",
    "        newImage[rr][cc] = imageData[r][c]\n",
    "        cc += 1\n",
    "        c += 1\n",
    "    rr += 1\n",
    "    r += 1\n",
    "cv2.imwrite(\"tmp.jpeg\", newImage)\n",
    "print(\"Done\")"
   ]
  },
  {
   "cell_type": "code",
   "execution_count": null,
   "metadata": {},
   "outputs": [],
   "source": [
    "# import numpy\n",
    "# a = numpy.zeros((10,3))\n",
    "# print(a)\n",
    "\n",
    "import numpy\n",
    "import cv2\n",
    "\n",
    "imageData = cv2.imread(\"Image_processing/images/image_1.jpeg\")\n",
    "cropFrom = (100, 200)\n",
    "cropSize = (400, 300)\n",
    "\n",
    "c1 = cropFrom[0]\n",
    "r1 = cropFrom[1]\n",
    "c2 = cropSize[0] - 1\n",
    "r2 = cropSize[1] - 1\n",
    "\n",
    "if r2 >= imageData.shape[0]:\n",
    "    r2 = imageData.shape[0] - 1\n",
    "if c2 >= imageData.shape[1]:\n",
    "    c2 = imageData.shape[1] - 1\n",
    "\n",
    "print(\"Actual Sie : \", imageData.shape)\n",
    "cropSize = (c2 - c1 + 1, r2 - r1 + 1)\n",
    "print(cropSize)\n",
    "newImage = numpy.zeros((cropSize[1], cropSize[0], 3))\n",
    "rr = 0\n",
    "r = r1\n",
    "while r <= r2:\n",
    "    cc = 0\n",
    "    c = c1\n",
    "    while c <= c2:\n",
    "        newImage[rr][cc] = imageData[r][c]\n",
    "        cc += 1\n",
    "        c += 1\n",
    "    rr += 1\n",
    "    r += 1\n",
    "cv2.imwrite(\"tmp.jpeg\", newImage)\n",
    "print(\"Done\")"
   ]
  },
  {
   "cell_type": "code",
   "execution_count": null,
   "metadata": {},
   "outputs": [],
   "source": []
  }
 ],
 "metadata": {
  "kernelspec": {
   "display_name": "base",
   "language": "python",
   "name": "python3"
  },
  "language_info": {
   "codemirror_mode": {
    "name": "ipython",
    "version": 3
   },
   "file_extension": ".py",
   "mimetype": "text/x-python",
   "name": "python",
   "nbconvert_exporter": "python",
   "pygments_lexer": "ipython3",
   "version": "3.9.13"
  },
  "orig_nbformat": 4
 },
 "nbformat": 4,
 "nbformat_minor": 2
}
